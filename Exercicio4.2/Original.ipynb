{
 "cells": [
  {
   "cell_type": "code",
   "execution_count": null,
   "metadata": {},
   "outputs": [],
   "source": [
    "import os\n",
    "\n",
    "import pandas as pd\n",
    "import numpy as np\n",
    "import math\n",
    "\n",
    "from sklearn import preprocessing\n",
    "\n",
    "import tensorflow as tf\n",
    "from tensorflow import keras\n",
    "\n",
    "from keras.layers import Dense\n",
    "from keras.models import Sequential\n",
    "from keras.optimizers import SGD\n",
    "\n",
    "import matplotlib.pyplot as plt"
   ]
  },
  {
   "cell_type": "code",
   "execution_count": null,
   "metadata": {},
   "outputs": [],
   "source": [
    "def prepare_data():\n",
    "    ntot = 100\n",
    "    ntrain = int(0.75*100)\n",
    "    ntest = int(0.15*100)\n",
    "    x = np.random.rand(ntot,1)*2*np.pi\n",
    "    #x = np.linspace(0.0 , 2.0 * np.pi, ntot).reshape(-1, 1)\n",
    "    s=np.random.normal(0,0.1,size = (100,1))\n",
    "    print(s.shape)\n",
    "    print(x.shape)\n",
    "    y=np.sin(x)+s\n",
    "    xtrain, xtest = x[:ntrain], x[ntest:]\n",
    "    ytrain, ytest = y[:ntrain], y[ntest:]\n",
    "    plt.plot(xtrain.T,ytrain.T,color = 'red', marker = \"o\")\n",
    "    plt.title(\"seno\")\n",
    "    plt.xlabel(\"Angulo\")\n",
    "    plt.ylabel(\"Seno\")\n",
    "    plt.grid()\n",
    "    plt.show()\n",
    "    return xtrain, ytrain, xtest, ytest"
   ]
  },
  {
   "cell_type": "code",
   "execution_count": null,
   "metadata": {},
   "outputs": [],
   "source": [
    "def fit_model1(xtrain, ytrain, xtest, ytest, epochs, lr, momentum, patience):\n",
    "    \n",
    "    early_stop = keras.callbacks.EarlyStopping(monitor='val_loss', patience=patience)\n",
    "    # define model\n",
    "    model = Sequential([Dense(10, activation='tanh', input_dim=1),\n",
    "                        Dense(1, activation='linear')\n",
    "                       ])\n",
    "    # compile model\n",
    "    opt = SGD(lr, momentum=momentum)\n",
    "    model.compile(loss='mean_squared_error', optimizer=opt, metrics=['mse'])\n",
    "    model.summary()\n",
    "    # fit model\n",
    "    history = model.fit(xtrain, ytrain, validation_data=(xtest, ytest), epochs=epochs,  batch_size=75, verbose=0, callbacks=[early_stop])\n",
    "    #history = model.fit(xtrain, ytrain, validation_data=(xtest, ytest), epochs=epochs,  batch_size=5, verbose=0)\n",
    "\n",
    "    # plot learning curves\n",
    "    plt.plot(history.history['loss'], label='train')\n",
    "    plt.plot(history.history['val_loss'], label='test')\n",
    "    plt.title('learning rate='+str(lr), pad=-80)\n",
    "    return model"
   ]
  },
  {
   "cell_type": "code",
   "execution_count": null,
   "metadata": {},
   "outputs": [],
   "source": [
    "def fit_model2(xtrain, ytrain, xtest, ytest, epochs, lr, momentum, patience):\n",
    "    \n",
    "    early_stop = keras.callbacks.EarlyStopping(monitor='val_loss', patience=patience)\n",
    "    # define model\n",
    "    model = Sequential([Dense(100, activation='relu', input_dim=1),\n",
    "                        Dense(1, activation='linear')\n",
    "                       ])\n",
    "    # compile model\n",
    "    opt = SGD(lr, momentum=momentum)\n",
    "    model.compile(loss='mean_squared_error', optimizer=opt, metrics=['mse'])\n",
    "    model.summary()\n",
    "    # fit model\n",
    "    history = model.fit(xtrain, ytrain, validation_data=(xtest, ytest), epochs=epochs,  batch_size=5, verbose=0, callbacks=[early_stop])\n",
    "\n",
    "    # plot learning curves\n",
    "    plt.plot(history.history['loss'], label='train')\n",
    "    plt.plot(history.history['val_loss'], label='test')\n",
    "    plt.title('learning rate='+str(lr), pad=-80)\n",
    "    return model"
   ]
  },
  {
   "cell_type": "code",
   "execution_count": null,
   "metadata": {},
   "outputs": [],
   "source": [
    "def fit_model3(xtrain, ytrain, xtest, ytest, epochs, lr, momentum, patience):\n",
    "    \n",
    "    early_stop = keras.callbacks.EarlyStopping(monitor='val_loss', patience=patience)\n",
    "    # define model\n",
    "    #model = Sequential([Dense(10, activation='tanh', input_dim=1),\n",
    "    model = Sequential([Dense(100, activation='relu', input_dim=1),\n",
    "                        Dense(64, activation='relu'),\n",
    "                        Dense(1)\n",
    "                       ])\n",
    "    # compile model\n",
    "    opt = SGD(lr, momentum=momentum)\n",
    "    model.compile(loss='mean_squared_error', optimizer=opt, metrics=['mse'])\n",
    "    model.summary()\n",
    "    # fit model\n",
    "    history = model.fit(xtrain, ytrain, validation_data=(xtest, ytest), epochs=epochs,  batch_size=5, verbose=0, callbacks=[early_stop])\n",
    "\n",
    "    # plot learning curves\n",
    "    plt.plot(history.history['loss'], label='train')\n",
    "    plt.plot(history.history['val_loss'], label='test')\n",
    "    plt.title('learning rate='+str(lr), pad=-80)\n",
    "    return model"
   ]
  },
  {
   "cell_type": "code",
   "execution_count": null,
   "metadata": {},
   "outputs": [],
   "source": [
    "xtrain, ytrain, xtest, ytest = prepare_data()\n",
    "\n",
    "scaler = preprocessing.MinMaxScaler()\n",
    "# fit using the train set\n",
    "scaler.fit(xtrain)\n",
    "# transform the test test\n",
    "xtrainN = scaler.transform(xtrain)\n",
    "xtestN = scaler.transform(xtest) \n",
    "\n",
    "X = np.linspace(0.0 , 2.0 * np.pi, 360).reshape(-1, 1)\n",
    "XN = scaler.transform(X)"
   ]
  },
  {
   "cell_type": "code",
   "execution_count": null,
   "metadata": {},
   "outputs": [],
   "source": [
    "model1 = fit_model1(xtrainN, ytrain, xtestN, ytest, 20000, 0.01, 0.8, 100)"
   ]
  },
  {
   "cell_type": "code",
   "execution_count": null,
   "metadata": {},
   "outputs": [],
   "source": [
    "Y = model1.predict(XN)\n",
    "plt.plot(XN,Y,color = 'red', marker = \"o\")\n",
    "plt.plot(xtrainN.T,ytrain.T,color = 'black', marker= \"+\")\n",
    "plt.title(\"seno\")\n",
    "plt.xlabel(\"Angulo\")\n",
    "plt.ylabel(\"Seno\")\n",
    "plt.grid()\n",
    "plt.show()"
   ]
  },
  {
   "cell_type": "code",
   "execution_count": null,
   "metadata": {},
   "outputs": [],
   "source": [
    "model2 = fit_model2(xtrainN, ytrain, xtestN, ytest, 2000, 0.01, 0.8, 100)"
   ]
  },
  {
   "cell_type": "code",
   "execution_count": null,
   "metadata": {},
   "outputs": [],
   "source": [
    "Y = model2.predict(XN)\n",
    "plt.plot(XN,Y,color = 'red', marker = \"o\")\n",
    "plt.plot(xtrainN.T,ytrain.T,color = 'black', marker= \"+\")\n",
    "plt.title(\"seno\")\n",
    "plt.xlabel(\"Angulo\")\n",
    "plt.ylabel(\"Seno\")\n",
    "plt.grid()\n",
    "plt.show()"
   ]
  },
  {
   "cell_type": "code",
   "execution_count": null,
   "metadata": {},
   "outputs": [],
   "source": [
    "model3 = fit_model3(xtrainN, ytrain, xtestN, ytest, 2000, 0.01, 0.8, 100)"
   ]
  },
  {
   "cell_type": "code",
   "execution_count": null,
   "metadata": {},
   "outputs": [],
   "source": [
    "Y = model3.predict(XN)\n",
    "plt.plot(XN,Y,color = 'red', marker = \"o\")\n",
    "plt.plot(xtrainN.T,ytrain.T,color = 'black', marker= \"+\")\n",
    "plt.title(\"seno\")\n",
    "plt.xlabel(\"Angulo\")\n",
    "plt.ylabel(\"Seno\")\n",
    "plt.grid()\n",
    "plt.show()"
   ]
  },
  {
   "cell_type": "code",
   "execution_count": null,
   "metadata": {},
   "outputs": [],
   "source": [
    "print(XN)\n"
   ]
  },
  {
   "cell_type": "code",
   "execution_count": null,
   "metadata": {},
   "outputs": [],
   "source": []
  }
 ],
 "metadata": {
  "kernelspec": {
   "display_name": "Python 3",
   "language": "python",
   "name": "python3"
  },
  "language_info": {
   "codemirror_mode": {
    "name": "ipython",
    "version": 3
   },
   "file_extension": ".py",
   "mimetype": "text/x-python",
   "name": "python",
   "nbconvert_exporter": "python",
   "pygments_lexer": "ipython3",
   "version": "3.8.5"
  }
 },
 "nbformat": 4,
 "nbformat_minor": 4
}
