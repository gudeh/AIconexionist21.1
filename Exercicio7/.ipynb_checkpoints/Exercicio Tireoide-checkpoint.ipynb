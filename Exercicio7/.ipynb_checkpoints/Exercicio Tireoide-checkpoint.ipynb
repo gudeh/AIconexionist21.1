{
 "cells": [
  {
   "cell_type": "code",
   "execution_count": null,
   "metadata": {
    "colab": {
     "base_uri": "https://localhost:8080/",
     "height": 238
    },
    "executionInfo": {
     "elapsed": 3614,
     "status": "ok",
     "timestamp": 1627161045686,
     "user": {
      "displayName": "Mauro Roisenberg",
      "photoUrl": "",
      "userId": "14628479211278551410"
     },
     "user_tz": 180
    },
    "id": "ONTVLB0nA89y",
    "outputId": "eabfa509-56e7-4ee7-f092-a70a6d438248"
   },
   "outputs": [],
   "source": [
    "import os\n",
    "\n",
    "import pandas as pd\n",
    "import io\n",
    "import requests\n",
    "import numpy as np\n",
    "import math\n",
    "import itertools    \n",
    "\n",
    "from sklearn import preprocessing\n",
    "from sklearn import model_selection\n",
    "from sklearn.utils.class_weight import compute_class_weight\n",
    "from sklearn.metrics import confusion_matrix\n",
    "\n",
    "import tensorflow as tf\n",
    "from tensorflow import keras\n",
    "\n",
    "print(tf.version)\n",
    "\n",
    "from keras.layers import Dense\n",
    "from keras.layers import Dropout\n",
    "from keras.models import Sequential\n",
    "from keras.optimizers import SGD\n",
    "from keras.optimizers import Adam, Adamax, Adagrad, Ftrl\n",
    "\n",
    "import matplotlib.pyplot as plt\n",
    "\n",
    "\n",
    "from rbf_tf.rbflayer import RBFLayer, InitCentersRandom\n",
    "from rbf_tf.kmeans_initializer import InitCentersKMeans\n",
    "\n",
    "url = \"https://archive.ics.uci.edu/ml/machine-learning-databases/thyroid-disease/ann-train.data\"\n",
    "s = requests.get(url).contents=requests.get(url).content\n",
    "dataTrain=pd.read_csv(io.StringIO(s.decode('utf-8')),delimiter=' ',header=None)\n",
    "\n",
    "dataTrain.head()\n",
    "\n",
    "print(dataTrain.shape)\n",
    "dataTrain.head()"
   ]
  },
  {
   "cell_type": "code",
   "execution_count": null,
   "metadata": {
    "executionInfo": {
     "elapsed": 66,
     "status": "ok",
     "timestamp": 1627161045688,
     "user": {
      "displayName": "Mauro Roisenberg",
      "photoUrl": "",
      "userId": "14628479211278551410"
     },
     "user_tz": 180
    },
    "id": "WUYWQzfIA894"
   },
   "outputs": [],
   "source": [
    "del dataTrain[22]\n",
    "del dataTrain[23]\n",
    "\n",
    "\n",
    "del dataTrain[11]\n",
    "del dataTrain[12]\n",
    "del dataTrain[14]"
   ]
  },
  {
   "cell_type": "code",
   "execution_count": null,
   "metadata": {
    "colab": {
     "base_uri": "https://localhost:8080/",
     "height": 204
    },
    "executionInfo": {
     "elapsed": 64,
     "status": "ok",
     "timestamp": 1627161045689,
     "user": {
      "displayName": "Mauro Roisenberg",
      "photoUrl": "",
      "userId": "14628479211278551410"
     },
     "user_tz": 180
    },
    "id": "9sUGNCb1A895",
    "outputId": "ab00fa7b-52cb-4a00-e61d-dd0120e6b1f2",
    "scrolled": true
   },
   "outputs": [],
   "source": [
    "dataTrain.head()"
   ]
  },
  {
   "cell_type": "code",
   "execution_count": null,
   "metadata": {
    "scrolled": false
   },
   "outputs": [],
   "source": [
    "%matplotlib inline\n",
    "import matplotlib.pyplot as plt\n",
    "dataTrain.hist(bins=50, figsize=(20,15))\n",
    "plt.show()"
   ]
  },
  {
   "cell_type": "code",
   "execution_count": null,
   "metadata": {
    "colab": {
     "base_uri": "https://localhost:8080/",
     "height": 204
    },
    "executionInfo": {
     "elapsed": 64,
     "status": "ok",
     "timestamp": 1627161045691,
     "user": {
      "displayName": "Mauro Roisenberg",
      "photoUrl": "",
      "userId": "14628479211278551410"
     },
     "user_tz": 180
    },
    "id": "H0clK1EmA896",
    "outputId": "fae44f5a-5abf-4c3a-dfec-baf772c15902"
   },
   "outputs": [],
   "source": [
    "#Predictor data\n",
    "inputTrain = dataTrain.drop([21], axis=1)\n",
    "inputTrain.head()        "
   ]
  },
  {
   "cell_type": "code",
   "execution_count": null,
   "metadata": {
    "colab": {
     "base_uri": "https://localhost:8080/"
    },
    "executionInfo": {
     "elapsed": 61,
     "status": "ok",
     "timestamp": 1627161045692,
     "user": {
      "displayName": "Mauro Roisenberg",
      "photoUrl": "",
      "userId": "14628479211278551410"
     },
     "user_tz": 180
    },
    "id": "O6cawaraA897",
    "outputId": "00c9b163-75b8-4213-a9ab-d8aea1357b77"
   },
   "outputs": [],
   "source": [
    "#Target data\n",
    "outputTrain = dataTrain[21] - 1\n",
    "outputTrain.head()"
   ]
  },
  {
   "cell_type": "code",
   "execution_count": null,
   "metadata": {
    "colab": {
     "base_uri": "https://localhost:8080/",
     "height": 221
    },
    "executionInfo": {
     "elapsed": 1370,
     "status": "ok",
     "timestamp": 1627161047007,
     "user": {
      "displayName": "Mauro Roisenberg",
      "photoUrl": "",
      "userId": "14628479211278551410"
     },
     "user_tz": 180
    },
    "id": "wXClhA2jA897",
    "outputId": "c2fb0649-da66-466d-b7e5-dc5914e9494c"
   },
   "outputs": [],
   "source": [
    "url = \"https://archive.ics.uci.edu/ml/machine-learning-databases/thyroid-disease/ann-test.data\"\n",
    "s = requests.get(url).contents=requests.get(url).content\n",
    "dataTest=pd.read_csv(io.StringIO(s.decode('utf-8')),delimiter=' ',header=None)\n",
    "\n",
    "dataTest.head()\n",
    "\n",
    "print(dataTest.shape)\n",
    "dataTest.head()"
   ]
  },
  {
   "cell_type": "code",
   "execution_count": null,
   "metadata": {
    "executionInfo": {
     "elapsed": 42,
     "status": "ok",
     "timestamp": 1627161047010,
     "user": {
      "displayName": "Mauro Roisenberg",
      "photoUrl": "",
      "userId": "14628479211278551410"
     },
     "user_tz": 180
    },
    "id": "MBJZQH0fA898"
   },
   "outputs": [],
   "source": [
    "del dataTest[22]\n",
    "del dataTest[23]\n",
    "\n",
    "\n",
    "del dataTest[11]\n",
    "del dataTest[12]\n",
    "del dataTest[14]"
   ]
  },
  {
   "cell_type": "code",
   "execution_count": null,
   "metadata": {},
   "outputs": [],
   "source": [
    "%matplotlib inline\n",
    "import matplotlib.pyplot as plt\n",
    "dataTest.hist(bins=50, figsize=(20,15))\n",
    "plt.show()"
   ]
  },
  {
   "cell_type": "code",
   "execution_count": null,
   "metadata": {
    "executionInfo": {
     "elapsed": 43,
     "status": "ok",
     "timestamp": 1627161047012,
     "user": {
      "displayName": "Mauro Roisenberg",
      "photoUrl": "",
      "userId": "14628479211278551410"
     },
     "user_tz": 180
    },
    "id": "R2SEl2KZA899"
   },
   "outputs": [],
   "source": [
    "inputTest = dataTest.drop([21], axis=1)\n",
    "outputTest = dataTest[21] - 1"
   ]
  },
  {
   "cell_type": "code",
   "execution_count": null,
   "metadata": {
    "executionInfo": {
     "elapsed": 50,
     "status": "ok",
     "timestamp": 1627161047019,
     "user": {
      "displayName": "Mauro Roisenberg",
      "photoUrl": "",
      "userId": "14628479211278551410"
     },
     "user_tz": 180
    },
    "id": "HFsXbrdMA899"
   },
   "outputs": [],
   "source": [
    "scaler = preprocessing.MinMaxScaler()\n",
    "# fit using the train set\n",
    "scaler.fit(inputTrain)\n",
    "# transform the test test\n",
    "xtrainN = scaler.transform(inputTrain)\n",
    "xtestN = scaler.transform(inputTest) "
   ]
  },
  {
   "cell_type": "code",
   "execution_count": null,
   "metadata": {
    "executionInfo": {
     "elapsed": 52,
     "status": "ok",
     "timestamp": 1627161047024,
     "user": {
      "displayName": "Mauro Roisenberg",
      "photoUrl": "",
      "userId": "14628479211278551410"
     },
     "user_tz": 180
    },
    "id": "i7PYjIIomZFl"
   },
   "outputs": [],
   "source": [
    "outputTrain_one_hot = keras.utils.to_categorical(outputTrain)"
   ]
  },
  {
   "cell_type": "code",
   "execution_count": null,
   "metadata": {
    "colab": {
     "base_uri": "https://localhost:8080/"
    },
    "executionInfo": {
     "elapsed": 51,
     "status": "ok",
     "timestamp": 1627161047026,
     "user": {
      "displayName": "Mauro Roisenberg",
      "photoUrl": "",
      "userId": "14628479211278551410"
     },
     "user_tz": 180
    },
    "id": "S1_jcOG0A89-",
    "outputId": "fa4f877c-2e5e-40a0-96cc-2d529523de73"
   },
   "outputs": [],
   "source": [
    "# '''print(\"Proporção das classes no dataset\")\n",
    "# counts = np.bincount(outputTrain)\n",
    "# print(counts)\n",
    "# print(\"Dados de Treinamento:\",  counts/ float(len(outputTrain)))\n",
    "# print(\"Dados de Teste:\", np.bincount(outputTest) / float(len(outputTest)))\n",
    "\n",
    "# peso_classe1 = 1.0/counts[0]\n",
    "# peso_classe2 = 1.0/counts[1]\n",
    "# peso_classe3 = 1.0/counts[2]\n",
    "# '''\n",
    "\n",
    "class_weights = compute_class_weight('balanced', np.unique(outputTrain), outputTrain)\n",
    "print(class_weights)\n",
    "d_class_weights = dict(enumerate(class_weights))"
   ]
  },
  {
   "cell_type": "code",
   "execution_count": null,
   "metadata": {
    "executionInfo": {
     "elapsed": 74,
     "status": "ok",
     "timestamp": 1627161047055,
     "user": {
      "displayName": "Mauro Roisenberg",
      "photoUrl": "",
      "userId": "14628479211278551410"
     },
     "user_tz": 180
    },
    "id": "d7vAF0TFA89_"
   },
   "outputs": [],
   "source": [
    " X_train, X_validation, y_train, y_validation = model_selection.train_test_split(\n",
    "     xtrainN, \n",
    "     outputTrain_one_hot, \n",
    "     test_size = 0.3, \n",
    "     random_state = 1, \n",
    "     stratify=outputTrain\n",
    " )  "
   ]
  },
  {
   "cell_type": "code",
   "execution_count": null,
   "metadata": {
    "colab": {
     "base_uri": "https://localhost:8080/"
    },
    "executionInfo": {
     "elapsed": 74,
     "status": "ok",
     "timestamp": 1627161047058,
     "user": {
      "displayName": "Mauro Roisenberg",
      "photoUrl": "",
      "userId": "14628479211278551410"
     },
     "user_tz": 180
    },
    "id": "e7xiLTRyA89_",
    "outputId": "43fc955d-29c7-440d-937e-6a1b649fcbdc"
   },
   "outputs": [],
   "source": [
    "model = Sequential(\n",
    "    [\n",
    "        keras.Input(shape=(X_train.shape[-1],)),\n",
    "        RBFLayer(700,\n",
    "                     initializer=InitCentersKMeans(X_train),\n",
    "                      betas=13.0),\n",
    "        Dense(3, activation=\"softmax\"),\n",
    "    ]\n",
    ")\n",
    "model.summary()\n",
    "\n",
    "# model = Sequential(\n",
    "#     [\n",
    "#         keras.Input(shape=(X_train.shape[-1],)),\n",
    "#         RBFLayer(700,\n",
    "# #                       initializer=InitCentersRandom(X_train),\n",
    "#                      initializer=InitCentersKMeans(X_train),\n",
    "#                       betas=8.0),\n",
    "# #                       input_shape=(X_train.shape[-1],)),\n",
    "# #         Dense(256, activation=\"selu\", input_shape=(X_train.shape[-1],)\n",
    "# #         ),\n",
    "# #         Dense(256, activation=\"selu\"),\n",
    "# #         Dropout(0.3),\n",
    "# #         Dense(256, activation=\"selu\"),\n",
    "# #         Dropout(0.3),\n",
    "#         Dense(3, activation=\"softmax\"),\n",
    "#     ]\n",
    "# )\n",
    "# model.summary()"
   ]
  },
  {
   "cell_type": "code",
   "execution_count": null,
   "metadata": {
    "colab": {
     "base_uri": "https://localhost:8080/",
     "height": 1000
    },
    "executionInfo": {
     "elapsed": 158938,
     "status": "ok",
     "timestamp": 1627161205929,
     "user": {
      "displayName": "Mauro Roisenberg",
      "photoUrl": "",
      "userId": "14628479211278551410"
     },
     "user_tz": 180
    },
    "id": "UuQ4Jg9oA8-A",
    "outputId": "f2742d8b-8819-4961-aab1-86a2c525f3b5",
    "scrolled": true
   },
   "outputs": [],
   "source": [
    "metrics = [\n",
    "    keras.metrics.FalseNegatives(name=\"fn\"),\n",
    "    keras.metrics.FalsePositives(name=\"fp\"),\n",
    "    keras.metrics.TrueNegatives(name=\"tn\"),\n",
    "    keras.metrics.TruePositives(name=\"tp\"),\n",
    "    keras.metrics.Precision(name=\"precision\"),\n",
    "    keras.metrics.Recall(name=\"recall\"),\n",
    "]\n",
    "\n",
    "model.compile(\n",
    "    optimizer=Adam(1e-3), loss=\"binary_crossentropy\", metrics=metrics\n",
    "#          optimizer=Ftrl(learning_rate=0.001, name=\"Ftrl\"), loss=\"binary_crossentropy\", metrics=metrics\n",
    ")\n",
    "\n",
    "callbacks = [keras.callbacks.ModelCheckpoint(\"thyroid_model_at_epoch_{epoch}.h5\")]\n",
    "\n",
    "history = model.fit(\n",
    "    X_train,\n",
    "    y_train,\n",
    "    batch_size=200,\n",
    "    epochs=500,\n",
    "    verbose=1,\n",
    "    callbacks=callbacks,\n",
    "    validation_data=(X_validation, y_validation),\n",
    "    class_weight=d_class_weights,\n",
    ")\n",
    "\n",
    "plt.plot(history.history['loss'], label='train')\n",
    "plt.plot(history.history['val_loss'], label='test')\n",
    "plt.legend()\n"
   ]
  },
  {
   "cell_type": "code",
   "execution_count": null,
   "metadata": {
    "executionInfo": {
     "elapsed": 692,
     "status": "ok",
     "timestamp": 1627161206593,
     "user": {
      "displayName": "Mauro Roisenberg",
      "photoUrl": "",
      "userId": "14628479211278551410"
     },
     "user_tz": 180
    },
    "id": "I-KfNDpdg6tj"
   },
   "outputs": [],
   "source": [
    "TrainPredictions = model.predict(inputTrain)\n",
    "TrainPredictions = np.argmax(TrainPredictions, axis=1)"
   ]
  },
  {
   "cell_type": "code",
   "execution_count": null,
   "metadata": {
    "colab": {
     "base_uri": "https://localhost:8080/",
     "height": 328
    },
    "executionInfo": {
     "elapsed": 435,
     "status": "ok",
     "timestamp": 1627161207021,
     "user": {
      "displayName": "Mauro Roisenberg",
      "photoUrl": "",
      "userId": "14628479211278551410"
     },
     "user_tz": 180
    },
    "id": "Hzv9ccyjV8u5",
    "outputId": "b95308f0-7a89-4c6f-8ac3-afce0deb7264"
   },
   "outputs": [],
   "source": [
    "conf = confusion_matrix(outputTrain, TrainPredictions)\n",
    "\n",
    "classes = [0, 1, 2]\n",
    "# plot confusion matrix\n",
    "plt.imshow(conf, interpolation='nearest', cmap=plt.cm.Greens)\n",
    "plt.title(\"Train Confusion Matrix\")\n",
    "plt.colorbar()\n",
    "tick_marks = np.arange(len(classes))\n",
    "plt.xticks(tick_marks, classes)\n",
    "plt.yticks(tick_marks, classes)\n",
    "\n",
    "fmt = 'd'\n",
    "thresh = conf.max() / 2.\n",
    "for i, j in itertools.product(range(conf.shape[0]), range(conf.shape[1])):\n",
    "    plt.text(j, i, format(conf[i, j], fmt),\n",
    "             horizontalalignment=\"center\",\n",
    "             color=\"white\" if conf[i, j] > thresh else \"black\")\n",
    "\n",
    "plt.tight_layout()\n",
    "plt.ylabel('True label')\n",
    "plt.xlabel('Predicted label')"
   ]
  },
  {
   "cell_type": "code",
   "execution_count": null,
   "metadata": {
    "colab": {
     "base_uri": "https://localhost:8080/"
    },
    "executionInfo": {
     "elapsed": 32,
     "status": "ok",
     "timestamp": 1627161207025,
     "user": {
      "displayName": "Mauro Roisenberg",
      "photoUrl": "",
      "userId": "14628479211278551410"
     },
     "user_tz": 180
    },
    "id": "nfF7KaksWXqC",
    "outputId": "29d04dfe-bbc9-4e72-ed2b-89dcb079d7b4"
   },
   "outputs": [],
   "source": [
    "print('Confusion Matrix\\n')\n",
    "print(conf)\n",
    "\n",
    "#importing accuracy_score, precision_score, recall_score, f1_score\n",
    "from sklearn.metrics import accuracy_score, precision_score, recall_score, f1_score\n",
    "print('\\nAccuracy: {:.2f}\\n'.format(accuracy_score(outputTrain, TrainPredictions)))\n",
    "\n",
    "print('Micro Precision: {:.2f}'.format(precision_score(outputTrain, TrainPredictions, average='micro')))\n",
    "print('Micro Recall: {:.2f}'.format(recall_score(outputTrain, TrainPredictions, average='micro')))\n",
    "print('Micro F1-score: {:.2f}\\n'.format(f1_score(outputTrain, TrainPredictions, average='micro')))\n",
    "\n",
    "print('Macro Precision: {:.2f}'.format(precision_score(outputTrain, TrainPredictions, average='macro')))\n",
    "print('Macro Recall: {:.2f}'.format(recall_score(outputTrain, TrainPredictions, average='macro')))\n",
    "print('Macro F1-score: {:.2f}\\n'.format(f1_score(outputTrain, TrainPredictions, average='macro')))\n",
    "\n",
    "print('Weighted Precision: {:.2f}'.format(precision_score(outputTrain, TrainPredictions, average='weighted')))\n",
    "print('Weighted Recall: {:.2f}'.format(recall_score(outputTrain, TrainPredictions, average='weighted')))\n",
    "print('Weighted F1-score: {:.2f}'.format(f1_score(outputTrain, TrainPredictions, average='weighted')))\n",
    "\n",
    "from sklearn.metrics import classification_report\n",
    "print('\\nClassification Report\\n')\n",
    "print(classification_report(outputTrain, TrainPredictions, target_names=['Class 1', 'Class 2', 'Class 3']))"
   ]
  },
  {
   "cell_type": "code",
   "execution_count": null,
   "metadata": {
    "executionInfo": {
     "elapsed": 18,
     "status": "ok",
     "timestamp": 1627161207026,
     "user": {
      "displayName": "Mauro Roisenberg",
      "photoUrl": "",
      "userId": "14628479211278551410"
     },
     "user_tz": 180
    },
    "id": "B8X_irRRVwxQ"
   },
   "outputs": [],
   "source": [
    "TestPredictions = model.predict(inputTest)\n",
    "TestPredictions = np.argmax(TestPredictions, axis=1)"
   ]
  },
  {
   "cell_type": "code",
   "execution_count": null,
   "metadata": {
    "colab": {
     "base_uri": "https://localhost:8080/",
     "height": 328
    },
    "executionInfo": {
     "elapsed": 381,
     "status": "ok",
     "timestamp": 1627161207390,
     "user": {
      "displayName": "Mauro Roisenberg",
      "photoUrl": "",
      "userId": "14628479211278551410"
     },
     "user_tz": 180
    },
    "id": "E-xeUrkIA8-A",
    "outputId": "662030e4-4117-4343-cb91-c2763f32e238"
   },
   "outputs": [],
   "source": [
    "conf = confusion_matrix(outputTest, TestPredictions)\n",
    "\n",
    "classes = [0, 1, 2]\n",
    "# plot confusion matrix\n",
    "plt.imshow(conf, interpolation='nearest', cmap=plt.cm.Greens)\n",
    "plt.title(\"Test Confusion Matrix\")\n",
    "plt.colorbar()\n",
    "tick_marks = np.arange(len(classes))\n",
    "plt.xticks(tick_marks, classes)\n",
    "plt.yticks(tick_marks, classes)\n",
    "\n",
    "fmt = 'd'\n",
    "thresh = conf.max() / 2.\n",
    "for i, j in itertools.product(range(conf.shape[0]), range(conf.shape[1])):\n",
    "    plt.text(j, i, format(conf[i, j], fmt),\n",
    "             horizontalalignment=\"center\",\n",
    "             color=\"white\" if conf[i, j] > thresh else \"black\")\n",
    "\n",
    "plt.tight_layout()\n",
    "plt.ylabel('True label')\n",
    "plt.xlabel('Predicted label')"
   ]
  },
  {
   "cell_type": "code",
   "execution_count": null,
   "metadata": {
    "colab": {
     "base_uri": "https://localhost:8080/"
    },
    "executionInfo": {
     "elapsed": 14,
     "status": "ok",
     "timestamp": 1627161207392,
     "user": {
      "displayName": "Mauro Roisenberg",
      "photoUrl": "",
      "userId": "14628479211278551410"
     },
     "user_tz": 180
    },
    "id": "YzVuA0AwL5be",
    "outputId": "537ac605-48b5-4a5b-f781-4fd95cc6fb67"
   },
   "outputs": [],
   "source": [
    "print('Confusion Matrix\\n')\n",
    "print(conf)\n",
    "\n",
    "print('\\nAccuracy: {:.2f}\\n'.format(accuracy_score(outputTest, TestPredictions)))\n",
    "\n",
    "print('Micro Precision: {:.2f}'.format(precision_score(outputTest, TestPredictions, average='micro')))\n",
    "print('Micro Recall: {:.2f}'.format(recall_score(outputTest, TestPredictions, average='micro')))\n",
    "print('Micro F1-score: {:.2f}\\n'.format(f1_score(outputTest, TestPredictions, average='micro')))\n",
    "\n",
    "print('Macro Precision: {:.2f}'.format(precision_score(outputTest, TestPredictions, average='macro')))\n",
    "print('Macro Recall: {:.2f}'.format(recall_score(outputTest, TestPredictions, average='macro')))\n",
    "print('Macro F1-score: {:.2f}\\n'.format(f1_score(outputTest, TestPredictions, average='macro')))\n",
    "\n",
    "print('Weighted Precision: {:.2f}'.format(precision_score(outputTest, TestPredictions, average='weighted')))\n",
    "print('Weighted Recall: {:.2f}'.format(recall_score(outputTest, TestPredictions, average='weighted')))\n",
    "print('Weighted F1-score: {:.2f}'.format(f1_score(outputTest, TestPredictions, average='weighted')))\n",
    "\n",
    "from sklearn.metrics import classification_report\n",
    "print('\\nClassification Report\\n')\n",
    "print(classification_report(outputTest, TestPredictions, target_names=['Class 1', 'Class 2', 'Class 3']))"
   ]
  }
 ],
 "metadata": {
  "colab": {
   "collapsed_sections": [],
   "name": "Exercicio Tireoide.ipynb",
   "provenance": [
    {
     "file_id": "1Z5luJsl-IYT-v9zbj60Xd-Q7WubyB-Vy",
     "timestamp": 1627005465267
    },
    {
     "file_id": "1r6kPh4dwuGaPnd46hCfhz_FsI1cIgIaw",
     "timestamp": 1626995069751
    }
   ]
  },
  "kernelspec": {
   "display_name": "Python 3",
   "language": "python",
   "name": "python3"
  },
  "language_info": {
   "codemirror_mode": {
    "name": "ipython",
    "version": 3
   },
   "file_extension": ".py",
   "mimetype": "text/x-python",
   "name": "python",
   "nbconvert_exporter": "python",
   "pygments_lexer": "ipython3",
   "version": "3.8.5"
  }
 },
 "nbformat": 4,
 "nbformat_minor": 1
}
