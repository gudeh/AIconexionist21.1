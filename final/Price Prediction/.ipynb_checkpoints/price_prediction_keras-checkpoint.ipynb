{
 "cells": [
  {
   "cell_type": "code",
   "execution_count": 123,
   "metadata": {},
   "outputs": [],
   "source": [
    "from IPython.core.debugger import set_trace\n",
    "\n",
    "# %load_ext nb_black\n",
    "\n",
    "import pandas as pd\n",
    "import numpy as np\n",
    "import os\n",
    "import matplotlib.pyplot as plt\n",
    "import time\n",
    "\n",
    "plt.style.use(style=\"seaborn\")\n",
    "%matplotlib inline"
   ]
  },
  {
   "cell_type": "code",
   "execution_count": 124,
   "metadata": {},
   "outputs": [],
   "source": [
    "#df = pd.read_csv(\"data/MSFT-1Y-Hourly.csv\")\n",
    "df=pd.read_csv(\"data/merged.csv\")"
   ]
  },
  {
   "cell_type": "code",
   "execution_count": 125,
   "metadata": {},
   "outputs": [
    {
     "name": "stdout",
     "output_type": "stream",
     "text": [
      "<class 'pandas.core.frame.DataFrame'>\n",
      "RangeIndex: 1462 entries, 0 to 1461\n",
      "Data columns (total 12 columns):\n",
      " #   Column                        Non-Null Count  Dtype  \n",
      "---  ------                        --------------  -----  \n",
      " 0   date                          1462 non-null   object \n",
      " 1   open                          1461 non-null   float64\n",
      " 2   high                          1461 non-null   float64\n",
      " 3   low                           1461 non-null   float64\n",
      " 4   close                         1461 non-null   float64\n",
      " 5   volume                        1461 non-null   float64\n",
      " 6   Close time                    1461 non-null   float64\n",
      " 7   Quote asset volume            1461 non-null   float64\n",
      " 8   Number of trades              1461 non-null   float64\n",
      " 9   Taker buy base asset volume   1461 non-null   float64\n",
      " 10  Taker buy quote asset volume  1461 non-null   float64\n",
      " 11  Ignore                        1461 non-null   float64\n",
      "dtypes: float64(11), object(1)\n",
      "memory usage: 137.2+ KB\n"
     ]
    }
   ],
   "source": [
    "df.info()"
   ]
  },
  {
   "cell_type": "code",
   "execution_count": 126,
   "metadata": {},
   "outputs": [],
   "source": [
    "df.set_index(\"date\", drop=True, inplace=True)"
   ]
  },
  {
   "cell_type": "markdown",
   "metadata": {},
   "source": [
    "We'll use only the close feature."
   ]
  },
  {
   "cell_type": "code",
   "execution_count": 127,
   "metadata": {},
   "outputs": [],
   "source": [
    "df = df[[\"close\"]]"
   ]
  },
  {
   "cell_type": "code",
   "execution_count": 128,
   "metadata": {},
   "outputs": [
    {
     "data": {
      "text/plain": [
       "False"
      ]
     },
     "execution_count": 128,
     "metadata": {},
     "output_type": "execute_result"
    }
   ],
   "source": [
    "type(df[\"close\"]) == type(df[[\"close\"]])"
   ]
  },
  {
   "cell_type": "code",
   "execution_count": 129,
   "metadata": {},
   "outputs": [
    {
     "data": {
      "text/plain": [
       "pandas.core.frame.DataFrame"
      ]
     },
     "execution_count": 129,
     "metadata": {},
     "output_type": "execute_result"
    }
   ],
   "source": [
    "type(df[[\"close\"]])"
   ]
  },
  {
   "cell_type": "code",
   "execution_count": 130,
   "metadata": {},
   "outputs": [
    {
     "data": {
      "text/html": [
       "<div>\n",
       "<style scoped>\n",
       "    .dataframe tbody tr th:only-of-type {\n",
       "        vertical-align: middle;\n",
       "    }\n",
       "\n",
       "    .dataframe tbody tr th {\n",
       "        vertical-align: top;\n",
       "    }\n",
       "\n",
       "    .dataframe thead th {\n",
       "        text-align: right;\n",
       "    }\n",
       "</style>\n",
       "<table border=\"1\" class=\"dataframe\">\n",
       "  <thead>\n",
       "    <tr style=\"text-align: right;\">\n",
       "      <th></th>\n",
       "      <th>close</th>\n",
       "    </tr>\n",
       "  </thead>\n",
       "  <tbody>\n",
       "    <tr>\n",
       "      <th>count</th>\n",
       "      <td>1461.000000</td>\n",
       "    </tr>\n",
       "    <tr>\n",
       "      <th>mean</th>\n",
       "      <td>14556.168884</td>\n",
       "    </tr>\n",
       "    <tr>\n",
       "      <th>std</th>\n",
       "      <td>14288.824617</td>\n",
       "    </tr>\n",
       "    <tr>\n",
       "      <th>min</th>\n",
       "      <td>3189.020000</td>\n",
       "    </tr>\n",
       "    <tr>\n",
       "      <th>25%</th>\n",
       "      <td>6635.650000</td>\n",
       "    </tr>\n",
       "    <tr>\n",
       "      <th>50%</th>\n",
       "      <td>9021.830000</td>\n",
       "    </tr>\n",
       "    <tr>\n",
       "      <th>75%</th>\n",
       "      <td>11945.010000</td>\n",
       "    </tr>\n",
       "    <tr>\n",
       "      <th>max</th>\n",
       "      <td>63575.000000</td>\n",
       "    </tr>\n",
       "  </tbody>\n",
       "</table>\n",
       "</div>"
      ],
      "text/plain": [
       "              close\n",
       "count   1461.000000\n",
       "mean   14556.168884\n",
       "std    14288.824617\n",
       "min     3189.020000\n",
       "25%     6635.650000\n",
       "50%     9021.830000\n",
       "75%    11945.010000\n",
       "max    63575.000000"
      ]
     },
     "execution_count": 130,
     "metadata": {},
     "output_type": "execute_result"
    }
   ],
   "source": [
    "df.describe()"
   ]
  },
  {
   "cell_type": "code",
   "execution_count": 131,
   "metadata": {},
   "outputs": [
    {
     "data": {
      "image/png": "[encoded data removed]",
      "text/plain": [
       "<Figure size 1152x432 with 1 Axes>"
      ]
     },
     "metadata": {
      "needs_background": "light"
     },
     "output_type": "display_data"
    }
   ],
   "source": [
    "plt.figure(1, figsize=(16, 6))\n",
    "_ = plt.plot(df.close)"
   ]
  },
  {
   "cell_type": "markdown",
   "metadata": {},
   "source": [
    "Calculate the percentage change.\n",
    "\n",
    "The reason for using pct_change instead of the prices is the benefit of normalization as we can measure all variables in a comparable metric. Also returns have more manageable statistical properties than prices such as stationarity, as in most cases we don't have stationary prices but we can have stationary returns.\n",
    "\n",
    "A stationary time series is one where statistical properties such as mean, variance, correlation, etc are constant over time.\n",
    "For more details on stationarity: https://en.wikipedia.org/wiki/Stationary_process"
   ]
  },
  {
   "cell_type": "code",
   "execution_count": 132,
   "metadata": {},
   "outputs": [],
   "source": [
    "df[\"returns\"] = df.close.pct_change()"
   ]
  },
  {
   "cell_type": "code",
   "execution_count": 133,
   "metadata": {},
   "outputs": [
    {
     "data": {
      "text/html": [
       "<div>\n",
       "<style scoped>\n",
       "    .dataframe tbody tr th:only-of-type {\n",
       "        vertical-align: middle;\n",
       "    }\n",
       "\n",
       "    .dataframe tbody tr th {\n",
       "        vertical-align: top;\n",
       "    }\n",
       "\n",
       "    .dataframe thead th {\n",
       "        text-align: right;\n",
       "    }\n",
       "</style>\n",
       "<table border=\"1\" class=\"dataframe\">\n",
       "  <thead>\n",
       "    <tr style=\"text-align: right;\">\n",
       "      <th></th>\n",
       "      <th>close</th>\n",
       "      <th>returns</th>\n",
       "    </tr>\n",
       "    <tr>\n",
       "      <th>date</th>\n",
       "      <th></th>\n",
       "      <th></th>\n",
       "    </tr>\n",
       "  </thead>\n",
       "  <tbody>\n",
       "    <tr>\n",
       "      <th>1.50E+12</th>\n",
       "      <td>4834.91</td>\n",
       "      <td>NaN</td>\n",
       "    </tr>\n",
       "    <tr>\n",
       "      <th>1.50E+12</th>\n",
       "      <td>4472.14</td>\n",
       "      <td>-0.075031</td>\n",
       "    </tr>\n",
       "    <tr>\n",
       "      <th>1.50E+12</th>\n",
       "      <td>4509.08</td>\n",
       "      <td>0.008260</td>\n",
       "    </tr>\n",
       "    <tr>\n",
       "      <th>1.50E+12</th>\n",
       "      <td>4100.11</td>\n",
       "      <td>-0.090699</td>\n",
       "    </tr>\n",
       "    <tr>\n",
       "      <th>1.50E+12</th>\n",
       "      <td>4366.47</td>\n",
       "      <td>0.064964</td>\n",
       "    </tr>\n",
       "  </tbody>\n",
       "</table>\n",
       "</div>"
      ],
      "text/plain": [
       "            close   returns\n",
       "date                       \n",
       "1.50E+12  4834.91       NaN\n",
       "1.50E+12  4472.14 -0.075031\n",
       "1.50E+12  4509.08  0.008260\n",
       "1.50E+12  4100.11 -0.090699\n",
       "1.50E+12  4366.47  0.064964"
      ]
     },
     "execution_count": 133,
     "metadata": {},
     "output_type": "execute_result"
    }
   ],
   "source": [
    "df.head(5)"
   ]
  },
  {
   "cell_type": "code",
   "execution_count": 134,
   "metadata": {},
   "outputs": [
    {
     "data": {
      "text/plain": [
       "0.013996538490480992"
      ]
     },
     "execution_count": 134,
     "metadata": {},
     "output_type": "execute_result"
    }
   ],
   "source": [
    "134.75 / 132.89 - 1"
   ]
  },
  {
   "cell_type": "markdown",
   "metadata": {},
   "source": [
    "Calculate the log returns.\n",
    "\n",
    "Why use log returns: https://quantivity.wordpress.com/2011/02/21/why-log-returns/"
   ]
  },
  {
   "cell_type": "code",
   "execution_count": 135,
   "metadata": {},
   "outputs": [],
   "source": [
    "df[\"log_returns\"] = np.log(1 + df[\"returns\"])"
   ]
  },
  {
   "cell_type": "code",
   "execution_count": 136,
   "metadata": {},
   "outputs": [
    {
     "data": {
      "text/html": [
       "<div>\n",
       "<style scoped>\n",
       "    .dataframe tbody tr th:only-of-type {\n",
       "        vertical-align: middle;\n",
       "    }\n",
       "\n",
       "    .dataframe tbody tr th {\n",
       "        vertical-align: top;\n",
       "    }\n",
       "\n",
       "    .dataframe thead th {\n",
       "        text-align: right;\n",
       "    }\n",
       "</style>\n",
       "<table border=\"1\" class=\"dataframe\">\n",
       "  <thead>\n",
       "    <tr style=\"text-align: right;\">\n",
       "      <th></th>\n",
       "      <th>close</th>\n",
       "      <th>returns</th>\n",
       "      <th>log_returns</th>\n",
       "    </tr>\n",
       "    <tr>\n",
       "      <th>date</th>\n",
       "      <th></th>\n",
       "      <th></th>\n",
       "      <th></th>\n",
       "    </tr>\n",
       "  </thead>\n",
       "  <tbody>\n",
       "    <tr>\n",
       "      <th>1.50E+12</th>\n",
       "      <td>4834.91</td>\n",
       "      <td>NaN</td>\n",
       "      <td>NaN</td>\n",
       "    </tr>\n",
       "    <tr>\n",
       "      <th>1.50E+12</th>\n",
       "      <td>4472.14</td>\n",
       "      <td>-0.075031</td>\n",
       "      <td>-0.077995</td>\n",
       "    </tr>\n",
       "    <tr>\n",
       "      <th>1.50E+12</th>\n",
       "      <td>4509.08</td>\n",
       "      <td>0.008260</td>\n",
       "      <td>0.008226</td>\n",
       "    </tr>\n",
       "    <tr>\n",
       "      <th>1.50E+12</th>\n",
       "      <td>4100.11</td>\n",
       "      <td>-0.090699</td>\n",
       "      <td>-0.095079</td>\n",
       "    </tr>\n",
       "    <tr>\n",
       "      <th>1.50E+12</th>\n",
       "      <td>4366.47</td>\n",
       "      <td>0.064964</td>\n",
       "      <td>0.062941</td>\n",
       "    </tr>\n",
       "  </tbody>\n",
       "</table>\n",
       "</div>"
      ],
      "text/plain": [
       "            close   returns  log_returns\n",
       "date                                    \n",
       "1.50E+12  4834.91       NaN          NaN\n",
       "1.50E+12  4472.14 -0.075031    -0.077995\n",
       "1.50E+12  4509.08  0.008260     0.008226\n",
       "1.50E+12  4100.11 -0.090699    -0.095079\n",
       "1.50E+12  4366.47  0.064964     0.062941"
      ]
     },
     "execution_count": 136,
     "metadata": {},
     "output_type": "execute_result"
    }
   ],
   "source": [
    "df.head(5)"
   ]
  },
  {
   "cell_type": "code",
   "execution_count": 137,
   "metadata": {},
   "outputs": [
    {
     "data": {
      "text/plain": [
       "[<matplotlib.lines.Line2D at 0x7035068e80>]"
      ]
     },
     "execution_count": 137,
     "metadata": {},
     "output_type": "execute_result"
    },
    {
     "name": "stderr",
     "output_type": "stream",
     "text": [
      "c:\\users\\user\\appdata\\local\\programs\\python\\python38\\lib\\site-packages\\matplotlib\\backends\\backend_agg.py:238: RuntimeWarning: Glyph 26 missing from current font.\n",
      "  font.set_text(s, 0.0, flags=flags)\n",
      "c:\\users\\user\\appdata\\local\\programs\\python\\python38\\lib\\site-packages\\matplotlib\\backends\\backend_agg.py:201: RuntimeWarning: Glyph 26 missing from current font.\n",
      "  font.set_text(s, 0, flags=flags)\n"
     ]
    },
    {
     "data": {
      "image/png": "[encoded data removed]",
      "text/plain": [
       "<Figure size 1152x288 with 1 Axes>"
      ]
     },
     "metadata": {
      "needs_background": "light"
     },
     "output_type": "display_data"
    }
   ],
   "source": [
    "plt.figure(1, figsize=(16, 4))\n",
    "plt.plot(df.returns)"
   ]
  },
  {
   "cell_type": "code",
   "execution_count": 138,
   "metadata": {},
   "outputs": [
    {
     "data": {
      "text/plain": [
       "[<matplotlib.lines.Line2D at 0x70350dea30>]"
      ]
     },
     "execution_count": 138,
     "metadata": {},
     "output_type": "execute_result"
    },
    {
     "data": {
      "image/png": "[encoded data removed]",
      "text/plain": [
       "<Figure size 1152x288 with 1 Axes>"
      ]
     },
     "metadata": {
      "needs_background": "light"
     },
     "output_type": "display_data"
    }
   ],
   "source": [
    "plt.figure(1, figsize=(16, 4))\n",
    "plt.plot(df.log_returns)"
   ]
  },
  {
   "cell_type": "code",
   "execution_count": 139,
   "metadata": {},
   "outputs": [],
   "source": [
    "df.dropna(inplace=True)\n",
    "X = df[[\"close\", \"log_returns\"]].values"
   ]
  },
  {
   "cell_type": "code",
   "execution_count": 140,
   "metadata": {},
   "outputs": [
    {
     "data": {
      "text/plain": [
       "array([[ 4.47214000e+03, -7.79954732e-02],\n",
       "       [ 4.50908000e+03,  8.22610031e-03],\n",
       "       [ 4.10011000e+03, -9.50793390e-02],\n",
       "       ...,\n",
       "       [ 4.87678300e+04, -2.61142577e-03],\n",
       "       [ 4.69829100e+04, -3.72869556e-02],\n",
       "       [ 4.71008900e+04,  2.50797825e-03]])"
      ]
     },
     "execution_count": 140,
     "metadata": {},
     "output_type": "execute_result"
    }
   ],
   "source": [
    "X"
   ]
  },
  {
   "cell_type": "code",
   "execution_count": 141,
   "metadata": {},
   "outputs": [],
   "source": [
    "from sklearn.preprocessing import MinMaxScaler"
   ]
  },
  {
   "cell_type": "code",
   "execution_count": 142,
   "metadata": {},
   "outputs": [],
   "source": [
    "scaler = MinMaxScaler(feature_range=(0, 1)).fit(X)\n",
    "X_scaled = scaler.transform(X)"
   ]
  },
  {
   "cell_type": "code",
   "execution_count": 143,
   "metadata": {},
   "outputs": [
    {
     "data": {
      "text/plain": [
       "array([[0.02124864, 0.60180846],\n",
       "       [0.02186037, 0.72401164],\n",
       "       [0.01508777, 0.57759523],\n",
       "       [0.01949873, 0.80156006],\n",
       "       [0.02369341, 0.79227511]])"
      ]
     },
     "execution_count": 143,
     "metadata": {},
     "output_type": "execute_result"
    }
   ],
   "source": [
    "X_scaled[:5]"
   ]
  },
  {
   "cell_type": "code",
   "execution_count": 144,
   "metadata": {},
   "outputs": [],
   "source": [
    "y = [x[0] for x in X_scaled]"
   ]
  },
  {
   "cell_type": "code",
   "execution_count": 145,
   "metadata": {},
   "outputs": [
    {
     "data": {
      "text/plain": [
       "[0.02124864082689392,\n",
       " 0.021860372225473525,\n",
       " 0.015087773685216334,\n",
       " 0.019498731328033432,\n",
       " 0.02369341360362124]"
      ]
     },
     "execution_count": 145,
     "metadata": {},
     "output_type": "execute_result"
    }
   ],
   "source": [
    "y[:5]"
   ]
  },
  {
   "cell_type": "markdown",
   "metadata": {},
   "source": [
    "#### Train test split"
   ]
  },
  {
   "cell_type": "code",
   "execution_count": 146,
   "metadata": {},
   "outputs": [
    {
     "name": "stdout",
     "output_type": "stream",
     "text": [
      "1168\n"
     ]
    }
   ],
   "source": [
    "split = int(len(X_scaled) * 0.8)\n",
    "print(split)"
   ]
  },
  {
   "cell_type": "code",
   "execution_count": 147,
   "metadata": {},
   "outputs": [],
   "source": [
    "X_train = X_scaled[:split]\n",
    "X_test = X_scaled[split : len(X_scaled)]\n",
    "y_train = y[:split]\n",
    "y_test = y[split : len(y)]"
   ]
  },
  {
   "cell_type": "code",
   "execution_count": 148,
   "metadata": {},
   "outputs": [],
   "source": [
    "assert len(X_train) == len(y_train)\n",
    "assert len(X_test) == len(y_test)"
   ]
  },
  {
   "cell_type": "markdown",
   "metadata": {},
   "source": [
    "#### Labeling\n",
    "\n",
    "We want to predict the stock price at a future time. We'll predict the stock price at time t + 1 relative to the stock price at time t."
   ]
  },
  {
   "cell_type": "markdown",
   "metadata": {},
   "source": [
    "As we're going to use an LSTM architecture, we know that it has memory and that it is maintained by setting the time step, basically how many steps in the past we want the LSTM to use.\n",
    "\n",
    "The time step  refers to how many steps in time we want the backpropagation algorithm to use when calculating gradients for weight updates during training.\n",
    "\n",
    "So we can use a method to create both the timestep and the output variable, the t + 1."
   ]
  },
  {
   "cell_type": "code",
   "execution_count": 149,
   "metadata": {},
   "outputs": [],
   "source": [
    "n = 3\n",
    "Xtrain = []\n",
    "ytrain = []\n",
    "Xtest = []\n",
    "ytest = []\n",
    "for i in range(n, len(X_train)):\n",
    "    Xtrain.append(X_train[i - n : i, : X_train.shape[1]])\n",
    "    ytrain.append(y_train[i])  # predict next record\n",
    "for i in range(n, len(X_test)):\n",
    "    Xtest.append(X_test[i - n : i, : X_test.shape[1]])\n",
    "    ytest.append(y_test[i])  # predict next record"
   ]
  },
  {
   "cell_type": "code",
   "execution_count": 150,
   "metadata": {},
   "outputs": [
    {
     "data": {
      "text/html": [
       "<div>\n",
       "<style scoped>\n",
       "    .dataframe tbody tr th:only-of-type {\n",
       "        vertical-align: middle;\n",
       "    }\n",
       "\n",
       "    .dataframe tbody tr th {\n",
       "        vertical-align: top;\n",
       "    }\n",
       "\n",
       "    .dataframe thead th {\n",
       "        text-align: right;\n",
       "    }\n",
       "</style>\n",
       "<table border=\"1\" class=\"dataframe\">\n",
       "  <thead>\n",
       "    <tr style=\"text-align: right;\">\n",
       "      <th></th>\n",
       "      <th>close</th>\n",
       "      <th>returns</th>\n",
       "      <th>log_returns</th>\n",
       "    </tr>\n",
       "    <tr>\n",
       "      <th>date</th>\n",
       "      <th></th>\n",
       "      <th></th>\n",
       "      <th></th>\n",
       "    </tr>\n",
       "  </thead>\n",
       "  <tbody>\n",
       "    <tr>\n",
       "      <th>1.50E+12</th>\n",
       "      <td>4472.14</td>\n",
       "      <td>-0.075031</td>\n",
       "      <td>-0.077995</td>\n",
       "    </tr>\n",
       "    <tr>\n",
       "      <th>1.50E+12</th>\n",
       "      <td>4509.08</td>\n",
       "      <td>0.008260</td>\n",
       "      <td>0.008226</td>\n",
       "    </tr>\n",
       "    <tr>\n",
       "      <th>1.50E+12</th>\n",
       "      <td>4100.11</td>\n",
       "      <td>-0.090699</td>\n",
       "      <td>-0.095079</td>\n",
       "    </tr>\n",
       "    <tr>\n",
       "      <th>1.50E+12</th>\n",
       "      <td>4366.47</td>\n",
       "      <td>0.064964</td>\n",
       "      <td>0.062941</td>\n",
       "    </tr>\n",
       "    <tr>\n",
       "      <th>1.50E+12</th>\n",
       "      <td>4619.77</td>\n",
       "      <td>0.058010</td>\n",
       "      <td>0.056390</td>\n",
       "    </tr>\n",
       "  </tbody>\n",
       "</table>\n",
       "</div>"
      ],
      "text/plain": [
       "            close   returns  log_returns\n",
       "date                                    \n",
       "1.50E+12  4472.14 -0.075031    -0.077995\n",
       "1.50E+12  4509.08  0.008260     0.008226\n",
       "1.50E+12  4100.11 -0.090699    -0.095079\n",
       "1.50E+12  4366.47  0.064964     0.062941\n",
       "1.50E+12  4619.77  0.058010     0.056390"
      ]
     },
     "execution_count": 150,
     "metadata": {},
     "output_type": "execute_result"
    }
   ],
   "source": [
    "df.head(5)"
   ]
  },
  {
   "cell_type": "code",
   "execution_count": 151,
   "metadata": {},
   "outputs": [
    {
     "data": {
      "text/plain": [
       "array([[0.02124864, 0.60180846],\n",
       "       [0.02186037, 0.72401164],\n",
       "       [0.01508777, 0.57759523]])"
      ]
     },
     "execution_count": 151,
     "metadata": {},
     "output_type": "execute_result"
    }
   ],
   "source": [
    "Xtrain[0]"
   ]
  },
  {
   "cell_type": "code",
   "execution_count": 152,
   "metadata": {},
   "outputs": [
    {
     "data": {
      "text/plain": [
       "0.019498731328033432"
      ]
     },
     "execution_count": 152,
     "metadata": {},
     "output_type": "execute_result"
    }
   ],
   "source": [
    "ytrain[0]"
   ]
  },
  {
   "cell_type": "code",
   "execution_count": 153,
   "metadata": {},
   "outputs": [],
   "source": [
    "val = np.array(ytrain[0])\n",
    "val = np.c_[val, np.zeros(val.shape)]"
   ]
  },
  {
   "cell_type": "code",
   "execution_count": 154,
   "metadata": {},
   "outputs": [
    {
     "data": {
      "text/plain": [
       "array([[ 4.36647000e+03, -5.02606943e-01]])"
      ]
     },
     "execution_count": 154,
     "metadata": {},
     "output_type": "execute_result"
    }
   ],
   "source": [
    "scaler.inverse_transform(val)"
   ]
  },
  {
   "cell_type": "markdown",
   "metadata": {},
   "source": [
    "In an LSTM network the input for each LSTM layer needs to contain the following information:\n",
    "- The number of observations\n",
    "- The time steps\n",
    "- The features\n",
    "\n",
    "Therefore we need to add a temporal dimension compared to a classical network:\n",
    "\n",
    "(number of observations, number of steps, number of features per step)"
   ]
  },
  {
   "cell_type": "code",
   "execution_count": 155,
   "metadata": {},
   "outputs": [],
   "source": [
    "Xtrain, ytrain = (np.array(Xtrain), np.array(ytrain))\n",
    "Xtrain = np.reshape(Xtrain, (Xtrain.shape[0], Xtrain.shape[1], Xtrain.shape[2]))\n",
    "\n",
    "Xtest, ytest = (np.array(Xtest), np.array(ytest))\n",
    "Xtest = np.reshape(Xtest, (Xtest.shape[0], Xtest.shape[1], Xtest.shape[2]))"
   ]
  },
  {
   "cell_type": "code",
   "execution_count": 156,
   "metadata": {
    "scrolled": true
   },
   "outputs": [
    {
     "name": "stdout",
     "output_type": "stream",
     "text": [
      "(1165, 3, 2)\n",
      "(1165,)\n",
      "---\n",
      "(289, 3, 2)\n",
      "(289,)\n"
     ]
    }
   ],
   "source": [
    "print(Xtrain.shape)\n",
    "print(ytrain.shape)\n",
    "print(\"---\")\n",
    "print(Xtest.shape)\n",
    "print(ytest.shape)"
   ]
  },
  {
   "cell_type": "markdown",
   "metadata": {},
   "source": [
    "#### LSTM Model"
   ]
  },
  {
   "cell_type": "code",
   "execution_count": 166,
   "metadata": {},
   "outputs": [],
   "source": [
    "from keras.models import Sequential\n",
    "from keras.layers import LSTM, Dense"
   ]
  },
  {
   "cell_type": "code",
   "execution_count": 167,
   "metadata": {
    "scrolled": true
   },
   "outputs": [
    {
     "name": "stdout",
     "output_type": "stream",
     "text": [
      "Epoch 1/200\n",
      "73/73 [==============================] - 2s 8ms/step - loss: 0.0108 - val_loss: 0.1388\n",
      "Epoch 2/200\n",
      "73/73 [==============================] - 0s 2ms/step - loss: 8.2819e-04 - val_loss: 0.0896\n",
      "Epoch 3/200\n",
      "73/73 [==============================] - 0s 2ms/step - loss: 5.5637e-04 - val_loss: 0.0364\n",
      "Epoch 4/200\n",
      "73/73 [==============================] - 0s 2ms/step - loss: 2.6619e-04 - val_loss: 0.0078\n",
      "Epoch 5/200\n",
      "73/73 [==============================] - 0s 2ms/step - loss: 1.4238e-04 - val_loss: 0.0013\n",
      "Epoch 6/200\n",
      "73/73 [==============================] - 0s 2ms/step - loss: 9.3880e-05 - val_loss: 0.0015\n",
      "Epoch 7/200\n",
      "73/73 [==============================] - 0s 2ms/step - loss: 8.5067e-05 - val_loss: 0.0017\n",
      "Epoch 8/200\n",
      "73/73 [==============================] - 0s 2ms/step - loss: 7.5220e-05 - val_loss: 0.0015\n",
      "Epoch 9/200\n",
      "73/73 [==============================] - 0s 2ms/step - loss: 7.4913e-05 - val_loss: 0.0016\n",
      "Epoch 10/200\n",
      "73/73 [==============================] - 0s 2ms/step - loss: 7.7420e-05 - val_loss: 0.0013\n",
      "Epoch 11/200\n",
      "73/73 [==============================] - 0s 2ms/step - loss: 7.5532e-05 - val_loss: 0.0013\n",
      "Epoch 12/200\n",
      "73/73 [==============================] - 0s 2ms/step - loss: 7.6229e-05 - val_loss: 0.0014\n",
      "Epoch 13/200\n",
      "73/73 [==============================] - 0s 2ms/step - loss: 7.5437e-05 - val_loss: 0.0012\n",
      "Epoch 14/200\n",
      "73/73 [==============================] - 0s 2ms/step - loss: 6.9105e-05 - val_loss: 0.0012\n",
      "Epoch 15/200\n",
      "73/73 [==============================] - 0s 2ms/step - loss: 6.7824e-05 - val_loss: 0.0011\n",
      "Epoch 16/200\n",
      "73/73 [==============================] - 0s 2ms/step - loss: 6.4803e-05 - val_loss: 0.0011\n",
      "Epoch 17/200\n",
      "73/73 [==============================] - 0s 2ms/step - loss: 6.5482e-05 - val_loss: 0.0013\n",
      "Epoch 18/200\n",
      "73/73 [==============================] - 0s 2ms/step - loss: 7.5026e-05 - val_loss: 0.0011\n",
      "Epoch 19/200\n",
      "73/73 [==============================] - 0s 2ms/step - loss: 6.4854e-05 - val_loss: 0.0011\n",
      "Epoch 20/200\n",
      "73/73 [==============================] - 0s 2ms/step - loss: 5.4654e-05 - val_loss: 0.0011\n",
      "Epoch 21/200\n",
      "73/73 [==============================] - 0s 2ms/step - loss: 5.8106e-05 - val_loss: 0.0011\n",
      "Epoch 22/200\n",
      "73/73 [==============================] - 0s 2ms/step - loss: 5.8974e-05 - val_loss: 0.0012\n",
      "Epoch 23/200\n",
      "73/73 [==============================] - 0s 2ms/step - loss: 6.0564e-05 - val_loss: 0.0013\n",
      "Epoch 24/200\n",
      "73/73 [==============================] - 0s 2ms/step - loss: 6.1846e-05 - val_loss: 0.0011\n",
      "Epoch 25/200\n",
      "73/73 [==============================] - 0s 2ms/step - loss: 5.4957e-05 - val_loss: 0.0013\n",
      "Epoch 26/200\n",
      "73/73 [==============================] - 0s 2ms/step - loss: 5.8820e-05 - val_loss: 0.0013\n",
      "Epoch 27/200\n",
      "73/73 [==============================] - 0s 2ms/step - loss: 5.6677e-05 - val_loss: 0.0013\n",
      "Epoch 28/200\n",
      "73/73 [==============================] - 0s 2ms/step - loss: 4.5563e-05 - val_loss: 0.0015\n",
      "Epoch 29/200\n",
      "73/73 [==============================] - 0s 2ms/step - loss: 4.5683e-05 - val_loss: 0.0016\n",
      "Epoch 30/200\n",
      "73/73 [==============================] - 0s 2ms/step - loss: 5.0412e-05 - val_loss: 0.0017\n",
      "Epoch 31/200\n",
      "73/73 [==============================] - 0s 2ms/step - loss: 4.1949e-05 - val_loss: 0.0017\n",
      "Epoch 32/200\n",
      "73/73 [==============================] - 0s 2ms/step - loss: 6.0827e-05 - val_loss: 0.0017\n",
      "Epoch 33/200\n",
      "73/73 [==============================] - 0s 3ms/step - loss: 5.4857e-05 - val_loss: 0.0016\n",
      "Epoch 34/200\n",
      "73/73 [==============================] - 0s 3ms/step - loss: 4.7933e-05 - val_loss: 0.0019\n",
      "Epoch 35/200\n",
      "73/73 [==============================] - 0s 2ms/step - loss: 5.2607e-05 - val_loss: 0.0018\n",
      "Epoch 36/200\n",
      "73/73 [==============================] - 0s 2ms/step - loss: 4.6058e-05 - val_loss: 0.0020\n",
      "Epoch 37/200\n",
      "73/73 [==============================] - 0s 2ms/step - loss: 4.8003e-05 - val_loss: 0.0024\n",
      "Epoch 38/200\n",
      "73/73 [==============================] - 0s 2ms/step - loss: 5.5216e-05 - val_loss: 0.0027\n",
      "Epoch 39/200\n",
      "73/73 [==============================] - 0s 2ms/step - loss: 4.8957e-05 - val_loss: 0.0027\n",
      "Epoch 40/200\n",
      "73/73 [==============================] - 0s 2ms/step - loss: 5.9825e-05 - val_loss: 0.0031\n",
      "Epoch 41/200\n",
      "73/73 [==============================] - 0s 2ms/step - loss: 5.2281e-05 - val_loss: 0.0027\n",
      "Epoch 42/200\n",
      "73/73 [==============================] - 0s 2ms/step - loss: 3.9804e-05 - val_loss: 0.0025\n",
      "Epoch 43/200\n",
      "73/73 [==============================] - 0s 2ms/step - loss: 6.1181e-05 - val_loss: 0.0022\n",
      "Epoch 44/200\n",
      "73/73 [==============================] - 0s 2ms/step - loss: 5.4087e-05 - val_loss: 0.0029\n",
      "Epoch 45/200\n",
      "73/73 [==============================] - 0s 2ms/step - loss: 5.0216e-05 - val_loss: 0.0033\n",
      "Epoch 46/200\n",
      "73/73 [==============================] - 0s 2ms/step - loss: 4.7128e-05 - val_loss: 0.0027\n",
      "Epoch 47/200\n",
      "73/73 [==============================] - 0s 2ms/step - loss: 4.6847e-05 - val_loss: 0.0038\n",
      "Epoch 48/200\n",
      "73/73 [==============================] - 0s 2ms/step - loss: 4.7701e-05 - val_loss: 0.0037\n",
      "Epoch 49/200\n",
      "73/73 [==============================] - 0s 2ms/step - loss: 4.9073e-05 - val_loss: 0.0034\n",
      "Epoch 50/200\n",
      "73/73 [==============================] - 0s 2ms/step - loss: 4.6627e-05 - val_loss: 0.0037\n",
      "Epoch 51/200\n",
      "73/73 [==============================] - 0s 2ms/step - loss: 4.8132e-05 - val_loss: 0.0037\n",
      "Epoch 52/200\n",
      "73/73 [==============================] - 0s 2ms/step - loss: 5.4885e-05 - val_loss: 0.0041\n",
      "Epoch 53/200\n",
      "73/73 [==============================] - 0s 2ms/step - loss: 4.1345e-05 - val_loss: 0.0039\n",
      "Epoch 54/200\n",
      "73/73 [==============================] - 0s 2ms/step - loss: 3.9120e-05 - val_loss: 0.0039\n",
      "Epoch 55/200\n",
      "73/73 [==============================] - 0s 2ms/step - loss: 4.7225e-05 - val_loss: 0.0041\n",
      "Epoch 56/200\n",
      "73/73 [==============================] - 0s 2ms/step - loss: 4.8584e-05 - val_loss: 0.0044\n",
      "Epoch 57/200\n",
      "73/73 [==============================] - 0s 2ms/step - loss: 5.0189e-05 - val_loss: 0.0048\n",
      "Epoch 58/200\n",
      "73/73 [==============================] - 0s 2ms/step - loss: 4.3703e-05 - val_loss: 0.0046\n",
      "Epoch 59/200\n",
      "73/73 [==============================] - 0s 2ms/step - loss: 4.4745e-05 - val_loss: 0.0053\n",
      "Epoch 60/200\n",
      "73/73 [==============================] - 0s 2ms/step - loss: 4.7939e-05 - val_loss: 0.0047\n",
      "Epoch 61/200\n",
      "73/73 [==============================] - 0s 2ms/step - loss: 3.7581e-05 - val_loss: 0.0044\n",
      "Epoch 62/200\n",
      "73/73 [==============================] - 0s 2ms/step - loss: 4.4598e-05 - val_loss: 0.0052\n",
      "Epoch 63/200\n",
      "73/73 [==============================] - 0s 2ms/step - loss: 4.4209e-05 - val_loss: 0.0049\n",
      "Epoch 64/200\n",
      "73/73 [==============================] - 0s 2ms/step - loss: 4.2817e-05 - val_loss: 0.0049\n",
      "Epoch 65/200\n",
      "73/73 [==============================] - 0s 2ms/step - loss: 4.7262e-05 - val_loss: 0.0060\n",
      "Epoch 66/200\n",
      "73/73 [==============================] - 0s 2ms/step - loss: 6.3702e-05 - val_loss: 0.0062\n",
      "Epoch 67/200\n",
      "73/73 [==============================] - 0s 2ms/step - loss: 4.2629e-05 - val_loss: 0.0063\n",
      "Epoch 68/200\n",
      "73/73 [==============================] - 0s 2ms/step - loss: 5.0354e-05 - val_loss: 0.0063\n",
      "Epoch 69/200\n",
      "73/73 [==============================] - 0s 2ms/step - loss: 5.9480e-05 - val_loss: 0.0060\n",
      "Epoch 70/200\n",
      "73/73 [==============================] - 0s 2ms/step - loss: 4.0859e-05 - val_loss: 0.0052\n",
      "Epoch 71/200\n",
      "73/73 [==============================] - 0s 2ms/step - loss: 4.8918e-05 - val_loss: 0.0064\n",
      "Epoch 72/200\n",
      "73/73 [==============================] - 0s 2ms/step - loss: 5.1389e-05 - val_loss: 0.0063\n",
      "Epoch 73/200\n",
      "73/73 [==============================] - 0s 2ms/step - loss: 4.5309e-05 - val_loss: 0.0066\n",
      "Epoch 74/200\n",
      "73/73 [==============================] - 0s 2ms/step - loss: 4.2145e-05 - val_loss: 0.0058\n",
      "Epoch 75/200\n",
      "73/73 [==============================] - 0s 2ms/step - loss: 4.2994e-05 - val_loss: 0.0083\n",
      "Epoch 76/200\n",
      "73/73 [==============================] - 0s 2ms/step - loss: 5.7470e-05 - val_loss: 0.0072\n",
      "Epoch 77/200\n",
      "73/73 [==============================] - 0s 2ms/step - loss: 4.6604e-05 - val_loss: 0.0059\n",
      "Epoch 78/200\n",
      "73/73 [==============================] - 0s 2ms/step - loss: 6.7386e-05 - val_loss: 0.0068\n",
      "Epoch 79/200\n",
      "73/73 [==============================] - 0s 2ms/step - loss: 4.4808e-05 - val_loss: 0.0077\n"
     ]
    },
    {
     "name": "stdout",
     "output_type": "stream",
     "text": [
      "Epoch 80/200\n",
      "73/73 [==============================] - 0s 2ms/step - loss: 4.3722e-05 - val_loss: 0.0067\n",
      "Epoch 81/200\n",
      "73/73 [==============================] - 0s 2ms/step - loss: 6.1686e-05 - val_loss: 0.0070\n",
      "Epoch 82/200\n",
      "73/73 [==============================] - 0s 2ms/step - loss: 4.7444e-05 - val_loss: 0.0063\n",
      "Epoch 83/200\n",
      "73/73 [==============================] - 0s 2ms/step - loss: 5.0385e-05 - val_loss: 0.0070\n",
      "Epoch 84/200\n",
      "73/73 [==============================] - 0s 2ms/step - loss: 4.3660e-05 - val_loss: 0.0065\n",
      "Epoch 85/200\n",
      "73/73 [==============================] - 0s 2ms/step - loss: 4.1466e-05 - val_loss: 0.0074\n",
      "Epoch 86/200\n",
      "73/73 [==============================] - 0s 2ms/step - loss: 4.1970e-05 - val_loss: 0.0067\n",
      "Epoch 87/200\n",
      "73/73 [==============================] - 0s 2ms/step - loss: 4.8041e-05 - val_loss: 0.0093\n",
      "Epoch 88/200\n",
      "73/73 [==============================] - 0s 2ms/step - loss: 5.4176e-05 - val_loss: 0.0077\n",
      "Epoch 89/200\n",
      "73/73 [==============================] - 0s 2ms/step - loss: 4.0839e-05 - val_loss: 0.0075\n",
      "Epoch 90/200\n",
      "73/73 [==============================] - 0s 2ms/step - loss: 5.7048e-05 - val_loss: 0.0076\n",
      "Epoch 91/200\n",
      "73/73 [==============================] - 0s 2ms/step - loss: 5.2544e-05 - val_loss: 0.0076\n",
      "Epoch 92/200\n",
      "73/73 [==============================] - 0s 2ms/step - loss: 5.7434e-05 - val_loss: 0.0073\n",
      "Epoch 93/200\n",
      "73/73 [==============================] - 0s 2ms/step - loss: 4.6156e-05 - val_loss: 0.0068\n",
      "Epoch 94/200\n",
      "73/73 [==============================] - 0s 2ms/step - loss: 4.7424e-05 - val_loss: 0.0072\n",
      "Epoch 95/200\n",
      "73/73 [==============================] - 0s 2ms/step - loss: 5.0755e-05 - val_loss: 0.0085\n",
      "Epoch 96/200\n",
      "73/73 [==============================] - 0s 2ms/step - loss: 4.4149e-05 - val_loss: 0.0088\n",
      "Epoch 97/200\n",
      "73/73 [==============================] - 0s 2ms/step - loss: 5.0342e-05 - val_loss: 0.0077\n",
      "Epoch 98/200\n",
      "73/73 [==============================] - 0s 2ms/step - loss: 5.8130e-05 - val_loss: 0.0081\n",
      "Epoch 99/200\n",
      "73/73 [==============================] - 0s 2ms/step - loss: 4.7881e-05 - val_loss: 0.0080\n",
      "Epoch 100/200\n",
      "73/73 [==============================] - 0s 2ms/step - loss: 4.6223e-05 - val_loss: 0.0075\n",
      "Epoch 101/200\n",
      "73/73 [==============================] - 0s 2ms/step - loss: 4.7761e-05 - val_loss: 0.0078\n",
      "Epoch 102/200\n",
      "73/73 [==============================] - 0s 2ms/step - loss: 4.5581e-05 - val_loss: 0.0075\n",
      "Epoch 103/200\n",
      "73/73 [==============================] - 0s 2ms/step - loss: 4.6977e-05 - val_loss: 0.0077\n",
      "Epoch 104/200\n",
      "73/73 [==============================] - 0s 2ms/step - loss: 4.3868e-05 - val_loss: 0.0098\n",
      "Epoch 105/200\n",
      "73/73 [==============================] - 0s 2ms/step - loss: 4.2690e-05 - val_loss: 0.0082\n",
      "Epoch 106/200\n",
      "73/73 [==============================] - 0s 2ms/step - loss: 5.1795e-05 - val_loss: 0.0091\n",
      "Epoch 107/200\n",
      "73/73 [==============================] - 0s 2ms/step - loss: 4.3447e-05 - val_loss: 0.0087\n",
      "Epoch 108/200\n",
      "73/73 [==============================] - 0s 2ms/step - loss: 5.5637e-05 - val_loss: 0.0081\n",
      "Epoch 109/200\n",
      "73/73 [==============================] - 0s 2ms/step - loss: 5.2419e-05 - val_loss: 0.0074\n",
      "Epoch 110/200\n",
      "73/73 [==============================] - 0s 2ms/step - loss: 4.6521e-05 - val_loss: 0.0083\n",
      "Epoch 111/200\n",
      "73/73 [==============================] - 0s 2ms/step - loss: 4.8962e-05 - val_loss: 0.0081\n",
      "Epoch 112/200\n",
      "73/73 [==============================] - 0s 2ms/step - loss: 4.1320e-05 - val_loss: 0.0093\n",
      "Epoch 113/200\n",
      "73/73 [==============================] - 0s 2ms/step - loss: 3.7236e-05 - val_loss: 0.0094\n",
      "Epoch 114/200\n",
      "73/73 [==============================] - 0s 2ms/step - loss: 4.6225e-05 - val_loss: 0.0071\n",
      "Epoch 115/200\n",
      "73/73 [==============================] - 0s 2ms/step - loss: 3.9071e-05 - val_loss: 0.0079\n",
      "Epoch 116/200\n",
      "73/73 [==============================] - 0s 2ms/step - loss: 4.7965e-05 - val_loss: 0.0088\n",
      "Epoch 117/200\n",
      "73/73 [==============================] - 0s 2ms/step - loss: 4.6305e-05 - val_loss: 0.0079\n",
      "Epoch 118/200\n",
      "73/73 [==============================] - 0s 2ms/step - loss: 5.0357e-05 - val_loss: 0.0076\n",
      "Epoch 119/200\n",
      "73/73 [==============================] - 0s 2ms/step - loss: 4.8100e-05 - val_loss: 0.0080\n",
      "Epoch 120/200\n",
      "73/73 [==============================] - 0s 2ms/step - loss: 4.6601e-05 - val_loss: 0.0093\n",
      "Epoch 121/200\n",
      "73/73 [==============================] - 0s 2ms/step - loss: 4.6087e-05 - val_loss: 0.0082\n",
      "Epoch 122/200\n",
      "73/73 [==============================] - 0s 2ms/step - loss: 5.1964e-05 - val_loss: 0.0084\n",
      "Epoch 123/200\n",
      "73/73 [==============================] - 0s 2ms/step - loss: 4.9543e-05 - val_loss: 0.0079\n",
      "Epoch 124/200\n",
      "73/73 [==============================] - 0s 2ms/step - loss: 4.9666e-05 - val_loss: 0.0092\n",
      "Epoch 125/200\n",
      "73/73 [==============================] - 0s 2ms/step - loss: 5.2666e-05 - val_loss: 0.0102\n",
      "Epoch 126/200\n",
      "73/73 [==============================] - 0s 2ms/step - loss: 4.7382e-05 - val_loss: 0.0077\n",
      "Epoch 127/200\n",
      "73/73 [==============================] - 0s 2ms/step - loss: 4.3014e-05 - val_loss: 0.0089\n",
      "Epoch 128/200\n",
      "73/73 [==============================] - 0s 2ms/step - loss: 4.4165e-05 - val_loss: 0.0090\n",
      "Epoch 129/200\n",
      "73/73 [==============================] - 0s 2ms/step - loss: 4.7049e-05 - val_loss: 0.0089\n",
      "Epoch 130/200\n",
      "73/73 [==============================] - 0s 2ms/step - loss: 4.5985e-05 - val_loss: 0.0082\n",
      "Epoch 131/200\n",
      "73/73 [==============================] - 0s 2ms/step - loss: 4.3293e-05 - val_loss: 0.0090\n",
      "Epoch 132/200\n",
      "73/73 [==============================] - 0s 2ms/step - loss: 5.1320e-05 - val_loss: 0.0092\n",
      "Epoch 133/200\n",
      "73/73 [==============================] - 0s 2ms/step - loss: 5.0213e-05 - val_loss: 0.0082\n",
      "Epoch 134/200\n",
      "73/73 [==============================] - 0s 2ms/step - loss: 4.5530e-05 - val_loss: 0.0085\n",
      "Epoch 135/200\n",
      "73/73 [==============================] - 0s 2ms/step - loss: 3.9226e-05 - val_loss: 0.0095\n",
      "Epoch 136/200\n",
      "73/73 [==============================] - 0s 2ms/step - loss: 4.6239e-05 - val_loss: 0.0082\n",
      "Epoch 137/200\n",
      "73/73 [==============================] - 0s 2ms/step - loss: 5.3085e-05 - val_loss: 0.0110\n",
      "Epoch 138/200\n",
      "73/73 [==============================] - 0s 2ms/step - loss: 4.3217e-05 - val_loss: 0.0081\n",
      "Epoch 139/200\n",
      "73/73 [==============================] - 0s 2ms/step - loss: 3.9583e-05 - val_loss: 0.0081\n",
      "Epoch 140/200\n",
      "73/73 [==============================] - 0s 2ms/step - loss: 5.9638e-05 - val_loss: 0.0083\n",
      "Epoch 141/200\n",
      "73/73 [==============================] - 0s 2ms/step - loss: 5.1029e-05 - val_loss: 0.0084\n",
      "Epoch 142/200\n",
      "73/73 [==============================] - 0s 2ms/step - loss: 4.5813e-05 - val_loss: 0.0080\n",
      "Epoch 143/200\n",
      "73/73 [==============================] - 0s 2ms/step - loss: 4.5240e-05 - val_loss: 0.0086\n",
      "Epoch 144/200\n",
      "73/73 [==============================] - 0s 2ms/step - loss: 5.7435e-05 - val_loss: 0.0087\n",
      "Epoch 145/200\n",
      "73/73 [==============================] - 0s 2ms/step - loss: 5.6500e-05 - val_loss: 0.0094\n",
      "Epoch 146/200\n",
      "73/73 [==============================] - 0s 2ms/step - loss: 4.5539e-05 - val_loss: 0.0086\n",
      "Epoch 147/200\n",
      "73/73 [==============================] - 0s 2ms/step - loss: 5.4341e-05 - val_loss: 0.0084\n",
      "Epoch 148/200\n",
      "73/73 [==============================] - 0s 2ms/step - loss: 4.4077e-05 - val_loss: 0.0080\n",
      "Epoch 149/200\n",
      "73/73 [==============================] - 0s 2ms/step - loss: 4.5470e-05 - val_loss: 0.0083\n",
      "Epoch 150/200\n",
      "73/73 [==============================] - 0s 2ms/step - loss: 4.5327e-05 - val_loss: 0.0106\n",
      "Epoch 151/200\n",
      "73/73 [==============================] - 0s 2ms/step - loss: 5.2193e-05 - val_loss: 0.0094\n",
      "Epoch 152/200\n",
      "73/73 [==============================] - 0s 2ms/step - loss: 4.3739e-05 - val_loss: 0.0078\n",
      "Epoch 153/200\n",
      "73/73 [==============================] - 0s 2ms/step - loss: 4.4361e-05 - val_loss: 0.0085\n",
      "Epoch 154/200\n",
      "73/73 [==============================] - 0s 2ms/step - loss: 4.0421e-05 - val_loss: 0.0084\n",
      "Epoch 155/200\n",
      "73/73 [==============================] - 0s 2ms/step - loss: 4.6824e-05 - val_loss: 0.0089\n",
      "Epoch 156/200\n",
      "73/73 [==============================] - 0s 2ms/step - loss: 4.7291e-05 - val_loss: 0.0086\n",
      "Epoch 157/200\n",
      "73/73 [==============================] - 0s 2ms/step - loss: 5.0231e-05 - val_loss: 0.0088\n",
      "Epoch 158/200\n",
      "73/73 [==============================] - 0s 2ms/step - loss: 5.3623e-05 - val_loss: 0.0080\n",
      "Epoch 159/200\n",
      "73/73 [==============================] - 0s 2ms/step - loss: 4.1584e-05 - val_loss: 0.0076\n",
      "Epoch 160/200\n",
      "73/73 [==============================] - 0s 2ms/step - loss: 4.7842e-05 - val_loss: 0.0093\n",
      "Epoch 161/200\n",
      "73/73 [==============================] - 0s 2ms/step - loss: 4.5753e-05 - val_loss: 0.0091\n",
      "Epoch 162/200\n",
      "73/73 [==============================] - 0s 2ms/step - loss: 4.6015e-05 - val_loss: 0.0092\n",
      "Epoch 163/200\n",
      "73/73 [==============================] - 0s 2ms/step - loss: 4.1903e-05 - val_loss: 0.0089\n",
      "Epoch 164/200\n",
      "73/73 [==============================] - 0s 2ms/step - loss: 4.8374e-05 - val_loss: 0.0086\n",
      "Epoch 165/200\n",
      "73/73 [==============================] - 0s 2ms/step - loss: 4.3091e-05 - val_loss: 0.0084\n",
      "Epoch 166/200\n",
      "73/73 [==============================] - 0s 2ms/step - loss: 4.2068e-05 - val_loss: 0.0084\n",
      "Epoch 167/200\n",
      "73/73 [==============================] - 0s 2ms/step - loss: 3.7361e-05 - val_loss: 0.0097\n",
      "Epoch 168/200\n",
      "73/73 [==============================] - 0s 2ms/step - loss: 5.5722e-05 - val_loss: 0.0086\n",
      "Epoch 169/200\n",
      "73/73 [==============================] - 0s 2ms/step - loss: 4.0349e-05 - val_loss: 0.0081\n",
      "Epoch 170/200\n",
      "73/73 [==============================] - 0s 2ms/step - loss: 4.2297e-05 - val_loss: 0.0087\n",
      "Epoch 171/200\n",
      "73/73 [==============================] - 0s 2ms/step - loss: 4.1895e-05 - val_loss: 0.0080\n",
      "Epoch 172/200\n",
      "73/73 [==============================] - 0s 2ms/step - loss: 5.0540e-05 - val_loss: 0.0086\n",
      "Epoch 173/200\n",
      "73/73 [==============================] - 0s 2ms/step - loss: 4.5840e-05 - val_loss: 0.0084\n",
      "Epoch 174/200\n",
      "73/73 [==============================] - 0s 2ms/step - loss: 4.6212e-05 - val_loss: 0.0093\n",
      "Epoch 175/200\n",
      "73/73 [==============================] - 0s 2ms/step - loss: 5.6141e-05 - val_loss: 0.0098\n",
      "Epoch 176/200\n",
      "73/73 [==============================] - 0s 2ms/step - loss: 4.6601e-05 - val_loss: 0.0093\n",
      "Epoch 177/200\n",
      "73/73 [==============================] - 0s 2ms/step - loss: 4.3662e-05 - val_loss: 0.0088\n",
      "Epoch 178/200\n",
      "73/73 [==============================] - 0s 2ms/step - loss: 4.2066e-05 - val_loss: 0.0097\n",
      "Epoch 179/200\n",
      "73/73 [==============================] - 0s 2ms/step - loss: 4.7198e-05 - val_loss: 0.0085\n",
      "Epoch 180/200\n",
      "73/73 [==============================] - 0s 2ms/step - loss: 3.9313e-05 - val_loss: 0.0096\n",
      "Epoch 181/200\n",
      "73/73 [==============================] - 0s 2ms/step - loss: 3.9329e-05 - val_loss: 0.0078\n",
      "Epoch 182/200\n",
      "73/73 [==============================] - 0s 2ms/step - loss: 4.3166e-05 - val_loss: 0.0084\n",
      "Epoch 183/200\n",
      "73/73 [==============================] - 0s 2ms/step - loss: 5.6425e-05 - val_loss: 0.0090\n",
      "Epoch 184/200\n",
      "73/73 [==============================] - 0s 2ms/step - loss: 4.6174e-05 - val_loss: 0.0082\n",
      "Epoch 185/200\n",
      "73/73 [==============================] - 0s 2ms/step - loss: 4.4395e-05 - val_loss: 0.0082\n",
      "Epoch 186/200\n",
      "73/73 [==============================] - 0s 2ms/step - loss: 5.4559e-05 - val_loss: 0.0089\n",
      "Epoch 187/200\n",
      "73/73 [==============================] - 0s 2ms/step - loss: 4.1838e-05 - val_loss: 0.0089\n",
      "Epoch 188/200\n",
      "73/73 [==============================] - 0s 2ms/step - loss: 5.0573e-05 - val_loss: 0.0093\n",
      "Epoch 189/200\n",
      "73/73 [==============================] - 0s 2ms/step - loss: 4.5137e-05 - val_loss: 0.0092\n",
      "Epoch 190/200\n",
      "73/73 [==============================] - 0s 2ms/step - loss: 5.3187e-05 - val_loss: 0.0097\n",
      "Epoch 191/200\n",
      "73/73 [==============================] - 0s 2ms/step - loss: 5.6709e-05 - val_loss: 0.0082\n",
      "Epoch 192/200\n",
      "73/73 [==============================] - 0s 2ms/step - loss: 4.3017e-05 - val_loss: 0.0087\n",
      "Epoch 193/200\n",
      "73/73 [==============================] - 0s 2ms/step - loss: 4.1741e-05 - val_loss: 0.0086\n",
      "Epoch 194/200\n",
      "73/73 [==============================] - 0s 2ms/step - loss: 4.9538e-05 - val_loss: 0.0080\n",
      "Epoch 195/200\n",
      "73/73 [==============================] - 0s 2ms/step - loss: 5.1019e-05 - val_loss: 0.0093\n",
      "Epoch 196/200\n",
      "73/73 [==============================] - 0s 2ms/step - loss: 4.8583e-05 - val_loss: 0.0093\n",
      "Epoch 197/200\n",
      "73/73 [==============================] - 0s 2ms/step - loss: 4.9251e-05 - val_loss: 0.0087\n",
      "Epoch 198/200\n",
      "73/73 [==============================] - 0s 2ms/step - loss: 5.8865e-05 - val_loss: 0.0088\n",
      "Epoch 199/200\n",
      "73/73 [==============================] - 0s 2ms/step - loss: 3.9826e-05 - val_loss: 0.0090\n",
      "Epoch 200/200\n",
      "73/73 [==============================] - 0s 2ms/step - loss: 3.9017e-05 - val_loss: 0.0090\n"
     ]
    },
    {
     "data": {
      "text/plain": [
       "<tensorflow.python.keras.callbacks.History at 0x702b389df0>"
      ]
     },
     "execution_count": 167,
     "metadata": {},
     "output_type": "execute_result"
    }
   ],
   "source": [
    "model = Sequential()\n",
    "model.add(LSTM(10, input_shape=(Xtrain.shape[1], Xtrain.shape[2])))\n",
    "model.add(Dense(1))\n",
    "model.compile(loss=\"mean_squared_error\", optimizer=\"adam\")\n",
    "history=model.fit(\n",
    "    Xtrain, ytrain, epochs=200, validation_data=(Xtest, ytest), batch_size=16, verbose=1\n",
    ")\n",
    "\n",
    "plt.plot(history.history['loss'], label='train')\n",
    "plt.plot(history.history['val_loss'], label='test')\n",
    "plt.legend()"
   ]
  },
  {
   "cell_type": "code",
   "execution_count": 168,
   "metadata": {},
   "outputs": [
    {
     "name": "stdout",
     "output_type": "stream",
     "text": [
      "Model: \"sequential_4\"\n",
      "_________________________________________________________________\n",
      "Layer (type)                 Output Shape              Param #   \n",
      "=================================================================\n",
      "lstm_4 (LSTM)                (None, 10)                520       \n",
      "_________________________________________________________________\n",
      "dense_4 (Dense)              (None, 1)                 11        \n",
      "=================================================================\n",
      "Total params: 531\n",
      "Trainable params: 531\n",
      "Non-trainable params: 0\n",
      "_________________________________________________________________\n"
     ]
    }
   ],
   "source": [
    "model.summary()"
   ]
  },
  {
   "cell_type": "code",
   "execution_count": 169,
   "metadata": {},
   "outputs": [],
   "source": [
    "trainPredict = model.predict(Xtrain)\n",
    "testPredict = model.predict(Xtest)\n",
    "\n"
   ]
  },
  {
   "cell_type": "code",
   "execution_count": 170,
   "metadata": {},
   "outputs": [],
   "source": [
    "trainPredict = np.c_[trainPredict, np.zeros(trainPredict.shape)]\n",
    "testPredict = np.c_[testPredict, np.zeros(testPredict.shape)]"
   ]
  },
  {
   "cell_type": "code",
   "execution_count": 171,
   "metadata": {},
   "outputs": [],
   "source": [
    "# invert predictions\n",
    "trainPredict = scaler.inverse_transform(trainPredict)\n",
    "trainPredict = [x[0] for x in trainPredict]\n",
    "\n",
    "testPredict = scaler.inverse_transform(testPredict)\n",
    "testPredict = [x[0] for x in testPredict]\n"
   ]
  },
  {
   "cell_type": "code",
   "execution_count": 172,
   "metadata": {},
   "outputs": [
    {
     "name": "stdout",
     "output_type": "stream",
     "text": [
      "[4030.462395643369, 4352.094605651387, 4621.373867241592, 4718.908301416897, 4259.13250053715]\n",
      "[15723.261473346352, 16385.20505715102, 17244.680994856357, 17431.43169087708, 17503.529866276087]\n"
     ]
    }
   ],
   "source": [
    "print(trainPredict[:5])\n",
    "print(testPredict[:5])"
   ]
  },
  {
   "cell_type": "code",
   "execution_count": 173,
   "metadata": {},
   "outputs": [],
   "source": [
    "from sklearn.metrics import mean_squared_error"
   ]
  },
  {
   "cell_type": "code",
   "execution_count": 174,
   "metadata": {},
   "outputs": [
    {
     "name": "stdout",
     "output_type": "stream",
     "text": [
      "Train Score: 8545.77 RMSE\n",
      "Test Score: 37191.30 RMSE\n"
     ]
    }
   ],
   "source": [
    "# calculate root mean squared error\n",
    "trainScore = mean_squared_error([x[0][0] for x in Xtrain], trainPredict, squared=False)\n",
    "print(\"Train Score: %.2f RMSE\" % (trainScore))\n",
    "\n",
    "testScore = mean_squared_error([x[0][0] for x in Xtest], testPredict, squared=False)\n",
    "print(\"Test Score: %.2f RMSE\" % (testScore))"
   ]
  }
 ],
 "metadata": {
  "kernelspec": {
   "display_name": "Python 3",
   "language": "python",
   "name": "python3"
  },
  "language_info": {
   "codemirror_mode": {
    "name": "ipython",
    "version": 3
   },
   "file_extension": ".py",
   "mimetype": "text/x-python",
   "name": "python",
   "nbconvert_exporter": "python",
   "pygments_lexer": "ipython3",
   "version": "3.8.5"
  }
 },
 "nbformat": 4,
 "nbformat_minor": 4
}
