{
 "cells": [
  {
   "cell_type": "code",
   "execution_count": 1,
   "metadata": {},
   "outputs": [],
   "source": [
    "from IPython.core.debugger import set_trace\n",
    "\n",
    "# %load_ext nb_black\n",
    "\n",
    "import pandas as pd\n",
    "import numpy as np\n",
    "import os\n",
    "import matplotlib.pyplot as plt\n",
    "import time\n",
    "\n",
    "plt.style.use(style=\"seaborn\")\n",
    "%matplotlib inline"
   ]
  },
  {
   "cell_type": "code",
   "execution_count": 2,
   "metadata": {},
   "outputs": [],
   "source": [
    "#df = pd.read_csv(\"data/MSFT-1Y-Hourly.csv\")\n",
    "df=pd.read_csv(\"data/merged.csv\")"
   ]
  },
  {
   "cell_type": "code",
   "execution_count": 3,
   "metadata": {},
   "outputs": [
    {
     "name": "stdout",
     "output_type": "stream",
     "text": [
      "<class 'pandas.core.frame.DataFrame'>\n",
      "RangeIndex: 1462 entries, 0 to 1461\n",
      "Data columns (total 12 columns):\n",
      " #   Column                        Non-Null Count  Dtype  \n",
      "---  ------                        --------------  -----  \n",
      " 0   date                          1462 non-null   object \n",
      " 1   open                          1461 non-null   float64\n",
      " 2   high                          1461 non-null   float64\n",
      " 3   low                           1461 non-null   float64\n",
      " 4   close                         1461 non-null   float64\n",
      " 5   volume                        1461 non-null   float64\n",
      " 6   close time                    1461 non-null   float64\n",
      " 7   Quote asset volume            1461 non-null   float64\n",
      " 8   Number of trades              1461 non-null   float64\n",
      " 9   Taker buy base asset volume   1461 non-null   float64\n",
      " 10  Taker buy quote asset volume  1461 non-null   float64\n",
      " 11  Ignore                        1461 non-null   float64\n",
      "dtypes: float64(11), object(1)\n",
      "memory usage: 137.2+ KB\n"
     ]
    }
   ],
   "source": [
    "df.info()"
   ]
  },
  {
   "cell_type": "code",
   "execution_count": 4,
   "metadata": {},
   "outputs": [],
   "source": [
    "df.set_index(\"date\", drop=True, inplace=True)"
   ]
  },
  {
   "cell_type": "markdown",
   "metadata": {},
   "source": [
    "We'll use only the close feature."
   ]
  },
  {
   "cell_type": "code",
   "execution_count": 5,
   "metadata": {},
   "outputs": [],
   "source": [
    "df = df[[\"close\"]]"
   ]
  },
  {
   "cell_type": "code",
   "execution_count": 6,
   "metadata": {},
   "outputs": [
    {
     "data": {
      "text/plain": [
       "False"
      ]
     },
     "execution_count": 6,
     "metadata": {},
     "output_type": "execute_result"
    }
   ],
   "source": [
    "type(df[\"close\"]) == type(df[[\"close\"]])"
   ]
  },
  {
   "cell_type": "code",
   "execution_count": 7,
   "metadata": {},
   "outputs": [
    {
     "data": {
      "text/plain": [
       "pandas.core.frame.DataFrame"
      ]
     },
     "execution_count": 7,
     "metadata": {},
     "output_type": "execute_result"
    }
   ],
   "source": [
    "type(df[[\"close\"]])"
   ]
  },
  {
   "cell_type": "code",
   "execution_count": 8,
   "metadata": {},
   "outputs": [
    {
     "data": {
      "text/html": [
       "<div>\n",
       "<style scoped>\n",
       "    .dataframe tbody tr th:only-of-type {\n",
       "        vertical-align: middle;\n",
       "    }\n",
       "\n",
       "    .dataframe tbody tr th {\n",
       "        vertical-align: top;\n",
       "    }\n",
       "\n",
       "    .dataframe thead th {\n",
       "        text-align: right;\n",
       "    }\n",
       "</style>\n",
       "<table border=\"1\" class=\"dataframe\">\n",
       "  <thead>\n",
       "    <tr style=\"text-align: right;\">\n",
       "      <th></th>\n",
       "      <th>close</th>\n",
       "    </tr>\n",
       "  </thead>\n",
       "  <tbody>\n",
       "    <tr>\n",
       "      <th>count</th>\n",
       "      <td>1461.000000</td>\n",
       "    </tr>\n",
       "    <tr>\n",
       "      <th>mean</th>\n",
       "      <td>14556.168884</td>\n",
       "    </tr>\n",
       "    <tr>\n",
       "      <th>std</th>\n",
       "      <td>14288.824617</td>\n",
       "    </tr>\n",
       "    <tr>\n",
       "      <th>min</th>\n",
       "      <td>3189.020000</td>\n",
       "    </tr>\n",
       "    <tr>\n",
       "      <th>25%</th>\n",
       "      <td>6635.650000</td>\n",
       "    </tr>\n",
       "    <tr>\n",
       "      <th>50%</th>\n",
       "      <td>9021.830000</td>\n",
       "    </tr>\n",
       "    <tr>\n",
       "      <th>75%</th>\n",
       "      <td>11945.010000</td>\n",
       "    </tr>\n",
       "    <tr>\n",
       "      <th>max</th>\n",
       "      <td>63575.000000</td>\n",
       "    </tr>\n",
       "  </tbody>\n",
       "</table>\n",
       "</div>"
      ],
      "text/plain": [
       "              close\n",
       "count   1461.000000\n",
       "mean   14556.168884\n",
       "std    14288.824617\n",
       "min     3189.020000\n",
       "25%     6635.650000\n",
       "50%     9021.830000\n",
       "75%    11945.010000\n",
       "max    63575.000000"
      ]
     },
     "execution_count": 8,
     "metadata": {},
     "output_type": "execute_result"
    }
   ],
   "source": [
    "df.describe()"
   ]
  },
  {
   "cell_type": "code",
   "execution_count": 9,
   "metadata": {},
   "outputs": [],
   "source": [
    "# plt.figure(1, figsize=(16, 6))\n",
    "# _ = plt.plot(df.close)"
   ]
  },
  {
   "cell_type": "markdown",
   "metadata": {},
   "source": [
    "Calculate the percentage change.\n",
    "\n",
    "The reason for using pct_change instead of the prices is the benefit of normalization as we can measure all variables in a comparable metric. Also returns have more manageable statistical properties than prices such as stationarity, as in most cases we don't have stationary prices but we can have stationary returns.\n",
    "\n",
    "A stationary time series is one where statistical properties such as mean, variance, correlation, etc are constant over time.\n",
    "For more details on stationarity: https://en.wikipedia.org/wiki/Stationary_process"
   ]
  },
  {
   "cell_type": "code",
   "execution_count": 10,
   "metadata": {},
   "outputs": [],
   "source": [
    "df[\"returns\"] = df.close.pct_change()"
   ]
  },
  {
   "cell_type": "code",
   "execution_count": 11,
   "metadata": {},
   "outputs": [
    {
     "data": {
      "text/html": [
       "<div>\n",
       "<style scoped>\n",
       "    .dataframe tbody tr th:only-of-type {\n",
       "        vertical-align: middle;\n",
       "    }\n",
       "\n",
       "    .dataframe tbody tr th {\n",
       "        vertical-align: top;\n",
       "    }\n",
       "\n",
       "    .dataframe thead th {\n",
       "        text-align: right;\n",
       "    }\n",
       "</style>\n",
       "<table border=\"1\" class=\"dataframe\">\n",
       "  <thead>\n",
       "    <tr style=\"text-align: right;\">\n",
       "      <th></th>\n",
       "      <th>close</th>\n",
       "      <th>returns</th>\n",
       "    </tr>\n",
       "    <tr>\n",
       "      <th>date</th>\n",
       "      <th></th>\n",
       "      <th></th>\n",
       "    </tr>\n",
       "  </thead>\n",
       "  <tbody>\n",
       "    <tr>\n",
       "      <th>1.50422E+12</th>\n",
       "      <td>4834.91</td>\n",
       "      <td>NaN</td>\n",
       "    </tr>\n",
       "    <tr>\n",
       "      <th>1.50431E+12</th>\n",
       "      <td>4472.14</td>\n",
       "      <td>-0.075031</td>\n",
       "    </tr>\n",
       "    <tr>\n",
       "      <th>1.5044E+12</th>\n",
       "      <td>4509.08</td>\n",
       "      <td>0.008260</td>\n",
       "    </tr>\n",
       "    <tr>\n",
       "      <th>1.50448E+12</th>\n",
       "      <td>4100.11</td>\n",
       "      <td>-0.090699</td>\n",
       "    </tr>\n",
       "    <tr>\n",
       "      <th>1.50457E+12</th>\n",
       "      <td>4366.47</td>\n",
       "      <td>0.064964</td>\n",
       "    </tr>\n",
       "  </tbody>\n",
       "</table>\n",
       "</div>"
      ],
      "text/plain": [
       "               close   returns\n",
       "date                          \n",
       "1.50422E+12  4834.91       NaN\n",
       "1.50431E+12  4472.14 -0.075031\n",
       "1.5044E+12   4509.08  0.008260\n",
       "1.50448E+12  4100.11 -0.090699\n",
       "1.50457E+12  4366.47  0.064964"
      ]
     },
     "execution_count": 11,
     "metadata": {},
     "output_type": "execute_result"
    }
   ],
   "source": [
    "df.head(5)"
   ]
  },
  {
   "cell_type": "code",
   "execution_count": 12,
   "metadata": {},
   "outputs": [
    {
     "data": {
      "text/plain": [
       "0.013996538490480992"
      ]
     },
     "execution_count": 12,
     "metadata": {},
     "output_type": "execute_result"
    }
   ],
   "source": [
    "134.75 / 132.89 - 1"
   ]
  },
  {
   "cell_type": "markdown",
   "metadata": {},
   "source": [
    "Calculate the log returns.\n",
    "\n",
    "Why use log returns: https://quantivity.wordpress.com/2011/02/21/why-log-returns/"
   ]
  },
  {
   "cell_type": "code",
   "execution_count": 13,
   "metadata": {},
   "outputs": [],
   "source": [
    "df[\"log_returns\"] = np.log(1 + df[\"returns\"])"
   ]
  },
  {
   "cell_type": "code",
   "execution_count": 14,
   "metadata": {},
   "outputs": [
    {
     "data": {
      "text/html": [
       "<div>\n",
       "<style scoped>\n",
       "    .dataframe tbody tr th:only-of-type {\n",
       "        vertical-align: middle;\n",
       "    }\n",
       "\n",
       "    .dataframe tbody tr th {\n",
       "        vertical-align: top;\n",
       "    }\n",
       "\n",
       "    .dataframe thead th {\n",
       "        text-align: right;\n",
       "    }\n",
       "</style>\n",
       "<table border=\"1\" class=\"dataframe\">\n",
       "  <thead>\n",
       "    <tr style=\"text-align: right;\">\n",
       "      <th></th>\n",
       "      <th>close</th>\n",
       "      <th>returns</th>\n",
       "      <th>log_returns</th>\n",
       "    </tr>\n",
       "    <tr>\n",
       "      <th>date</th>\n",
       "      <th></th>\n",
       "      <th></th>\n",
       "      <th></th>\n",
       "    </tr>\n",
       "  </thead>\n",
       "  <tbody>\n",
       "    <tr>\n",
       "      <th>1.50422E+12</th>\n",
       "      <td>4834.91</td>\n",
       "      <td>NaN</td>\n",
       "      <td>NaN</td>\n",
       "    </tr>\n",
       "    <tr>\n",
       "      <th>1.50431E+12</th>\n",
       "      <td>4472.14</td>\n",
       "      <td>-0.075031</td>\n",
       "      <td>-0.077995</td>\n",
       "    </tr>\n",
       "    <tr>\n",
       "      <th>1.5044E+12</th>\n",
       "      <td>4509.08</td>\n",
       "      <td>0.008260</td>\n",
       "      <td>0.008226</td>\n",
       "    </tr>\n",
       "    <tr>\n",
       "      <th>1.50448E+12</th>\n",
       "      <td>4100.11</td>\n",
       "      <td>-0.090699</td>\n",
       "      <td>-0.095079</td>\n",
       "    </tr>\n",
       "    <tr>\n",
       "      <th>1.50457E+12</th>\n",
       "      <td>4366.47</td>\n",
       "      <td>0.064964</td>\n",
       "      <td>0.062941</td>\n",
       "    </tr>\n",
       "  </tbody>\n",
       "</table>\n",
       "</div>"
      ],
      "text/plain": [
       "               close   returns  log_returns\n",
       "date                                       \n",
       "1.50422E+12  4834.91       NaN          NaN\n",
       "1.50431E+12  4472.14 -0.075031    -0.077995\n",
       "1.5044E+12   4509.08  0.008260     0.008226\n",
       "1.50448E+12  4100.11 -0.090699    -0.095079\n",
       "1.50457E+12  4366.47  0.064964     0.062941"
      ]
     },
     "execution_count": 14,
     "metadata": {},
     "output_type": "execute_result"
    }
   ],
   "source": [
    "df.head(5)"
   ]
  },
  {
   "cell_type": "code",
   "execution_count": 15,
   "metadata": {},
   "outputs": [],
   "source": [
    "# plt.figure(1, figsize=(16, 4))\n",
    "# plt.plot(df.returns)"
   ]
  },
  {
   "cell_type": "code",
   "execution_count": 16,
   "metadata": {},
   "outputs": [],
   "source": [
    "# plt.figure(1, figsize=(16, 4))\n",
    "# plt.plot(df.log_returns)"
   ]
  },
  {
   "cell_type": "code",
   "execution_count": 17,
   "metadata": {},
   "outputs": [],
   "source": [
    "df.dropna(inplace=True) #drop NANs\n",
    "X = df[[\"close\", \"log_returns\"]].values"
   ]
  },
  {
   "cell_type": "code",
   "execution_count": 18,
   "metadata": {},
   "outputs": [
    {
     "data": {
      "text/plain": [
       "array([[ 4.47214000e+03, -7.79954732e-02],\n",
       "       [ 4.50908000e+03,  8.22610031e-03],\n",
       "       [ 4.10011000e+03, -9.50793390e-02],\n",
       "       ...,\n",
       "       [ 4.87678300e+04, -2.61142577e-03],\n",
       "       [ 4.69829100e+04, -3.72869556e-02],\n",
       "       [ 4.71008900e+04,  2.50797825e-03]])"
      ]
     },
     "execution_count": 18,
     "metadata": {},
     "output_type": "execute_result"
    }
   ],
   "source": [
    "X"
   ]
  },
  {
   "cell_type": "code",
   "execution_count": 19,
   "metadata": {
    "scrolled": true
   },
   "outputs": [
    {
     "name": "stdout",
     "output_type": "stream",
     "text": [
      "(1460, 2)\n",
      "[[0.02124864 0.60180846]\n",
      " [0.02186037 0.72401164]\n",
      " [0.01508777 0.57759523]\n",
      " [0.01949873 0.80156006]\n",
      " [0.02369341 0.79227511]]\n"
     ]
    }
   ],
   "source": [
    "from sklearn.preprocessing import MinMaxScaler, StandardScaler\n",
    "scaler = MinMaxScaler(feature_range=(0, 1)).fit(X)\n",
    "# scaler = StandardScaler().fit(X)\n",
    "\n",
    "# X_scaled = scaler.transform(X)\n",
    "# print(X_scaled.shape)\n",
    "# print(X_scaled[:5])\n",
    "X = scaler.transform(X)\n",
    "print(X.shape)\n",
    "print(X[:5])"
   ]
  },
  {
   "cell_type": "code",
   "execution_count": 20,
   "metadata": {
    "scrolled": true
   },
   "outputs": [
    {
     "name": "stdout",
     "output_type": "stream",
     "text": [
      "1460\n",
      "[0.02124864082689392, 0.021860372225473525, 0.015087773685216334, 0.019498731328033432, 0.02369341360362124]\n"
     ]
    }
   ],
   "source": [
    "# y = [x[0] for x in X_scaled]\n",
    "y = [x[0] for x in X]\n",
    "print(len(y))\n",
    "print(y[:5])"
   ]
  },
  {
   "cell_type": "markdown",
   "metadata": {},
   "source": [
    "#### train test split"
   ]
  },
  {
   "cell_type": "code",
   "execution_count": 21,
   "metadata": {},
   "outputs": [
    {
     "name": "stdout",
     "output_type": "stream",
     "text": [
      "1168\n"
     ]
    }
   ],
   "source": [
    "# split = int(len(X_scaled) * 0.8)\n",
    "split = int(len(X) * 0.8)\n",
    "print(split)"
   ]
  },
  {
   "cell_type": "code",
   "execution_count": 22,
   "metadata": {},
   "outputs": [],
   "source": [
    "from sklearn.preprocessing import MinMaxScaler, StandardScaler\n",
    "# X_test = X_scaled[:split]\n",
    "# X_train = X_scaled[split : len(X_scaled)]\n",
    "X_train = X[:split]\n",
    "X_test = X[split : len(X)]\n",
    "y_train = y[:split]\n",
    "y_test = y[split : len(y)]\n",
    "\n",
    "\n",
    "\n",
    "# # .StandardScaler() ->  scaler = StandardScaler().fit(X_test)\n",
    "# # scaler = MinMaxScaler(feature_range=(0, 1)).fit(X_test)\n",
    "# # scaler_x = MinMaxScaler(feature_range=(0, 1)).fit(X)\n",
    "# scaler_x = StandardScaler().fit(X)\n",
    "# X_test = scaler_x.transform(X_test)\n",
    "# # scaler = MinMaxScaler(feature_range=(0, 1)).fit(X_train)\n",
    "# X_train = scaler_x.transform(X_train)\n",
    "\n",
    "# scaler_y = StandardScaler().fit(pd.DataFrame(y).values.reshape(-1, 1))\n",
    "# y_test = scaler_y.transform(pd.DataFrame(y_test).values.reshape(-1, 1))\n",
    "# # y_test = scaler.transform(y_test)\n",
    "# # scaler = MinMaxScaler(feature_range=(0, 1)).fit(pd.DataFrame(y_train).values.reshape(-1,1))\n",
    "# y_train = scaler_y.transform(pd.DataFrame(y_train).values.reshape(-1,1))"
   ]
  },
  {
   "cell_type": "code",
   "execution_count": 23,
   "metadata": {},
   "outputs": [
    {
     "name": "stdout",
     "output_type": "stream",
     "text": [
      "1168 == 1168\n",
      "292 == 292\n"
     ]
    }
   ],
   "source": [
    "print(len(X_train),\"==\", len(y_train))\n",
    "print(len(X_test),\"==\" ,len(y_test))"
   ]
  },
  {
   "cell_type": "markdown",
   "metadata": {},
   "source": [
    "#### Labeling\n",
    "\n",
    "We want to predict the stock price at a future time. We'll predict the stock price at time t + 1 relative to the stock price at time t."
   ]
  },
  {
   "cell_type": "markdown",
   "metadata": {},
   "source": [
    "As we're going to use an LSTM architecture, we know that it has memory and that it is maintained by setting the time step, basically how many steps in the past we want the LSTM to use.\n",
    "\n",
    "The time step  refers to how many steps in time we want the backpropagation algorithm to use when calculating gradients for weight updates during testing.\n",
    "\n",
    "So we can use a method to create both the timestep and the output variable, the t + 1."
   ]
  },
  {
   "cell_type": "code",
   "execution_count": 95,
   "metadata": {},
   "outputs": [
    {
     "name": "stdout",
     "output_type": "stream",
     "text": [
      "BEFORE\n",
      "<class 'numpy.ndarray'> 1168 <class 'numpy.ndarray'> (2,)\n",
      "[[0.02124864 0.60180846]\n",
      " [0.02186037 0.72401164]\n",
      " [0.01508777 0.57759523]\n",
      " [0.01949873 0.80156006]\n",
      " [0.02369341 0.79227511]]\n",
      "<class 'list'> 1168 <class 'numpy.float64'> ()\n",
      "          0\n",
      "0  0.021249\n",
      "1  0.021860\n",
      "2  0.015088\n",
      "3  0.019499\n",
      "4  0.023693\n",
      "AFTER DATA SEPARATION!!!!\n",
      "<class 'list'> 1158 <class 'numpy.ndarray'> (10, 2)\n",
      "[[0.02124864 0.60180846]\n",
      " [0.02186037 0.72401164]\n",
      " [0.01508777 0.57759523]\n",
      " [0.01949873 0.80156006]\n",
      " [0.02369341 0.79227511]] \n",
      "\n",
      "[[0.02186037 0.72401164]\n",
      " [0.01508777 0.57759523]\n",
      " [0.01949873 0.80156006]\n",
      " [0.02369341 0.79227511]\n",
      " [0.02488309 0.7342231 ]]\n",
      "<class 'list'> 1158 <class 'numpy.float64'> ()\n",
      "          0\n",
      "0  0.016141\n",
      "1  0.012514\n",
      "2  0.000000\n",
      "3  0.008462\n",
      "4  0.008709\n"
     ]
    }
   ],
   "source": [
    "n = 10\n",
    "Xtrain = []\n",
    "ytrain = []\n",
    "Xtest = []\n",
    "ytest = []\n",
    "\n",
    "print(\"BEFORE\")\n",
    "print(type(X_train),len(X_train),type(X_train[0]),X_train[0].shape)\n",
    "print(X_train[:5])\n",
    "print(type(y_train),len(y_train),type(y_train[0]),y_train[0].shape)\n",
    "print(pd.DataFrame(y_train[:5]))\n",
    "\n",
    "for i in range(n, len(X_train)):\n",
    "    Xtrain.append(X_train[i - n : i, : X_train.shape[1]])\n",
    "    ytrain.append(y_train[i])  # predict next record\n",
    "for i in range(n, len(X_test)):\n",
    "    Xtest.append(X_test[i - n : i, : X_test.shape[1]])\n",
    "    ytest.append(y_test[i])  # predict next record\n",
    "\n",
    "print(\"AFTER DATA SEPARATION!!!!\")\n",
    "print(type(Xtrain),len(Xtrain),type(Xtrain[0]),Xtrain[0].shape)\n",
    "print(Xtrain[0][:5],\"\\n\")\n",
    "print(Xtrain[1][:5])\n",
    "\n",
    "\n",
    "print(type(ytrain),len(ytrain),type(ytrain[0]),ytrain[0].shape)\n",
    "print(pd.DataFrame(ytrain[:5]))"
   ]
  },
  {
   "cell_type": "code",
   "execution_count": 96,
   "metadata": {},
   "outputs": [
    {
     "name": "stdout",
     "output_type": "stream",
     "text": [
      "TEST BEFORE\n",
      "<class 'numpy.ndarray'> 292 <class 'numpy.ndarray'> (2,)\n",
      "[[0.2174624  0.71485939]\n",
      " [0.21331822 0.69045222]\n",
      " [0.21143948 0.70231158]\n",
      " [0.22396838 0.77800748]\n",
      " [0.23963112 0.79037039]]\n",
      "<class 'list'> 292 <class 'numpy.float64'> ()\n",
      "          0\n",
      "0  0.217462\n",
      "1  0.213318\n",
      "2  0.211439\n",
      "3  0.223968\n",
      "4  0.239631\n",
      "AFTER DATA SEPARATION!!!!\n",
      "<class 'list'> 282 <class 'numpy.ndarray'> (10, 2)\n",
      "[[0.2174624  0.71485939]\n",
      " [0.21331822 0.69045222]\n",
      " [0.21143948 0.70231158]\n",
      " [0.22396838 0.77800748]\n",
      " [0.23963112 0.79037039]] \n",
      "\n",
      "[[0.21331822 0.69045222]\n",
      " [0.21143948 0.70231158]\n",
      " [0.22396838 0.77800748]\n",
      " [0.23963112 0.79037039]\n",
      " [0.24156435 0.72169121]]\n",
      "<class 'list'> 282 <class 'numpy.float64'> ()\n",
      "          0\n",
      "0  0.251366\n",
      "1  0.264482\n",
      "2  0.257180\n",
      "3  0.231187\n",
      "4  0.231022\n"
     ]
    }
   ],
   "source": [
    "print(\"TEST BEFORE\")\n",
    "print(type(X_test),len(X_test),type(X_test[0]),X_test[0].shape)\n",
    "print(X_test[:5])\n",
    "print(type(y_test),len(y_test),type(y_test[0]),y_test[0].shape)\n",
    "print(pd.DataFrame(y_test[:5]))\n",
    "\n",
    "print(\"AFTER DATA SEPARATION!!!!\")\n",
    "print(type(Xtest),len(Xtest),type(Xtest[0]),Xtest[0].shape)\n",
    "print(Xtest[0][:5],\"\\n\")\n",
    "print(Xtest[1][:5])\n",
    "print(type(ytest),len(ytest),type(ytest[0]),ytest[0].shape)\n",
    "print(pd.DataFrame(ytest[:5]))"
   ]
  },
  {
   "cell_type": "code",
   "execution_count": 97,
   "metadata": {},
   "outputs": [
    {
     "data": {
      "text/html": [
       "<div>\n",
       "<style scoped>\n",
       "    .dataframe tbody tr th:only-of-type {\n",
       "        vertical-align: middle;\n",
       "    }\n",
       "\n",
       "    .dataframe tbody tr th {\n",
       "        vertical-align: top;\n",
       "    }\n",
       "\n",
       "    .dataframe thead th {\n",
       "        text-align: right;\n",
       "    }\n",
       "</style>\n",
       "<table border=\"1\" class=\"dataframe\">\n",
       "  <thead>\n",
       "    <tr style=\"text-align: right;\">\n",
       "      <th></th>\n",
       "      <th>close</th>\n",
       "      <th>returns</th>\n",
       "      <th>log_returns</th>\n",
       "    </tr>\n",
       "    <tr>\n",
       "      <th>date</th>\n",
       "      <th></th>\n",
       "      <th></th>\n",
       "      <th></th>\n",
       "    </tr>\n",
       "  </thead>\n",
       "  <tbody>\n",
       "    <tr>\n",
       "      <th>1.50431E+12</th>\n",
       "      <td>4472.14</td>\n",
       "      <td>-0.075031</td>\n",
       "      <td>-0.077995</td>\n",
       "    </tr>\n",
       "    <tr>\n",
       "      <th>1.5044E+12</th>\n",
       "      <td>4509.08</td>\n",
       "      <td>0.008260</td>\n",
       "      <td>0.008226</td>\n",
       "    </tr>\n",
       "    <tr>\n",
       "      <th>1.50448E+12</th>\n",
       "      <td>4100.11</td>\n",
       "      <td>-0.090699</td>\n",
       "      <td>-0.095079</td>\n",
       "    </tr>\n",
       "    <tr>\n",
       "      <th>1.50457E+12</th>\n",
       "      <td>4366.47</td>\n",
       "      <td>0.064964</td>\n",
       "      <td>0.062941</td>\n",
       "    </tr>\n",
       "    <tr>\n",
       "      <th>1.50466E+12</th>\n",
       "      <td>4619.77</td>\n",
       "      <td>0.058010</td>\n",
       "      <td>0.056390</td>\n",
       "    </tr>\n",
       "  </tbody>\n",
       "</table>\n",
       "</div>"
      ],
      "text/plain": [
       "               close   returns  log_returns\n",
       "date                                       \n",
       "1.50431E+12  4472.14 -0.075031    -0.077995\n",
       "1.5044E+12   4509.08  0.008260     0.008226\n",
       "1.50448E+12  4100.11 -0.090699    -0.095079\n",
       "1.50457E+12  4366.47  0.064964     0.062941\n",
       "1.50466E+12  4619.77  0.058010     0.056390"
      ]
     },
     "execution_count": 97,
     "metadata": {},
     "output_type": "execute_result"
    }
   ],
   "source": [
    "df.head(5)"
   ]
  },
  {
   "cell_type": "code",
   "execution_count": 98,
   "metadata": {},
   "outputs": [],
   "source": [
    "val = np.array(ytrain[0])\n",
    "val = np.c_[val, np.zeros(val.shape)]"
   ]
  },
  {
   "cell_type": "code",
   "execution_count": 99,
   "metadata": {},
   "outputs": [
    {
     "data": {
      "text/plain": [
       "array([[ 4.16372000e+03, -5.02606943e-01]])"
      ]
     },
     "execution_count": 99,
     "metadata": {},
     "output_type": "execute_result"
    }
   ],
   "source": [
    "scaler.inverse_transform(val)"
   ]
  },
  {
   "cell_type": "markdown",
   "metadata": {},
   "source": [
    "In an LSTM network the input for each LSTM layer needs to contain the following information:\n",
    "- The number of observations\n",
    "- The time steps\n",
    "- The features\n",
    "\n",
    "Therefore we need to add a temporal dimension compared to a classical network:\n",
    "\n",
    "(number of observations, number of steps, number of features per step)"
   ]
  },
  {
   "cell_type": "code",
   "execution_count": 100,
   "metadata": {},
   "outputs": [],
   "source": [
    "Xtrain, ytrain = (np.array(Xtrain), np.array(ytrain))\n",
    "Xtrain = np.reshape(Xtrain, (Xtrain.shape[0], Xtrain.shape[1], Xtrain.shape[2]))\n",
    "\n",
    "Xtest, ytest = (np.array(Xtest), np.array(ytest))\n",
    "Xtest = np.reshape(Xtest, (Xtest.shape[0], Xtest.shape[1], Xtest.shape[2]))"
   ]
  },
  {
   "cell_type": "code",
   "execution_count": 101,
   "metadata": {
    "scrolled": true
   },
   "outputs": [
    {
     "name": "stdout",
     "output_type": "stream",
     "text": [
      "(1158, 10, 2)\n",
      "(1158,)\n",
      "---\n",
      "(282, 10, 2)\n",
      "(282,)\n"
     ]
    }
   ],
   "source": [
    "print(Xtrain.shape)\n",
    "print(ytrain.shape)\n",
    "print(\"---\")\n",
    "print(Xtest.shape)\n",
    "print(ytest.shape)"
   ]
  },
  {
   "cell_type": "markdown",
   "metadata": {},
   "source": [
    "#### LSTM Model"
   ]
  },
  {
   "cell_type": "code",
   "execution_count": 102,
   "metadata": {},
   "outputs": [],
   "source": [
    "from keras.models import Sequential\n",
    "from keras.layers import LSTM, Dense, Dropout\n",
    "from keras.optimizers import Adam\n",
    "from keras.callbacks import EarlyStopping"
   ]
  },
  {
   "cell_type": "code",
   "execution_count": 103,
   "metadata": {
    "scrolled": true
   },
   "outputs": [
    {
     "name": "stdout",
     "output_type": "stream",
     "text": [
      "Epoch 1/250\n",
      "73/73 [==============================] - 13s 63ms/step - loss: 0.0026 - val_loss: 0.0328\n",
      "Epoch 2/250\n",
      "73/73 [==============================] - 2s 26ms/step - loss: 4.8928e-04 - val_loss: 0.0477\n",
      "Epoch 3/250\n",
      "73/73 [==============================] - 2s 26ms/step - loss: 4.1202e-04 - val_loss: 0.0477\n",
      "Epoch 4/250\n",
      "73/73 [==============================] - 2s 26ms/step - loss: 3.8658e-04 - val_loss: 0.0447\n",
      "Epoch 5/250\n",
      "73/73 [==============================] - 2s 26ms/step - loss: 3.7298e-04 - val_loss: 0.0658\n",
      "Epoch 6/250\n",
      "73/73 [==============================] - 2s 26ms/step - loss: 3.5084e-04 - val_loss: 0.0663\n",
      "Epoch 7/250\n",
      "73/73 [==============================] - 2s 26ms/step - loss: 4.0279e-04 - val_loss: 0.0300\n",
      "Epoch 8/250\n",
      "73/73 [==============================] - 2s 26ms/step - loss: 2.5903e-04 - val_loss: 0.0410\n",
      "Epoch 9/250\n",
      "73/73 [==============================] - 2s 26ms/step - loss: 3.4963e-04 - val_loss: 0.0254\n",
      "Epoch 10/250\n",
      "73/73 [==============================] - 2s 26ms/step - loss: 2.7468e-04 - val_loss: 0.0304\n",
      "Epoch 11/250\n",
      "73/73 [==============================] - 2s 26ms/step - loss: 2.6136e-04 - val_loss: 0.0604\n",
      "Epoch 12/250\n",
      "73/73 [==============================] - 2s 26ms/step - loss: 2.4645e-04 - val_loss: 0.0162\n",
      "Epoch 13/250\n",
      "73/73 [==============================] - 2s 26ms/step - loss: 2.2841e-04 - val_loss: 0.0280\n",
      "Epoch 14/250\n",
      "73/73 [==============================] - 2s 26ms/step - loss: 2.1974e-04 - val_loss: 0.0175\n",
      "Epoch 15/250\n",
      "73/73 [==============================] - 2s 26ms/step - loss: 2.2074e-04 - val_loss: 0.0245\n",
      "Epoch 16/250\n",
      "73/73 [==============================] - 2s 26ms/step - loss: 2.1544e-04 - val_loss: 0.0253\n",
      "Epoch 17/250\n",
      "73/73 [==============================] - 2s 25ms/step - loss: 1.6946e-04 - val_loss: 0.0209\n",
      "Epoch 18/250\n",
      "73/73 [==============================] - 2s 26ms/step - loss: 1.3574e-04 - val_loss: 0.0115\n",
      "Epoch 19/250\n",
      "73/73 [==============================] - 2s 26ms/step - loss: 1.8341e-04 - val_loss: 0.0238\n",
      "Epoch 20/250\n",
      "73/73 [==============================] - 2s 25ms/step - loss: 1.2269e-04 - val_loss: 0.0162\n",
      "Epoch 21/250\n",
      "73/73 [==============================] - 2s 26ms/step - loss: 1.7193e-04 - val_loss: 0.0217\n",
      "Epoch 22/250\n",
      "73/73 [==============================] - 2s 25ms/step - loss: 1.3921e-04 - val_loss: 0.0229\n",
      "Epoch 23/250\n",
      "73/73 [==============================] - 2s 25ms/step - loss: 1.4030e-04 - val_loss: 0.0354\n",
      "Epoch 24/250\n",
      "73/73 [==============================] - 2s 26ms/step - loss: 1.1770e-04 - val_loss: 0.0289\n",
      "Epoch 25/250\n",
      "73/73 [==============================] - 2s 25ms/step - loss: 1.4464e-04 - val_loss: 0.0101\n",
      "Epoch 26/250\n",
      "73/73 [==============================] - 2s 25ms/step - loss: 9.0886e-05 - val_loss: 0.0152\n",
      "Epoch 27/250\n",
      "73/73 [==============================] - 2s 25ms/step - loss: 1.2304e-04 - val_loss: 0.0131\n",
      "Epoch 28/250\n",
      "73/73 [==============================] - 2s 26ms/step - loss: 9.5975e-05 - val_loss: 0.0125\n",
      "Epoch 29/250\n",
      "73/73 [==============================] - 2s 25ms/step - loss: 9.7271e-05 - val_loss: 0.0035\n",
      "Epoch 30/250\n",
      "73/73 [==============================] - 2s 25ms/step - loss: 1.1423e-04 - val_loss: 0.0014\n",
      "Epoch 31/250\n",
      "73/73 [==============================] - 2s 25ms/step - loss: 1.0183e-04 - val_loss: 0.0101\n",
      "Epoch 32/250\n",
      "73/73 [==============================] - 2s 25ms/step - loss: 1.0208e-04 - val_loss: 0.0172\n",
      "Epoch 33/250\n",
      "73/73 [==============================] - 2s 25ms/step - loss: 1.2365e-04 - val_loss: 0.0060\n",
      "Epoch 34/250\n",
      "73/73 [==============================] - 2s 25ms/step - loss: 8.3238e-05 - val_loss: 0.0080\n",
      "Epoch 35/250\n",
      "73/73 [==============================] - 2s 25ms/step - loss: 8.7422e-05 - val_loss: 0.0012\n",
      "Epoch 36/250\n",
      "73/73 [==============================] - 2s 25ms/step - loss: 1.1584e-04 - val_loss: 0.0057\n",
      "Epoch 37/250\n",
      "73/73 [==============================] - 2s 25ms/step - loss: 1.0650e-04 - val_loss: 0.0056\n",
      "Epoch 38/250\n",
      "73/73 [==============================] - 2s 25ms/step - loss: 9.9070e-05 - val_loss: 0.0022\n",
      "Epoch 39/250\n",
      "73/73 [==============================] - 2s 25ms/step - loss: 8.1944e-05 - val_loss: 0.0088\n",
      "Epoch 40/250\n",
      "73/73 [==============================] - 2s 25ms/step - loss: 9.1881e-05 - val_loss: 0.0014\n",
      "Epoch 41/250\n",
      "73/73 [==============================] - 2s 25ms/step - loss: 1.0070e-04 - val_loss: 0.0196\n",
      "Epoch 42/250\n",
      "73/73 [==============================] - 2s 25ms/step - loss: 1.1411e-04 - val_loss: 0.0074\n",
      "Epoch 43/250\n",
      "73/73 [==============================] - 2s 25ms/step - loss: 6.4838e-05 - val_loss: 0.0013\n",
      "Epoch 44/250\n",
      "73/73 [==============================] - 2s 25ms/step - loss: 1.4050e-04 - val_loss: 0.0047\n",
      "Epoch 45/250\n",
      "73/73 [==============================] - 2s 25ms/step - loss: 8.6536e-05 - val_loss: 0.0161\n",
      "Epoch 46/250\n",
      "73/73 [==============================] - 2s 25ms/step - loss: 8.2177e-05 - val_loss: 0.0064\n",
      "Epoch 47/250\n",
      "73/73 [==============================] - 2s 25ms/step - loss: 8.2838e-05 - val_loss: 0.0092\n",
      "Epoch 48/250\n",
      "73/73 [==============================] - 2s 25ms/step - loss: 7.5835e-05 - val_loss: 0.0012\n",
      "Epoch 49/250\n",
      "73/73 [==============================] - 2s 25ms/step - loss: 9.2961e-05 - val_loss: 0.0041\n",
      "Epoch 50/250\n",
      "73/73 [==============================] - 2s 26ms/step - loss: 1.0151e-04 - val_loss: 0.0128\n",
      "Epoch 51/250\n",
      "73/73 [==============================] - 2s 25ms/step - loss: 9.6649e-05 - val_loss: 0.0031\n",
      "Epoch 52/250\n",
      "73/73 [==============================] - 2s 26ms/step - loss: 7.8783e-05 - val_loss: 0.0116\n",
      "Epoch 53/250\n",
      "73/73 [==============================] - 2s 25ms/step - loss: 9.2586e-05 - val_loss: 0.0237\n",
      "Epoch 54/250\n",
      "73/73 [==============================] - 2s 26ms/step - loss: 8.9363e-05 - val_loss: 0.0024\n",
      "Epoch 55/250\n",
      "73/73 [==============================] - 2s 25ms/step - loss: 7.1029e-05 - val_loss: 0.0018\n",
      "Epoch 56/250\n",
      "73/73 [==============================] - 2s 26ms/step - loss: 9.4221e-05 - val_loss: 0.0041\n",
      "Epoch 57/250\n",
      "73/73 [==============================] - 2s 26ms/step - loss: 8.1554e-05 - val_loss: 0.0067\n",
      "Epoch 58/250\n",
      "73/73 [==============================] - 2s 25ms/step - loss: 9.2875e-05 - val_loss: 0.0102\n",
      "Epoch 59/250\n",
      "73/73 [==============================] - 2s 26ms/step - loss: 8.0294e-05 - val_loss: 0.0033\n",
      "Epoch 60/250\n",
      "73/73 [==============================] - 2s 25ms/step - loss: 8.5319e-05 - val_loss: 0.0094\n",
      "Epoch 61/250\n",
      "73/73 [==============================] - 2s 25ms/step - loss: 7.2333e-05 - val_loss: 0.0048\n",
      "Epoch 62/250\n",
      "73/73 [==============================] - 2s 25ms/step - loss: 7.7438e-05 - val_loss: 0.0046\n",
      "Epoch 63/250\n",
      "73/73 [==============================] - 2s 25ms/step - loss: 8.4410e-05 - val_loss: 0.0058\n",
      "Epoch 64/250\n",
      "73/73 [==============================] - 2s 25ms/step - loss: 8.5791e-05 - val_loss: 0.0037\n",
      "Epoch 65/250\n",
      "73/73 [==============================] - 2s 25ms/step - loss: 7.8896e-05 - val_loss: 0.0072\n",
      "Epoch 66/250\n",
      "73/73 [==============================] - 2s 25ms/step - loss: 9.4643e-05 - val_loss: 0.0192\n",
      "Epoch 67/250\n",
      "73/73 [==============================] - 2s 26ms/step - loss: 1.0308e-04 - val_loss: 0.0114\n",
      "Epoch 68/250\n",
      "73/73 [==============================] - 2s 26ms/step - loss: 8.1080e-05 - val_loss: 0.0100\n",
      "Epoch 69/250\n",
      "73/73 [==============================] - 2s 25ms/step - loss: 7.8822e-05 - val_loss: 0.0122\n",
      "Epoch 70/250\n",
      "73/73 [==============================] - 2s 25ms/step - loss: 1.0193e-04 - val_loss: 0.0083\n",
      "Epoch 71/250\n",
      "73/73 [==============================] - 2s 26ms/step - loss: 7.9164e-05 - val_loss: 0.0079\n",
      "Epoch 72/250\n",
      "73/73 [==============================] - 2s 25ms/step - loss: 9.2936e-05 - val_loss: 0.0038\n",
      "Epoch 73/250\n",
      "73/73 [==============================] - 2s 25ms/step - loss: 7.2969e-05 - val_loss: 0.0095\n",
      "Epoch 74/250\n",
      "73/73 [==============================] - 2s 25ms/step - loss: 7.6307e-05 - val_loss: 0.0143\n",
      "Epoch 75/250\n",
      "73/73 [==============================] - 2s 25ms/step - loss: 9.2628e-05 - val_loss: 0.0103\n",
      "Epoch 76/250\n",
      "73/73 [==============================] - 2s 25ms/step - loss: 7.2104e-05 - val_loss: 0.0065\n",
      "Epoch 77/250\n",
      "73/73 [==============================] - 2s 25ms/step - loss: 7.1099e-05 - val_loss: 0.0092\n",
      "Epoch 78/250\n",
      "73/73 [==============================] - 2s 25ms/step - loss: 8.2577e-05 - val_loss: 0.0120\n",
      "Epoch 79/250\n"
     ]
    },
    {
     "name": "stdout",
     "output_type": "stream",
     "text": [
      "73/73 [==============================] - 2s 25ms/step - loss: 8.6248e-05 - val_loss: 0.0135\n",
      "Epoch 80/250\n",
      "73/73 [==============================] - 2s 25ms/step - loss: 7.4498e-05 - val_loss: 0.0176\n",
      "Epoch 81/250\n",
      "73/73 [==============================] - 2s 26ms/step - loss: 7.6570e-05 - val_loss: 0.0231\n",
      "Epoch 82/250\n",
      "73/73 [==============================] - 2s 25ms/step - loss: 1.1319e-04 - val_loss: 0.0184\n",
      "Epoch 83/250\n",
      "73/73 [==============================] - 2s 25ms/step - loss: 8.5736e-05 - val_loss: 0.0144\n",
      "Epoch 84/250\n",
      "73/73 [==============================] - 2s 25ms/step - loss: 8.5468e-05 - val_loss: 0.0275\n",
      "Epoch 85/250\n",
      "73/73 [==============================] - 2s 25ms/step - loss: 8.4281e-05 - val_loss: 0.0160\n"
     ]
    }
   ],
   "source": [
    "callback = EarlyStopping(monitor='val_loss', patience=50)\n",
    "\n",
    "model = Sequential()\n",
    "model.add(LSTM(100, input_shape=(Xtrain.shape[1], Xtrain.shape[2]),return_sequences=True))\n",
    "model.add(Dropout(0.1))\n",
    "model.add(LSTM(100,return_sequences=True))\n",
    "model.add(Dropout(0.1))\n",
    "model.add(LSTM(100,return_sequences=True))\n",
    "model.add(Dropout(0.1))\n",
    "model.add(LSTM(50,return_sequences=True))\n",
    "model.add(Dropout(0.1))\n",
    "model.add(LSTM(20,return_sequences=False))\n",
    "model.add(Dropout(0.1))\n",
    "model.add(Dense(1))\n",
    "model.compile(loss=\"mean_squared_error\", optimizer=Adam(1e-3))\n",
    "history=model.fit(\n",
    "    Xtrain, ytrain, epochs=250, validation_data=(Xtest, ytest), \n",
    "    batch_size=16, verbose=1, callbacks=[callback]\n",
    ")"
   ]
  },
  {
   "cell_type": "code",
   "execution_count": 104,
   "metadata": {},
   "outputs": [
    {
     "data": {
      "image/png": "[encoded data removed]",
      "text/plain": [
       "<Figure size 432x288 with 2 Axes>"
      ]
     },
     "metadata": {
      "needs_background": "light"
     },
     "output_type": "display_data"
    }
   ],
   "source": [
    "fig, ax1 = plt.subplots(constrained_layout=True)\n",
    "ax2 = ax1.twinx()\n",
    "ax1.plot(history.history['loss'], label='train')\n",
    "ax1.set_xlabel('epoch')\n",
    "ax1.set_ylabel('loss')\n",
    "ax2.plot(history.history['val_loss'],color='green', label='val')\n",
    "ax2.set_ylabel('val loss')\n",
    "plt.show()"
   ]
  },
  {
   "cell_type": "code",
   "execution_count": 105,
   "metadata": {},
   "outputs": [
    {
     "name": "stdout",
     "output_type": "stream",
     "text": [
      "Model: \"sequential_6\"\n",
      "_________________________________________________________________\n",
      "Layer (type)                 Output Shape              Param #   \n",
      "=================================================================\n",
      "lstm_30 (LSTM)               (None, 10, 100)           41200     \n",
      "_________________________________________________________________\n",
      "dropout_30 (Dropout)         (None, 10, 100)           0         \n",
      "_________________________________________________________________\n",
      "lstm_31 (LSTM)               (None, 10, 100)           80400     \n",
      "_________________________________________________________________\n",
      "dropout_31 (Dropout)         (None, 10, 100)           0         \n",
      "_________________________________________________________________\n",
      "lstm_32 (LSTM)               (None, 10, 100)           80400     \n",
      "_________________________________________________________________\n",
      "dropout_32 (Dropout)         (None, 10, 100)           0         \n",
      "_________________________________________________________________\n",
      "lstm_33 (LSTM)               (None, 10, 50)            30200     \n",
      "_________________________________________________________________\n",
      "dropout_33 (Dropout)         (None, 10, 50)            0         \n",
      "_________________________________________________________________\n",
      "lstm_34 (LSTM)               (None, 20)                5680      \n",
      "_________________________________________________________________\n",
      "dropout_34 (Dropout)         (None, 20)                0         \n",
      "_________________________________________________________________\n",
      "dense_6 (Dense)              (None, 1)                 21        \n",
      "=================================================================\n",
      "Total params: 237,901\n",
      "Trainable params: 237,901\n",
      "Non-trainable params: 0\n",
      "_________________________________________________________________\n"
     ]
    }
   ],
   "source": [
    "model.summary()"
   ]
  },
  {
   "cell_type": "code",
   "execution_count": 106,
   "metadata": {},
   "outputs": [
    {
     "name": "stdout",
     "output_type": "stream",
     "text": [
      "Xtest\n",
      " [[0.2174624  0.71485939]\n",
      " [0.21331822 0.69045222]\n",
      " [0.21143948 0.70231158]] \n",
      "\n",
      "Xtest\n",
      " [[0.21331822 0.69045222]\n",
      " [0.21143948 0.70231158]\n",
      " [0.22396838 0.77800748]] \n",
      "\n",
      "ytest\n",
      " [0.25136596 0.26448176 0.25718039 0.23118694 0.23102217]\n",
      "ytrain\n",
      " [0.01614116 0.012514   0.         0.0084619  0.00870947]\n",
      "BEFORE INVERT\n",
      "trainPredict 1158 \n",
      " [[0.02305461]\n",
      " [0.02311882]\n",
      " [0.01929113]\n",
      " [0.00525575]\n",
      " [0.01297066]]\n",
      "testPredict 282 \n",
      " [[0.24154377]\n",
      " [0.24164125]\n",
      " [0.25516367]\n",
      " [0.24562442]\n",
      " [0.22284907]]\n"
     ]
    }
   ],
   "source": [
    "trainPredict = model.predict(Xtrain)\n",
    "testPredict = model.predict(Xtest)\n",
    "\n",
    "print(\"Xtest\\n\",Xtest[0][:3],\"\\n\")\n",
    "print(\"Xtest\\n\",Xtest[1][:3],\"\\n\")\n",
    "print(\"ytest\\n\",ytest[:5])\n",
    "print(\"ytrain\\n\",ytrain[:5])\n",
    "\n",
    "print(\"BEFORE INVERT\")\n",
    "print(\"trainPredict\",len(trainPredict),\"\\n\",trainPredict[:5])\n",
    "print(\"testPredict\",len(testPredict),\"\\n\",testPredict[:5])"
   ]
  },
  {
   "cell_type": "code",
   "execution_count": 107,
   "metadata": {},
   "outputs": [],
   "source": [
    "trainPredict = np.c_[trainPredict, np.zeros(trainPredict.shape)]\n",
    "testPredict = np.c_[testPredict, np.zeros(testPredict.shape)]"
   ]
  },
  {
   "cell_type": "code",
   "execution_count": 108,
   "metadata": {},
   "outputs": [],
   "source": [
    "# invert predictions\n",
    "trainPredict = scaler.inverse_transform(trainPredict)\n",
    "trainPredict = [x[0] for x in trainPredict]\n",
    "\n",
    "testPredict = scaler.inverse_transform(testPredict)\n",
    "testPredict = [x[0] for x in testPredict]\n"
   ]
  },
  {
   "cell_type": "code",
   "execution_count": 109,
   "metadata": {},
   "outputs": [
    {
     "name": "stdout",
     "output_type": "stream",
     "text": [
      "AFTER INVERT\n",
      "1158 282\n",
      "real (1460,) \n",
      " date\n",
      "1.50431E+12    4472.14\n",
      "1.5044E+12     4509.08\n",
      "1.50448E+12    4100.11\n",
      "1.50457E+12    4366.47\n",
      "1.50466E+12    4619.77\n",
      "Name: close, dtype: float64\n",
      "trainPredict 1158 [4581.195499955118, 4585.072604644672, 4353.933952706457, 3506.393693598062, 3972.265783255697]\n",
      "testPredict 282 [17774.87725446701, 17780.763884900214, 18597.328248357775, 18021.29149642229, 16645.97954598546, 16782.18368469119, 17298.522697485685, 17685.521407854558, 19177.72733357668, 17935.74009393573]\n",
      "targetY 292 [[ 1.63207000e+04 -5.02606943e-01]\n",
      " [ 1.60704500e+04 -5.02606943e-01]\n",
      " [ 1.59570000e+04 -5.02606943e-01]\n",
      " [ 1.67135700e+04 -5.02606943e-01]\n",
      " [ 1.76593800e+04 -5.02606943e-01]\n",
      " [ 1.77761200e+04 -5.02606943e-01]\n",
      " [ 1.78028200e+04 -5.02606943e-01]\n",
      " [ 1.86556700e+04 -5.02606943e-01]\n",
      " [ 1.87038000e+04 -5.02606943e-01]\n",
      " [ 1.84144300e+04 -5.02606943e-01]]\n"
     ]
    }
   ],
   "source": [
    "print(\"AFTER INVERT\")\n",
    "print(len(Xtrain),len(Xtest))\n",
    "print(\"real\",df.close.shape,\"\\n\",df.close[:5])\n",
    "print(\"trainPredict\",len(trainPredict),trainPredict[:5])\n",
    "print(\"testPredict\",len(testPredict),testPredict[:10])\n",
    "# print(\"targetY\",len(scaler.inverse_transform(y_test)),scaler.inverse_transform(y_test)[:5])\n",
    "real_test = np.c_[y_test, np.zeros(len(y_test))]\n",
    "real_test=scaler.inverse_transform(real_test)\n",
    "print(\"targetY\",len(scaler.inverse_transform(real_test)),real_test[:10])\n",
    "# print(real_test.T.tolist()[0])\n",
    "d = {\"real\":real_test.T.tolist()[0],\"pred\":(list(np.zeros(n))+testPredict)}\n",
    "# df = pd.DataFrame(data=d)\n",
    "out=pd.DataFrame(data=d)\n",
    "out.to_csv(\"vamoa.csv\")"
   ]
  },
  {
   "cell_type": "code",
   "execution_count": 110,
   "metadata": {},
   "outputs": [
    {
     "data": {
      "text/plain": [
       "<matplotlib.legend.Legend at 0x641232f0a0>"
      ]
     },
     "execution_count": 110,
     "metadata": {},
     "output_type": "execute_result"
    },
    {
     "data": {
      "image/png": "[encoded data removed]",
      "text/plain": [
       "<Figure size 1080x720 with 1 Axes>"
      ]
     },
     "metadata": {
      "needs_background": "light"
     },
     "output_type": "display_data"
    }
   ],
   "source": [
    "fig, ax = plt.subplots(figsize=(15,10))\n",
    "plt.plot(df.close,color='red', label=\"real\")\n",
    "plt.plot(list(np.zeros(n))+(trainPredict),color='green', label=\"Predicted Train\")\n",
    "ax.plot(range(len(trainPredict)+n,\n",
    "              len(trainPredict)+len(testPredict)+n),\n",
    "              testPredict,\n",
    "              color='blue',\n",
    "              label='Predicted Test')\n",
    "plt.legend()"
   ]
  },
  {
   "cell_type": "code",
   "execution_count": 111,
   "metadata": {},
   "outputs": [],
   "source": [
    "from sklearn.metrics import mean_squared_error"
   ]
  },
  {
   "cell_type": "code",
   "execution_count": 112,
   "metadata": {},
   "outputs": [
    {
     "name": "stdout",
     "output_type": "stream",
     "text": [
      "train Score: 8765.61 RMSE\n",
      "Test Score: 36244.87 RMSE\n"
     ]
    }
   ],
   "source": [
    "# calculate root mean squared error\n",
    "trainScore = mean_squared_error([x[0][0] for x in Xtrain], trainPredict, squared=False)\n",
    "print(\"train Score: %.2f RMSE\" % (trainScore))\n",
    "\n",
    "testScore = mean_squared_error([x[0][0] for x in Xtest], testPredict, squared=False)\n",
    "print(\"Test Score: %.2f RMSE\" % (testScore))"
   ]
  },
  {
   "cell_type": "code",
   "execution_count": null,
   "metadata": {},
   "outputs": [],
   "source": []
  },
  {
   "cell_type": "code",
   "execution_count": null,
   "metadata": {},
   "outputs": [],
   "source": []
  }
 ],
 "metadata": {
  "kernelspec": {
   "display_name": "Python 3",
   "language": "python",
   "name": "python3"
  },
  "language_info": {
   "codemirror_mode": {
    "name": "ipython",
    "version": 3
   },
   "file_extension": ".py",
   "mimetype": "text/x-python",
   "name": "python",
   "nbconvert_exporter": "python",
   "pygments_lexer": "ipython3",
   "version": "3.8.5"
  }
 },
 "nbformat": 4,
 "nbformat_minor": 4
}
