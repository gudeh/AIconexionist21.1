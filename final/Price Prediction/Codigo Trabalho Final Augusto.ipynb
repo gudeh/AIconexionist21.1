{
 "cells": [
  {
   "cell_type": "code",
   "execution_count": 1,
   "metadata": {},
   "outputs": [],
   "source": [
    "from IPython.core.debugger import set_trace\n",
    "\n",
    "# %load_ext nb_black\n",
    "\n",
    "import pandas as pd\n",
    "import numpy as np\n",
    "import os\n",
    "import matplotlib.pyplot as plt\n",
    "import time\n",
    "\n",
    "plt.style.use(style=\"seaborn\")\n",
    "%matplotlib inline"
   ]
  },
  {
   "cell_type": "code",
   "execution_count": 2,
   "metadata": {},
   "outputs": [],
   "source": [
    "#df = pd.read_csv(\"data/MSFT-1Y-Hourly.csv\")\n",
    "df=pd.read_csv(\"data/merged.csv\")"
   ]
  },
  {
   "cell_type": "code",
   "execution_count": 3,
   "metadata": {},
   "outputs": [
    {
     "name": "stdout",
     "output_type": "stream",
     "text": [
      "<class 'pandas.core.frame.DataFrame'>\n",
      "RangeIndex: 1462 entries, 0 to 1461\n",
      "Data columns (total 12 columns):\n",
      " #   Column                        Non-Null Count  Dtype  \n",
      "---  ------                        --------------  -----  \n",
      " 0   date                          1462 non-null   object \n",
      " 1   open                          1461 non-null   float64\n",
      " 2   high                          1461 non-null   float64\n",
      " 3   low                           1461 non-null   float64\n",
      " 4   close                         1461 non-null   float64\n",
      " 5   volume                        1461 non-null   float64\n",
      " 6   close time                    1461 non-null   float64\n",
      " 7   Quote asset volume            1461 non-null   float64\n",
      " 8   Number of trades              1461 non-null   float64\n",
      " 9   Taker buy base asset volume   1461 non-null   float64\n",
      " 10  Taker buy quote asset volume  1461 non-null   float64\n",
      " 11  Ignore                        1461 non-null   float64\n",
      "dtypes: float64(11), object(1)\n",
      "memory usage: 137.2+ KB\n"
     ]
    }
   ],
   "source": [
    "df.info()"
   ]
  },
  {
   "cell_type": "code",
   "execution_count": 4,
   "metadata": {},
   "outputs": [],
   "source": [
    "df.set_index(\"date\", drop=True, inplace=True)"
   ]
  },
  {
   "cell_type": "markdown",
   "metadata": {},
   "source": [
    "We'll use only the close feature."
   ]
  },
  {
   "cell_type": "code",
   "execution_count": 5,
   "metadata": {},
   "outputs": [],
   "source": [
    "df = df[[\"close\"]]"
   ]
  },
  {
   "cell_type": "code",
   "execution_count": 6,
   "metadata": {},
   "outputs": [
    {
     "data": {
      "text/plain": [
       "False"
      ]
     },
     "execution_count": 6,
     "metadata": {},
     "output_type": "execute_result"
    }
   ],
   "source": [
    "type(df[\"close\"]) == type(df[[\"close\"]])"
   ]
  },
  {
   "cell_type": "code",
   "execution_count": 7,
   "metadata": {},
   "outputs": [
    {
     "data": {
      "text/plain": [
       "pandas.core.frame.DataFrame"
      ]
     },
     "execution_count": 7,
     "metadata": {},
     "output_type": "execute_result"
    }
   ],
   "source": [
    "type(df[[\"close\"]])"
   ]
  },
  {
   "cell_type": "code",
   "execution_count": 8,
   "metadata": {},
   "outputs": [
    {
     "data": {
      "text/html": [
       "<div>\n",
       "<style scoped>\n",
       "    .dataframe tbody tr th:only-of-type {\n",
       "        vertical-align: middle;\n",
       "    }\n",
       "\n",
       "    .dataframe tbody tr th {\n",
       "        vertical-align: top;\n",
       "    }\n",
       "\n",
       "    .dataframe thead th {\n",
       "        text-align: right;\n",
       "    }\n",
       "</style>\n",
       "<table border=\"1\" class=\"dataframe\">\n",
       "  <thead>\n",
       "    <tr style=\"text-align: right;\">\n",
       "      <th></th>\n",
       "      <th>close</th>\n",
       "    </tr>\n",
       "  </thead>\n",
       "  <tbody>\n",
       "    <tr>\n",
       "      <th>count</th>\n",
       "      <td>1461.000000</td>\n",
       "    </tr>\n",
       "    <tr>\n",
       "      <th>mean</th>\n",
       "      <td>14556.168884</td>\n",
       "    </tr>\n",
       "    <tr>\n",
       "      <th>std</th>\n",
       "      <td>14288.824617</td>\n",
       "    </tr>\n",
       "    <tr>\n",
       "      <th>min</th>\n",
       "      <td>3189.020000</td>\n",
       "    </tr>\n",
       "    <tr>\n",
       "      <th>25%</th>\n",
       "      <td>6635.650000</td>\n",
       "    </tr>\n",
       "    <tr>\n",
       "      <th>50%</th>\n",
       "      <td>9021.830000</td>\n",
       "    </tr>\n",
       "    <tr>\n",
       "      <th>75%</th>\n",
       "      <td>11945.010000</td>\n",
       "    </tr>\n",
       "    <tr>\n",
       "      <th>max</th>\n",
       "      <td>63575.000000</td>\n",
       "    </tr>\n",
       "  </tbody>\n",
       "</table>\n",
       "</div>"
      ],
      "text/plain": [
       "              close\n",
       "count   1461.000000\n",
       "mean   14556.168884\n",
       "std    14288.824617\n",
       "min     3189.020000\n",
       "25%     6635.650000\n",
       "50%     9021.830000\n",
       "75%    11945.010000\n",
       "max    63575.000000"
      ]
     },
     "execution_count": 8,
     "metadata": {},
     "output_type": "execute_result"
    }
   ],
   "source": [
    "df.describe()"
   ]
  },
  {
   "cell_type": "code",
   "execution_count": 9,
   "metadata": {},
   "outputs": [],
   "source": [
    "# plt.figure(1, figsize=(16, 6))\n",
    "# _ = plt.plot(df.close)"
   ]
  },
  {
   "cell_type": "markdown",
   "metadata": {},
   "source": [
    "Calculate the percentage change.\n",
    "\n",
    "The reason for using pct_change instead of the prices is the benefit of normalization as we can measure all variables in a comparable metric. Also returns have more manageable statistical properties than prices such as stationarity, as in most cases we don't have stationary prices but we can have stationary returns.\n",
    "\n",
    "A stationary time series is one where statistical properties such as mean, variance, correlation, etc are constant over time.\n",
    "For more details on stationarity: https://en.wikipedia.org/wiki/Stationary_process"
   ]
  },
  {
   "cell_type": "code",
   "execution_count": 10,
   "metadata": {},
   "outputs": [],
   "source": [
    "df[\"returns\"] = df.close.pct_change()"
   ]
  },
  {
   "cell_type": "code",
   "execution_count": 11,
   "metadata": {},
   "outputs": [
    {
     "data": {
      "text/html": [
       "<div>\n",
       "<style scoped>\n",
       "    .dataframe tbody tr th:only-of-type {\n",
       "        vertical-align: middle;\n",
       "    }\n",
       "\n",
       "    .dataframe tbody tr th {\n",
       "        vertical-align: top;\n",
       "    }\n",
       "\n",
       "    .dataframe thead th {\n",
       "        text-align: right;\n",
       "    }\n",
       "</style>\n",
       "<table border=\"1\" class=\"dataframe\">\n",
       "  <thead>\n",
       "    <tr style=\"text-align: right;\">\n",
       "      <th></th>\n",
       "      <th>close</th>\n",
       "      <th>returns</th>\n",
       "    </tr>\n",
       "    <tr>\n",
       "      <th>date</th>\n",
       "      <th></th>\n",
       "      <th></th>\n",
       "    </tr>\n",
       "  </thead>\n",
       "  <tbody>\n",
       "    <tr>\n",
       "      <th>1.50422E+12</th>\n",
       "      <td>4834.91</td>\n",
       "      <td>NaN</td>\n",
       "    </tr>\n",
       "    <tr>\n",
       "      <th>1.50431E+12</th>\n",
       "      <td>4472.14</td>\n",
       "      <td>-0.075031</td>\n",
       "    </tr>\n",
       "    <tr>\n",
       "      <th>1.5044E+12</th>\n",
       "      <td>4509.08</td>\n",
       "      <td>0.008260</td>\n",
       "    </tr>\n",
       "    <tr>\n",
       "      <th>1.50448E+12</th>\n",
       "      <td>4100.11</td>\n",
       "      <td>-0.090699</td>\n",
       "    </tr>\n",
       "    <tr>\n",
       "      <th>1.50457E+12</th>\n",
       "      <td>4366.47</td>\n",
       "      <td>0.064964</td>\n",
       "    </tr>\n",
       "  </tbody>\n",
       "</table>\n",
       "</div>"
      ],
      "text/plain": [
       "               close   returns\n",
       "date                          \n",
       "1.50422E+12  4834.91       NaN\n",
       "1.50431E+12  4472.14 -0.075031\n",
       "1.5044E+12   4509.08  0.008260\n",
       "1.50448E+12  4100.11 -0.090699\n",
       "1.50457E+12  4366.47  0.064964"
      ]
     },
     "execution_count": 11,
     "metadata": {},
     "output_type": "execute_result"
    }
   ],
   "source": [
    "df.head(5)"
   ]
  },
  {
   "cell_type": "code",
   "execution_count": 12,
   "metadata": {},
   "outputs": [
    {
     "name": "stdout",
     "output_type": "stream",
     "text": [
      "-0.0750313863132922\n",
      "-0.07503138631329219\n"
     ]
    }
   ],
   "source": [
    "print(4472.14 / 4834.91 - 1)\n",
    "print((4472.14-4834.91)/4834.91)"
   ]
  },
  {
   "cell_type": "markdown",
   "metadata": {},
   "source": [
    "Calculate the log returns.\n",
    "\n",
    "Why use log returns: https://quantivity.wordpress.com/2011/02/21/why-log-returns/"
   ]
  },
  {
   "cell_type": "code",
   "execution_count": 13,
   "metadata": {},
   "outputs": [],
   "source": [
    "df[\"log_returns\"] = np.log(1 + df[\"returns\"])"
   ]
  },
  {
   "cell_type": "code",
   "execution_count": 14,
   "metadata": {},
   "outputs": [
    {
     "data": {
      "text/html": [
       "<div>\n",
       "<style scoped>\n",
       "    .dataframe tbody tr th:only-of-type {\n",
       "        vertical-align: middle;\n",
       "    }\n",
       "\n",
       "    .dataframe tbody tr th {\n",
       "        vertical-align: top;\n",
       "    }\n",
       "\n",
       "    .dataframe thead th {\n",
       "        text-align: right;\n",
       "    }\n",
       "</style>\n",
       "<table border=\"1\" class=\"dataframe\">\n",
       "  <thead>\n",
       "    <tr style=\"text-align: right;\">\n",
       "      <th></th>\n",
       "      <th>close</th>\n",
       "      <th>returns</th>\n",
       "      <th>log_returns</th>\n",
       "    </tr>\n",
       "    <tr>\n",
       "      <th>date</th>\n",
       "      <th></th>\n",
       "      <th></th>\n",
       "      <th></th>\n",
       "    </tr>\n",
       "  </thead>\n",
       "  <tbody>\n",
       "    <tr>\n",
       "      <th>1.50422E+12</th>\n",
       "      <td>4834.91</td>\n",
       "      <td>NaN</td>\n",
       "      <td>NaN</td>\n",
       "    </tr>\n",
       "    <tr>\n",
       "      <th>1.50431E+12</th>\n",
       "      <td>4472.14</td>\n",
       "      <td>-0.075031</td>\n",
       "      <td>-0.077995</td>\n",
       "    </tr>\n",
       "    <tr>\n",
       "      <th>1.5044E+12</th>\n",
       "      <td>4509.08</td>\n",
       "      <td>0.008260</td>\n",
       "      <td>0.008226</td>\n",
       "    </tr>\n",
       "    <tr>\n",
       "      <th>1.50448E+12</th>\n",
       "      <td>4100.11</td>\n",
       "      <td>-0.090699</td>\n",
       "      <td>-0.095079</td>\n",
       "    </tr>\n",
       "    <tr>\n",
       "      <th>1.50457E+12</th>\n",
       "      <td>4366.47</td>\n",
       "      <td>0.064964</td>\n",
       "      <td>0.062941</td>\n",
       "    </tr>\n",
       "  </tbody>\n",
       "</table>\n",
       "</div>"
      ],
      "text/plain": [
       "               close   returns  log_returns\n",
       "date                                       \n",
       "1.50422E+12  4834.91       NaN          NaN\n",
       "1.50431E+12  4472.14 -0.075031    -0.077995\n",
       "1.5044E+12   4509.08  0.008260     0.008226\n",
       "1.50448E+12  4100.11 -0.090699    -0.095079\n",
       "1.50457E+12  4366.47  0.064964     0.062941"
      ]
     },
     "execution_count": 14,
     "metadata": {},
     "output_type": "execute_result"
    }
   ],
   "source": [
    "df.head(5)"
   ]
  },
  {
   "cell_type": "code",
   "execution_count": 15,
   "metadata": {},
   "outputs": [],
   "source": [
    "# plt.figure(1, figsize=(16, 4))\n",
    "# plt.plot(df.returns)"
   ]
  },
  {
   "cell_type": "code",
   "execution_count": 16,
   "metadata": {},
   "outputs": [],
   "source": [
    "# plt.figure(1, figsize=(16, 4))\n",
    "# plt.plot(df.log_returns)"
   ]
  },
  {
   "cell_type": "code",
   "execution_count": 17,
   "metadata": {},
   "outputs": [],
   "source": [
    "df.dropna(inplace=True) #drop NANs\n",
    "X = df[[\"close\", \"log_returns\"]].values\n",
    "X_backup=X"
   ]
  },
  {
   "cell_type": "code",
   "execution_count": 18,
   "metadata": {},
   "outputs": [
    {
     "data": {
      "text/plain": [
       "array([[ 4.47214000e+03, -7.79954732e-02],\n",
       "       [ 4.50908000e+03,  8.22610031e-03],\n",
       "       [ 4.10011000e+03, -9.50793390e-02],\n",
       "       ...,\n",
       "       [ 4.87678300e+04, -2.61142577e-03],\n",
       "       [ 4.69829100e+04, -3.72869556e-02],\n",
       "       [ 4.71008900e+04,  2.50797825e-03]])"
      ]
     },
     "execution_count": 18,
     "metadata": {},
     "output_type": "execute_result"
    }
   ],
   "source": [
    "X"
   ]
  },
  {
   "cell_type": "code",
   "execution_count": 19,
   "metadata": {
    "scrolled": true
   },
   "outputs": [
    {
     "name": "stdout",
     "output_type": "stream",
     "text": [
      "(1460, 2)\n",
      "[[0.02124864 0.60180846]\n",
      " [0.02186037 0.72401164]\n",
      " [0.01508777 0.57759523]\n",
      " [0.01949873 0.80156006]\n",
      " [0.02369341 0.79227511]]\n"
     ]
    }
   ],
   "source": [
    "from sklearn.preprocessing import MinMaxScaler, StandardScaler\n",
    "scaler = MinMaxScaler(feature_range=(0, 1)).fit(X)\n",
    "# scaler = StandardScaler().fit(X)\n",
    "\n",
    "# X_scaled = scaler.transform(X)\n",
    "# print(X_scaled.shape)\n",
    "# print(X_scaled[:5])\n",
    "X = scaler.transform(X)\n",
    "print(X.shape)\n",
    "print(X[:5])"
   ]
  },
  {
   "cell_type": "code",
   "execution_count": 20,
   "metadata": {
    "scrolled": true
   },
   "outputs": [
    {
     "name": "stdout",
     "output_type": "stream",
     "text": [
      "1460\n",
      "[0.02124864082689392, 0.021860372225473525, 0.015087773685216334, 0.019498731328033432, 0.02369341360362124]\n"
     ]
    }
   ],
   "source": [
    "# y = [x[0] for x in X_scaled]\n",
    "y = [x[0] for x in X]\n",
    "y_backup = [x[0] for x in X_backup]\n",
    "print(len(y))\n",
    "print(y[:5])"
   ]
  },
  {
   "cell_type": "markdown",
   "metadata": {},
   "source": [
    "#### train test split"
   ]
  },
  {
   "cell_type": "code",
   "execution_count": 21,
   "metadata": {},
   "outputs": [
    {
     "name": "stdout",
     "output_type": "stream",
     "text": [
      "1168\n"
     ]
    }
   ],
   "source": [
    "# split = int(len(X_scaled) * 0.8)\n",
    "split = int(len(X) * 0.8)\n",
    "print(split)"
   ]
  },
  {
   "cell_type": "code",
   "execution_count": 22,
   "metadata": {},
   "outputs": [],
   "source": [
    "from sklearn.preprocessing import MinMaxScaler, StandardScaler\n",
    "# X_test = X_scaled[:split]\n",
    "# X_train = X_scaled[split : len(X_scaled)]\n",
    "X_train = X[:split]\n",
    "X_test = X[split : len(X)]\n",
    "y_train = y[:split]\n",
    "y_test = y[split : len(y)]\n",
    "\n",
    "y_train_backup = y_backup[:split]\n",
    "y_test_backup = y_backup[split : len(y)]\n",
    "\n",
    "\n",
    "\n",
    "# # .StandardScaler() ->  scaler = StandardScaler().fit(X_test)\n",
    "# # scaler = MinMaxScaler(feature_range=(0, 1)).fit(X_test)\n",
    "# # scaler_x = MinMaxScaler(feature_range=(0, 1)).fit(X)\n",
    "# scaler_x = StandardScaler().fit(X)\n",
    "# X_test = scaler_x.transform(X_test)\n",
    "# # scaler = MinMaxScaler(feature_range=(0, 1)).fit(X_train)\n",
    "# X_train = scaler_x.transform(X_train)\n",
    "\n",
    "# scaler_y = StandardScaler().fit(pd.DataFrame(y).values.reshape(-1, 1))\n",
    "# y_test = scaler_y.transform(pd.DataFrame(y_test).values.reshape(-1, 1))\n",
    "# # y_test = scaler.transform(y_test)\n",
    "# # scaler = MinMaxScaler(feature_range=(0, 1)).fit(pd.DataFrame(y_train).values.reshape(-1,1))\n",
    "# y_train = scaler_y.transform(pd.DataFrame(y_train).values.reshape(-1,1))"
   ]
  },
  {
   "cell_type": "code",
   "execution_count": 23,
   "metadata": {},
   "outputs": [
    {
     "name": "stdout",
     "output_type": "stream",
     "text": [
      "1168 == 1168\n",
      "292 == 292\n"
     ]
    }
   ],
   "source": [
    "print(len(X_train),\"==\", len(y_train))\n",
    "print(len(X_test),\"==\" ,len(y_test))"
   ]
  },
  {
   "cell_type": "markdown",
   "metadata": {},
   "source": [
    "#### Labeling\n",
    "\n",
    "We want to predict the stock price at a future time. We'll predict the stock price at time t + 1 relative to the stock price at time t."
   ]
  },
  {
   "cell_type": "markdown",
   "metadata": {},
   "source": [
    "As we're going to use an LSTM architecture, we know that it has memory and that it is maintained by setting the time step, basically how many steps in the past we want the LSTM to use.\n",
    "\n",
    "The time step  refers to how many steps in time we want the backpropagation algorithm to use when calculating gradients for weight updates during testing.\n",
    "\n",
    "So we can use a method to create both the timestep and the output variable, the t + 1."
   ]
  },
  {
   "cell_type": "code",
   "execution_count": 24,
   "metadata": {},
   "outputs": [
    {
     "name": "stdout",
     "output_type": "stream",
     "text": [
      "BEFORE\n",
      "<class 'numpy.ndarray'> 1168 <class 'numpy.ndarray'> (2,)\n",
      "[[0.02124864 0.60180846]\n",
      " [0.02186037 0.72401164]\n",
      " [0.01508777 0.57759523]\n",
      " [0.01949873 0.80156006]\n",
      " [0.02369341 0.79227511]]\n",
      "<class 'list'> 1168 <class 'numpy.float64'> ()\n",
      "          0\n",
      "0  0.021249\n",
      "1  0.021860\n",
      "2  0.015088\n",
      "3  0.019499\n",
      "4  0.023693\n",
      "AFTER DATA SEPARATION!!!!\n",
      "<class 'list'> 1138 <class 'numpy.ndarray'> (30, 2)\n",
      "[[0.02124864 0.60180846]\n",
      " [0.02186037 0.72401164]\n",
      " [0.01508777 0.57759523]\n",
      " [0.01949873 0.80156006]\n",
      " [0.02369341 0.79227511]] \n",
      "\n",
      "[[0.02186037 0.72401164]\n",
      " [0.01508777 0.57759523]\n",
      " [0.01949873 0.80156006]\n",
      " [0.02369341 0.79227511]\n",
      " [0.02488309 0.7342231 ]]\n",
      "<class 'list'> 1138 <class 'numpy.float64'> ()\n",
      "          0\n",
      "0  0.019723\n",
      "1  0.018564\n",
      "2  0.016884\n",
      "3  0.018273\n",
      "4  0.019541\n"
     ]
    }
   ],
   "source": [
    "n = 30\n",
    "Xtrain = []\n",
    "ytrain = []\n",
    "Xtest = []\n",
    "ytest = []\n",
    "\n",
    "print(\"BEFORE\")\n",
    "print(type(X_train),len(X_train),type(X_train[0]),X_train[0].shape)\n",
    "print(X_train[:5])\n",
    "print(type(y_train),len(y_train),type(y_train[0]),y_train[0].shape)\n",
    "print(pd.DataFrame(y_train[:5]))\n",
    "\n",
    "for i in range(n, len(X_train)):\n",
    "    Xtrain.append(X_train[i - n : i, : X_train.shape[1]])\n",
    "    ytrain.append(y_train[i])  # predict next record\n",
    "for i in range(n, len(X_test)):\n",
    "    Xtest.append(X_test[i - n : i, : X_test.shape[1]])\n",
    "    ytest.append(y_test[i])  # predict next record\n",
    "\n",
    "print(\"AFTER DATA SEPARATION!!!!\")\n",
    "print(type(Xtrain),len(Xtrain),type(Xtrain[0]),Xtrain[0].shape)\n",
    "print(Xtrain[0][:5],\"\\n\")\n",
    "print(Xtrain[1][:5])\n",
    "\n",
    "\n",
    "print(type(ytrain),len(ytrain),type(ytrain[0]),ytrain[0].shape)\n",
    "print(pd.DataFrame(ytrain[:5]))"
   ]
  },
  {
   "cell_type": "code",
   "execution_count": 25,
   "metadata": {},
   "outputs": [
    {
     "name": "stdout",
     "output_type": "stream",
     "text": [
      "TEST BEFORE\n",
      "<class 'numpy.ndarray'> 292 <class 'numpy.ndarray'> (2,)\n",
      "[[0.2174624  0.71485939]\n",
      " [0.21331822 0.69045222]\n",
      " [0.21143948 0.70231158]\n",
      " [0.22396838 0.77800748]\n",
      " [0.23963112 0.79037039]]\n",
      "<class 'list'> 292 <class 'numpy.float64'> ()\n",
      "          0\n",
      "0  0.217462\n",
      "1  0.213318\n",
      "2  0.211439\n",
      "3  0.223968\n",
      "4  0.239631\n",
      "AFTER DATA SEPARATION!!!!\n",
      "<class 'list'> 262 <class 'numpy.ndarray'> (30, 2)\n",
      "[[0.2174624  0.71485939]\n",
      " [0.21331822 0.69045222]\n",
      " [0.21143948 0.70231158]\n",
      " [0.22396838 0.77800748]\n",
      " [0.23963112 0.79037039]] \n",
      "\n",
      "[[0.21331822 0.69045222]\n",
      " [0.21143948 0.70231158]\n",
      " [0.22396838 0.77800748]\n",
      " [0.23963112 0.79037039]\n",
      " [0.24156435 0.72169121]]\n",
      "<class 'list'> 262 <class 'numpy.float64'> ()\n",
      "          0\n",
      "0  0.264730\n",
      "1  0.266355\n",
      "2  0.268894\n",
      "3  0.300508\n",
      "4  0.324713\n"
     ]
    }
   ],
   "source": [
    "print(\"TEST BEFORE\")\n",
    "print(type(X_test),len(X_test),type(X_test[0]),X_test[0].shape)\n",
    "print(X_test[:5])\n",
    "print(type(y_test),len(y_test),type(y_test[0]),y_test[0].shape)\n",
    "print(pd.DataFrame(y_test[:5]))\n",
    "\n",
    "print(\"AFTER DATA SEPARATION!!!!\")\n",
    "print(type(Xtest),len(Xtest),type(Xtest[0]),Xtest[0].shape)\n",
    "print(Xtest[0][:5],\"\\n\")\n",
    "print(Xtest[1][:5])\n",
    "print(type(ytest),len(ytest),type(ytest[0]),ytest[0].shape)\n",
    "print(pd.DataFrame(ytest[:5]))"
   ]
  },
  {
   "cell_type": "code",
   "execution_count": 26,
   "metadata": {},
   "outputs": [
    {
     "data": {
      "text/html": [
       "<div>\n",
       "<style scoped>\n",
       "    .dataframe tbody tr th:only-of-type {\n",
       "        vertical-align: middle;\n",
       "    }\n",
       "\n",
       "    .dataframe tbody tr th {\n",
       "        vertical-align: top;\n",
       "    }\n",
       "\n",
       "    .dataframe thead th {\n",
       "        text-align: right;\n",
       "    }\n",
       "</style>\n",
       "<table border=\"1\" class=\"dataframe\">\n",
       "  <thead>\n",
       "    <tr style=\"text-align: right;\">\n",
       "      <th></th>\n",
       "      <th>close</th>\n",
       "      <th>returns</th>\n",
       "      <th>log_returns</th>\n",
       "    </tr>\n",
       "    <tr>\n",
       "      <th>date</th>\n",
       "      <th></th>\n",
       "      <th></th>\n",
       "      <th></th>\n",
       "    </tr>\n",
       "  </thead>\n",
       "  <tbody>\n",
       "    <tr>\n",
       "      <th>1.50431E+12</th>\n",
       "      <td>4472.14</td>\n",
       "      <td>-0.075031</td>\n",
       "      <td>-0.077995</td>\n",
       "    </tr>\n",
       "    <tr>\n",
       "      <th>1.5044E+12</th>\n",
       "      <td>4509.08</td>\n",
       "      <td>0.008260</td>\n",
       "      <td>0.008226</td>\n",
       "    </tr>\n",
       "    <tr>\n",
       "      <th>1.50448E+12</th>\n",
       "      <td>4100.11</td>\n",
       "      <td>-0.090699</td>\n",
       "      <td>-0.095079</td>\n",
       "    </tr>\n",
       "    <tr>\n",
       "      <th>1.50457E+12</th>\n",
       "      <td>4366.47</td>\n",
       "      <td>0.064964</td>\n",
       "      <td>0.062941</td>\n",
       "    </tr>\n",
       "    <tr>\n",
       "      <th>1.50466E+12</th>\n",
       "      <td>4619.77</td>\n",
       "      <td>0.058010</td>\n",
       "      <td>0.056390</td>\n",
       "    </tr>\n",
       "  </tbody>\n",
       "</table>\n",
       "</div>"
      ],
      "text/plain": [
       "               close   returns  log_returns\n",
       "date                                       \n",
       "1.50431E+12  4472.14 -0.075031    -0.077995\n",
       "1.5044E+12   4509.08  0.008260     0.008226\n",
       "1.50448E+12  4100.11 -0.090699    -0.095079\n",
       "1.50457E+12  4366.47  0.064964     0.062941\n",
       "1.50466E+12  4619.77  0.058010     0.056390"
      ]
     },
     "execution_count": 26,
     "metadata": {},
     "output_type": "execute_result"
    }
   ],
   "source": [
    "df.head(5)"
   ]
  },
  {
   "cell_type": "code",
   "execution_count": 27,
   "metadata": {},
   "outputs": [],
   "source": [
    "val = np.array(ytrain[0])\n",
    "val = np.c_[val, np.zeros(val.shape)]"
   ]
  },
  {
   "cell_type": "code",
   "execution_count": 28,
   "metadata": {},
   "outputs": [
    {
     "data": {
      "text/plain": [
       "array([[ 4.38000000e+03, -5.02606943e-01]])"
      ]
     },
     "execution_count": 28,
     "metadata": {},
     "output_type": "execute_result"
    }
   ],
   "source": [
    "scaler.inverse_transform(val)"
   ]
  },
  {
   "cell_type": "markdown",
   "metadata": {},
   "source": [
    "In an LSTM network the input for each LSTM layer needs to contain the following information:\n",
    "- The number of observations\n",
    "- The time steps\n",
    "- The features\n",
    "\n",
    "Therefore we need to add a temporal dimension compared to a classical network:\n",
    "\n",
    "(number of observations, number of steps, number of features per step)"
   ]
  },
  {
   "cell_type": "code",
   "execution_count": 29,
   "metadata": {},
   "outputs": [],
   "source": [
    "Xtrain, ytrain = (np.array(Xtrain), np.array(ytrain))\n",
    "Xtrain = np.reshape(Xtrain, (Xtrain.shape[0], Xtrain.shape[1], Xtrain.shape[2]))\n",
    "\n",
    "Xtest, ytest = (np.array(Xtest), np.array(ytest))\n",
    "Xtest = np.reshape(Xtest, (Xtest.shape[0], Xtest.shape[1], Xtest.shape[2]))"
   ]
  },
  {
   "cell_type": "code",
   "execution_count": 30,
   "metadata": {
    "scrolled": true
   },
   "outputs": [
    {
     "name": "stdout",
     "output_type": "stream",
     "text": [
      "(1138, 30, 2)\n",
      "(1138,)\n",
      "---\n",
      "(262, 30, 2)\n",
      "(262,)\n"
     ]
    }
   ],
   "source": [
    "print(Xtrain.shape)\n",
    "print(ytrain.shape)\n",
    "print(\"---\")\n",
    "print(Xtest.shape)\n",
    "print(ytest.shape)"
   ]
  },
  {
   "cell_type": "markdown",
   "metadata": {},
   "source": [
    "#### LSTM Model"
   ]
  },
  {
   "cell_type": "code",
   "execution_count": 31,
   "metadata": {},
   "outputs": [],
   "source": [
    "from keras.models import Sequential\n",
    "from keras.layers import LSTM, Dense, Dropout\n",
    "from keras.optimizers import Adam\n",
    "from keras.callbacks import EarlyStopping"
   ]
  },
  {
   "cell_type": "code",
   "execution_count": 32,
   "metadata": {
    "scrolled": true
   },
   "outputs": [
    {
     "name": "stdout",
     "output_type": "stream",
     "text": [
      "Epoch 1/250\n",
      "72/72 [==============================] - 15s 89ms/step - loss: 0.0039 - val_loss: 0.1124\n",
      "Epoch 2/250\n",
      "72/72 [==============================] - 3s 48ms/step - loss: 0.0010 - val_loss: 0.0662\n",
      "Epoch 3/250\n",
      "72/72 [==============================] - 3s 47ms/step - loss: 7.4444e-04 - val_loss: 0.1072\n",
      "Epoch 4/250\n",
      "72/72 [==============================] - 3s 47ms/step - loss: 7.8553e-04 - val_loss: 0.0826\n",
      "Epoch 5/250\n",
      "72/72 [==============================] - 3s 47ms/step - loss: 6.0617e-04 - val_loss: 0.1227\n",
      "Epoch 6/250\n",
      "72/72 [==============================] - 3s 46ms/step - loss: 5.1075e-04 - val_loss: 0.0558\n",
      "Epoch 7/250\n",
      "72/72 [==============================] - 3s 47ms/step - loss: 5.1446e-04 - val_loss: 0.0713\n",
      "Epoch 8/250\n",
      "72/72 [==============================] - 3s 48ms/step - loss: 3.9499e-04 - val_loss: 0.0662\n",
      "Epoch 9/250\n",
      "72/72 [==============================] - 3s 48ms/step - loss: 3.3884e-04 - val_loss: 0.0713\n",
      "Epoch 10/250\n",
      "72/72 [==============================] - 3s 48ms/step - loss: 3.9093e-04 - val_loss: 0.0663\n",
      "Epoch 11/250\n",
      "72/72 [==============================] - 3s 48ms/step - loss: 2.9523e-04 - val_loss: 0.0568\n",
      "Epoch 12/250\n",
      "72/72 [==============================] - 3s 48ms/step - loss: 2.3649e-04 - val_loss: 0.0566\n",
      "Epoch 13/250\n",
      "72/72 [==============================] - 4s 49ms/step - loss: 3.0592e-04 - val_loss: 0.0591\n",
      "Epoch 14/250\n",
      "72/72 [==============================] - 3s 48ms/step - loss: 2.8254e-04 - val_loss: 0.0208\n",
      "Epoch 15/250\n",
      "72/72 [==============================] - 3s 48ms/step - loss: 3.5903e-04 - val_loss: 0.0242\n",
      "Epoch 16/250\n",
      "72/72 [==============================] - 4s 49ms/step - loss: 2.6259e-04 - val_loss: 0.0368\n",
      "Epoch 17/250\n",
      "72/72 [==============================] - 4s 51ms/step - loss: 2.5174e-04 - val_loss: 0.0379\n",
      "Epoch 18/250\n",
      "72/72 [==============================] - 4s 50ms/step - loss: 2.0572e-04 - val_loss: 0.0073\n",
      "Epoch 19/250\n",
      "72/72 [==============================] - 4s 51ms/step - loss: 1.9391e-04 - val_loss: 0.0183\n",
      "Epoch 20/250\n",
      "72/72 [==============================] - 3s 48ms/step - loss: 1.8462e-04 - val_loss: 0.0187\n",
      "Epoch 21/250\n",
      "72/72 [==============================] - 3s 48ms/step - loss: 2.3241e-04 - val_loss: 0.0556\n",
      "Epoch 22/250\n",
      "72/72 [==============================] - 4s 49ms/step - loss: 1.8648e-04 - val_loss: 0.0323\n",
      "Epoch 23/250\n",
      "72/72 [==============================] - 3s 48ms/step - loss: 1.8166e-04 - val_loss: 0.0134\n",
      "Epoch 24/250\n",
      "72/72 [==============================] - 4s 51ms/step - loss: 1.7278e-04 - val_loss: 0.0309\n",
      "Epoch 25/250\n",
      "72/72 [==============================] - 4s 50ms/step - loss: 2.1007e-04 - val_loss: 0.0408\n",
      "Epoch 26/250\n",
      "72/72 [==============================] - 4s 49ms/step - loss: 2.0530e-04 - val_loss: 0.0303\n",
      "Epoch 27/250\n",
      "72/72 [==============================] - 3s 48ms/step - loss: 1.9439e-04 - val_loss: 0.0387\n",
      "Epoch 28/250\n",
      "72/72 [==============================] - 4s 50ms/step - loss: 1.4811e-04 - val_loss: 0.0332\n",
      "Epoch 29/250\n",
      "72/72 [==============================] - 4s 50ms/step - loss: 1.5906e-04 - val_loss: 0.0396\n",
      "Epoch 30/250\n",
      "72/72 [==============================] - 4s 50ms/step - loss: 1.8480e-04 - val_loss: 0.0257\n",
      "Epoch 31/250\n",
      "72/72 [==============================] - 4s 52ms/step - loss: 1.5097e-04 - val_loss: 0.0092\n",
      "Epoch 32/250\n",
      "72/72 [==============================] - 4s 50ms/step - loss: 1.4940e-04 - val_loss: 0.0145\n",
      "Epoch 33/250\n",
      "72/72 [==============================] - 4s 49ms/step - loss: 1.4097e-04 - val_loss: 0.0189\n",
      "Epoch 34/250\n",
      "72/72 [==============================] - 4s 49ms/step - loss: 1.0737e-04 - val_loss: 0.0265\n",
      "Epoch 35/250\n",
      "72/72 [==============================] - 4s 50ms/step - loss: 1.3149e-04 - val_loss: 0.0092\n",
      "Epoch 36/250\n",
      "72/72 [==============================] - 4s 49ms/step - loss: 1.4568e-04 - val_loss: 0.0266\n",
      "Epoch 37/250\n",
      "72/72 [==============================] - 4s 49ms/step - loss: 1.3889e-04 - val_loss: 0.0062\n",
      "Epoch 38/250\n",
      "72/72 [==============================] - 4s 50ms/step - loss: 1.2726e-04 - val_loss: 0.0211\n",
      "Epoch 39/250\n",
      "72/72 [==============================] - 4s 50ms/step - loss: 1.7494e-04 - val_loss: 0.0190\n",
      "Epoch 40/250\n",
      "72/72 [==============================] - 4s 54ms/step - loss: 1.2868e-04 - val_loss: 0.0135\n",
      "Epoch 41/250\n",
      "72/72 [==============================] - 4s 50ms/step - loss: 1.3675e-04 - val_loss: 0.0217\n",
      "Epoch 42/250\n",
      "72/72 [==============================] - 4s 51ms/step - loss: 1.3426e-04 - val_loss: 0.0193\n",
      "Epoch 43/250\n",
      "72/72 [==============================] - 4s 52ms/step - loss: 1.2469e-04 - val_loss: 0.0077\n",
      "Epoch 44/250\n",
      "72/72 [==============================] - 4s 53ms/step - loss: 1.2727e-04 - val_loss: 0.0189\n",
      "Epoch 45/250\n",
      "72/72 [==============================] - 4s 55ms/step - loss: 1.5925e-04 - val_loss: 0.0184\n",
      "Epoch 46/250\n",
      "72/72 [==============================] - 4s 50ms/step - loss: 1.1191e-04 - val_loss: 0.0086\n",
      "Epoch 47/250\n",
      "72/72 [==============================] - 4s 56ms/step - loss: 1.3028e-04 - val_loss: 0.0222\n",
      "Epoch 48/250\n",
      "72/72 [==============================] - 4s 58ms/step - loss: 1.2454e-04 - val_loss: 0.0127\n",
      "Epoch 49/250\n",
      "72/72 [==============================] - 5s 63ms/step - loss: 1.2070e-04 - val_loss: 0.0057\n",
      "Epoch 50/250\n",
      "72/72 [==============================] - 4s 51ms/step - loss: 1.4239e-04 - val_loss: 0.0227\n",
      "Epoch 51/250\n",
      "72/72 [==============================] - 4s 51ms/step - loss: 1.2919e-04 - val_loss: 0.0122\n",
      "Epoch 52/250\n",
      "72/72 [==============================] - 4s 50ms/step - loss: 1.4233e-04 - val_loss: 0.0120\n",
      "Epoch 53/250\n",
      "72/72 [==============================] - 4s 49ms/step - loss: 1.4115e-04 - val_loss: 0.0105\n",
      "Epoch 54/250\n",
      "72/72 [==============================] - 4s 49ms/step - loss: 1.2700e-04 - val_loss: 0.0155e\n",
      "Epoch 55/250\n",
      "72/72 [==============================] - 3s 48ms/step - loss: 1.3527e-04 - val_loss: 0.0226\n",
      "Epoch 56/250\n",
      "72/72 [==============================] - 4s 50ms/step - loss: 1.1092e-04 - val_loss: 0.0123\n",
      "Epoch 57/250\n",
      "72/72 [==============================] - 3s 48ms/step - loss: 1.0086e-04 - val_loss: 0.0152\n",
      "Epoch 58/250\n",
      "72/72 [==============================] - 4s 49ms/step - loss: 9.7489e-05 - val_loss: 0.0229\n",
      "Epoch 59/250\n",
      "72/72 [==============================] - 4s 51ms/step - loss: 1.0654e-04 - val_loss: 0.0037\n",
      "Epoch 60/250\n",
      "72/72 [==============================] - 4s 49ms/step - loss: 1.3381e-04 - val_loss: 0.0230\n",
      "Epoch 61/250\n",
      "72/72 [==============================] - 4s 50ms/step - loss: 1.5296e-04 - val_loss: 0.0099\n",
      "Epoch 62/250\n",
      "72/72 [==============================] - 4s 51ms/step - loss: 1.2701e-04 - val_loss: 0.0076\n",
      "Epoch 63/250\n",
      "72/72 [==============================] - 4s 49ms/step - loss: 1.1833e-04 - val_loss: 0.0142\n",
      "Epoch 64/250\n",
      "72/72 [==============================] - 4s 51ms/step - loss: 1.0269e-04 - val_loss: 0.0229\n",
      "Epoch 65/250\n",
      "72/72 [==============================] - 4s 53ms/step - loss: 1.2678e-04 - val_loss: 0.0313\n",
      "Epoch 66/250\n",
      "72/72 [==============================] - 4s 50ms/step - loss: 9.0688e-05 - val_loss: 0.0073\n",
      "Epoch 67/250\n",
      "72/72 [==============================] - 4s 53ms/step - loss: 8.9096e-05 - val_loss: 0.0092\n",
      "Epoch 68/250\n",
      "72/72 [==============================] - 4s 50ms/step - loss: 1.0843e-04 - val_loss: 0.0102\n",
      "Epoch 69/250\n",
      "72/72 [==============================] - 4s 50ms/step - loss: 1.1559e-04 - val_loss: 0.0223\n",
      "Epoch 70/250\n",
      "72/72 [==============================] - 4s 49ms/step - loss: 1.3033e-04 - val_loss: 0.0200\n",
      "Epoch 71/250\n",
      "72/72 [==============================] - 4s 50ms/step - loss: 9.5652e-05 - val_loss: 0.0099\n",
      "Epoch 72/250\n",
      "72/72 [==============================] - 4s 49ms/step - loss: 1.0035e-04 - val_loss: 0.0148\n",
      "Epoch 73/250\n",
      "72/72 [==============================] - 4s 61ms/step - loss: 9.7365e-05 - val_loss: 0.0284\n",
      "Epoch 74/250\n",
      "72/72 [==============================] - 4s 57ms/step - loss: 9.3325e-05 - val_loss: 0.0183\n",
      "Epoch 75/250\n",
      "72/72 [==============================] - 4s 51ms/step - loss: 1.5522e-04 - val_loss: 0.0277\n",
      "Epoch 76/250\n",
      "72/72 [==============================] - 4s 55ms/step - loss: 1.0703e-04 - val_loss: 0.0450\n",
      "Epoch 77/250\n",
      "72/72 [==============================] - 4s 60ms/step - loss: 1.6889e-04 - val_loss: 0.0199\n",
      "Epoch 78/250\n",
      "72/72 [==============================] - 4s 54ms/step - loss: 1.2769e-04 - val_loss: 0.0229\n",
      "Epoch 79/250\n"
     ]
    },
    {
     "name": "stdout",
     "output_type": "stream",
     "text": [
      "72/72 [==============================] - 5s 63ms/step - loss: 1.1622e-04 - val_loss: 0.0315\n",
      "Epoch 80/250\n",
      "72/72 [==============================] - 4s 61ms/step - loss: 1.1121e-04 - val_loss: 0.0215\n",
      "Epoch 81/250\n",
      "72/72 [==============================] - 4s 54ms/step - loss: 1.0756e-04 - val_loss: 0.0286\n",
      "Epoch 82/250\n",
      "72/72 [==============================] - 4s 49ms/step - loss: 9.2012e-05 - val_loss: 0.0395\n",
      "Epoch 83/250\n",
      "72/72 [==============================] - 4s 49ms/step - loss: 1.3975e-04 - val_loss: 0.0289\n",
      "Epoch 84/250\n",
      "72/72 [==============================] - 4s 50ms/step - loss: 1.1083e-04 - val_loss: 0.0352\n",
      "Epoch 85/250\n",
      "72/72 [==============================] - 4s 49ms/step - loss: 1.1185e-04 - val_loss: 0.0102\n",
      "Epoch 86/250\n",
      "72/72 [==============================] - 3s 48ms/step - loss: 1.1067e-04 - val_loss: 0.0197\n",
      "Epoch 87/250\n",
      "72/72 [==============================] - 4s 49ms/step - loss: 9.4689e-05 - val_loss: 0.0147\n",
      "Epoch 88/250\n",
      "72/72 [==============================] - 3s 49ms/step - loss: 1.0508e-04 - val_loss: 0.0197\n",
      "Epoch 89/250\n",
      "72/72 [==============================] - 3s 48ms/step - loss: 1.1645e-04 - val_loss: 0.0392\n",
      "Epoch 90/250\n",
      "72/72 [==============================] - 4s 49ms/step - loss: 1.1083e-04 - val_loss: 0.0333\n",
      "Epoch 91/250\n",
      "72/72 [==============================] - 4s 52ms/step - loss: 1.0867e-04 - val_loss: 0.0225\n",
      "Epoch 92/250\n",
      "72/72 [==============================] - 4s 52ms/step - loss: 9.9593e-05 - val_loss: 0.0390\n",
      "Epoch 93/250\n",
      "72/72 [==============================] - 4s 49ms/step - loss: 9.1837e-05 - val_loss: 0.0318\n",
      "Epoch 94/250\n",
      "72/72 [==============================] - 3s 48ms/step - loss: 8.7471e-05 - val_loss: 0.0200\n",
      "Epoch 95/250\n",
      "72/72 [==============================] - 3s 49ms/step - loss: 2.3390e-04 - val_loss: 0.0246\n",
      "Epoch 96/250\n",
      "72/72 [==============================] - 4s 51ms/step - loss: 1.1870e-04 - val_loss: 0.0459\n",
      "Epoch 97/250\n",
      "72/72 [==============================] - 4s 49ms/step - loss: 1.0116e-04 - val_loss: 0.0377\n",
      "Epoch 98/250\n",
      "72/72 [==============================] - 4s 49ms/step - loss: 1.2094e-04 - val_loss: 0.0323\n",
      "Epoch 99/250\n",
      "72/72 [==============================] - 4s 49ms/step - loss: 1.0861e-04 - val_loss: 0.0292\n",
      "Epoch 100/250\n",
      "72/72 [==============================] - 4s 51ms/step - loss: 1.0175e-04 - val_loss: 0.0228\n",
      "Epoch 101/250\n",
      "72/72 [==============================] - 4s 50ms/step - loss: 1.1060e-04 - val_loss: 0.0411\n",
      "Epoch 102/250\n",
      "72/72 [==============================] - 4s 49ms/step - loss: 1.4306e-04 - val_loss: 0.0293\n",
      "Epoch 103/250\n",
      "72/72 [==============================] - 4s 49ms/step - loss: 9.9849e-05 - val_loss: 0.0331\n",
      "Epoch 104/250\n",
      "72/72 [==============================] - 4s 49ms/step - loss: 1.0586e-04 - val_loss: 0.0452\n",
      "Epoch 105/250\n",
      "72/72 [==============================] - 4s 49ms/step - loss: 1.1546e-04 - val_loss: 0.0336\n",
      "Epoch 106/250\n",
      "72/72 [==============================] - 4s 49ms/step - loss: 1.1881e-04 - val_loss: 0.0217\n",
      "Epoch 107/250\n",
      "72/72 [==============================] - 3s 48ms/step - loss: 9.2148e-05 - val_loss: 0.0266\n",
      "Epoch 108/250\n",
      "72/72 [==============================] - 3s 48ms/step - loss: 1.0841e-04 - val_loss: 0.0386\n",
      "Epoch 109/250\n",
      "72/72 [==============================] - 4s 50ms/step - loss: 1.0211e-04 - val_loss: 0.0390\n"
     ]
    }
   ],
   "source": [
    "callback = EarlyStopping(monitor='val_loss', patience=50)\n",
    "\n",
    "model = Sequential()\n",
    "model.add(LSTM(100, input_shape=(Xtrain.shape[1], Xtrain.shape[2]),return_sequences=True))\n",
    "model.add(Dropout(0.2))\n",
    "model.add(LSTM(100,return_sequences=True))\n",
    "model.add(Dropout(0.2))\n",
    "model.add(LSTM(100,return_sequences=True))\n",
    "model.add(Dropout(0.2))\n",
    "model.add(LSTM(50,return_sequences=True))\n",
    "model.add(Dropout(0.2))\n",
    "model.add(LSTM(20,return_sequences=False))\n",
    "model.add(Dropout(0.2))\n",
    "model.add(Dense(1))\n",
    "model.compile(loss=\"mean_squared_error\", optimizer=Adam(1e-3))\n",
    "history=model.fit(\n",
    "    Xtrain, ytrain, epochs=250, validation_data=(Xtest, ytest), \n",
    "    batch_size=16, verbose=1, callbacks=[callback]\n",
    ")"
   ]
  },
  {
   "cell_type": "code",
   "execution_count": 33,
   "metadata": {},
   "outputs": [
    {
     "data": {
      "image/png": "[encoded data removed]",
      "text/plain": [
       "<Figure size 432x288 with 2 Axes>"
      ]
     },
     "metadata": {
      "needs_background": "light"
     },
     "output_type": "display_data"
    }
   ],
   "source": [
    "fig, ax1 = plt.subplots(constrained_layout=True)\n",
    "ax2 = ax1.twinx()\n",
    "ax1.plot(history.history['loss'], label='train')\n",
    "ax1.set_xlabel('epoch')\n",
    "ax1.set_ylabel('loss')\n",
    "ax2.plot(history.history['val_loss'],color='green', label='val')\n",
    "ax2.set_ylabel('val loss')\n",
    "plt.show()"
   ]
  },
  {
   "cell_type": "code",
   "execution_count": 34,
   "metadata": {},
   "outputs": [
    {
     "name": "stdout",
     "output_type": "stream",
     "text": [
      "Model: \"sequential\"\n",
      "_________________________________________________________________\n",
      "Layer (type)                 Output Shape              Param #   \n",
      "=================================================================\n",
      "lstm (LSTM)                  (None, 30, 100)           41200     \n",
      "_________________________________________________________________\n",
      "dropout (Dropout)            (None, 30, 100)           0         \n",
      "_________________________________________________________________\n",
      "lstm_1 (LSTM)                (None, 30, 100)           80400     \n",
      "_________________________________________________________________\n",
      "dropout_1 (Dropout)          (None, 30, 100)           0         \n",
      "_________________________________________________________________\n",
      "lstm_2 (LSTM)                (None, 30, 100)           80400     \n",
      "_________________________________________________________________\n",
      "dropout_2 (Dropout)          (None, 30, 100)           0         \n",
      "_________________________________________________________________\n",
      "lstm_3 (LSTM)                (None, 30, 50)            30200     \n",
      "_________________________________________________________________\n",
      "dropout_3 (Dropout)          (None, 30, 50)            0         \n",
      "_________________________________________________________________\n",
      "lstm_4 (LSTM)                (None, 20)                5680      \n",
      "_________________________________________________________________\n",
      "dropout_4 (Dropout)          (None, 20)                0         \n",
      "_________________________________________________________________\n",
      "dense (Dense)                (None, 1)                 21        \n",
      "=================================================================\n",
      "Total params: 237,901\n",
      "Trainable params: 237,901\n",
      "Non-trainable params: 0\n",
      "_________________________________________________________________\n"
     ]
    }
   ],
   "source": [
    "model.summary()"
   ]
  },
  {
   "cell_type": "code",
   "execution_count": 35,
   "metadata": {},
   "outputs": [
    {
     "name": "stdout",
     "output_type": "stream",
     "text": [
      "Xtest\n",
      " [[0.2174624  0.71485939]\n",
      " [0.21331822 0.69045222]\n",
      " [0.21143948 0.70231158]] \n",
      "\n",
      "Xtest\n",
      " [[0.21331822 0.69045222]\n",
      " [0.21143948 0.70231158]\n",
      " [0.22396838 0.77800748]] \n",
      "\n",
      "ytest\n",
      " [0.26472983 0.2663552  0.26889371 0.3005085  0.32471345]\n",
      "ytrain\n",
      " [0.01972279 0.01856358 0.01688422 0.01827262 0.01954063]\n",
      "BEFORE INVERT\n",
      "trainPredict 1138 \n",
      " [[0.02682304]\n",
      " [0.02632196]\n",
      " [0.02473218]\n",
      " [0.02259038]\n",
      " [0.0235156 ]]\n",
      "testPredict 262 \n",
      " [[0.23745081]\n",
      " [0.24141648]\n",
      " [0.24221003]\n",
      " [0.24465537]\n",
      " [0.2762037 ]]\n"
     ]
    }
   ],
   "source": [
    "trainPredict = model.predict(Xtrain)\n",
    "testPredict = model.predict(Xtest)\n",
    "\n",
    "print(\"Xtest\\n\",Xtest[0][:3],\"\\n\")\n",
    "print(\"Xtest\\n\",Xtest[1][:3],\"\\n\")\n",
    "print(\"ytest\\n\",ytest[:5])\n",
    "print(\"ytrain\\n\",ytrain[:5])\n",
    "\n",
    "print(\"BEFORE INVERT\")\n",
    "print(\"trainPredict\",len(trainPredict),\"\\n\",trainPredict[:5])\n",
    "print(\"testPredict\",len(testPredict),\"\\n\",testPredict[:5])"
   ]
  },
  {
   "cell_type": "code",
   "execution_count": 36,
   "metadata": {},
   "outputs": [],
   "source": [
    "trainPredict = np.c_[trainPredict, np.zeros(trainPredict.shape)]\n",
    "testPredict = np.c_[testPredict, np.zeros(testPredict.shape)]"
   ]
  },
  {
   "cell_type": "code",
   "execution_count": 37,
   "metadata": {},
   "outputs": [],
   "source": [
    "# invert predictions\n",
    "trainPredict = scaler.inverse_transform(trainPredict)\n",
    "trainPredict = [x[0] for x in trainPredict]\n",
    "\n",
    "testPredict = scaler.inverse_transform(testPredict)\n",
    "testPredict = [x[0] for x in testPredict]"
   ]
  },
  {
   "cell_type": "code",
   "execution_count": 38,
   "metadata": {},
   "outputs": [
    {
     "name": "stdout",
     "output_type": "stream",
     "text": [
      "AFTER INVERT\n",
      "1138 262\n",
      "real (1460,) \n",
      " date\n",
      "1.50431E+12    4472.14\n",
      "1.5044E+12     4509.08\n",
      "1.50448E+12    4100.11\n",
      "1.50457E+12    4366.47\n",
      "1.50466E+12    4619.77\n",
      "Name: close, dtype: float64\n",
      "trainPredict 1138 [4808.755337938816, 4778.49704971239, 4682.49669824265, 4553.1624696102745, 4609.032369273604]\n",
      "testPredict 262 [17527.7197601825, 17767.190981590153, 17815.110060937404, 17962.77432272434, 19867.850618585348, 20962.175396081806, 20920.843008078336, 21702.969413734078, 21135.17682383299, 20570.772960653307]\n",
      "real_test 292 [16320.7, 16070.45, 15957.0, 16713.57, 17659.38, 17776.12, 17802.82, 18655.67, 18703.8, 18414.43]\n"
     ]
    }
   ],
   "source": [
    "print(\"AFTER INVERT\")\n",
    "print(len(Xtrain),len(Xtest))\n",
    "print(\"real\",df.close.shape,\"\\n\",df.close[:5])\n",
    "print(\"trainPredict\",len(trainPredict),trainPredict[:5])\n",
    "print(\"testPredict\",len(testPredict),testPredict[:10])\n",
    "# print(\"targetY\",len(scaler.inverse_transform(y_test)),scaler.inverse_transform(y_test)[:5])\n",
    "# real_test = np.c_[y_test, np.zeros(len(y_test))]\n",
    "# real_test=scaler.inverse_transform(real_test)\n",
    "# real_test=real_test.T.tolist()[0]\n",
    "\n",
    "real_test=y_test_backup\n",
    "# print(\"targetY\",len(scaler.inverse_transform(real_test)))\n",
    "print(\"real_test\",len(real_test),real_test[:10])\n",
    "d = {\"real\":real_test,\"pred\":(list(np.zeros(n))+testPredict)}\n",
    "# df = pd.DataFrame(data=d)\n",
    "out=pd.DataFrame(data=d)\n",
    "out.to_csv(\"vamoa.csv\")"
   ]
  },
  {
   "cell_type": "code",
   "execution_count": 39,
   "metadata": {
    "scrolled": false
   },
   "outputs": [
    {
     "name": "stdout",
     "output_type": "stream",
     "text": [
      "range(1168, 1430)\n"
     ]
    },
    {
     "data": {
      "text/plain": [
       "<matplotlib.legend.Legend at 0x80c380cf10>"
      ]
     },
     "execution_count": 39,
     "metadata": {},
     "output_type": "execute_result"
    },
    {
     "data": {
      "image/png": "[encoded data removed]",
      "text/plain": [
       "<Figure size 1080x720 with 1 Axes>"
      ]
     },
     "metadata": {
      "needs_background": "light"
     },
     "output_type": "display_data"
    }
   ],
   "source": [
    "print(range(len(trainPredict)+n,len(trainPredict)+len(testPredict)+n))\n",
    "\n",
    "fig, ax = plt.subplots(figsize=(15,10))\n",
    "plt.plot(df.close,color='red', label=\"real\")\n",
    "plt.plot(list(np.zeros(n))+(trainPredict),color='green', label=\"Predicted Train\")\n",
    "ax.plot(range(len(trainPredict)+n,\n",
    "              len(trainPredict)+len(testPredict)+n),\n",
    "              testPredict,\n",
    "              color='blue',\n",
    "              label='Predicted Test')\n",
    "plt.legend()\n",
    "\n",
    "#TODO so o teste"
   ]
  },
  {
   "cell_type": "code",
   "execution_count": 40,
   "metadata": {},
   "outputs": [
    {
     "data": {
      "text/plain": [
       "<matplotlib.legend.Legend at 0x80c5099820>"
      ]
     },
     "execution_count": 40,
     "metadata": {},
     "output_type": "execute_result"
    },
    {
     "data": {
      "image/png": "[encoded data removed]",
      "text/plain": [
       "<Figure size 1080x720 with 1 Axes>"
      ]
     },
     "metadata": {
      "needs_background": "light"
     },
     "output_type": "display_data"
    }
   ],
   "source": [
    "fig, ax = plt.subplots(figsize=(15,10))\n",
    "plt.plot(real_test,color='red', label=\"real\")\n",
    "plt.plot((list(np.zeros(n))+testPredict),color='green', label=\"Predicted Test\")\n",
    "plt.legend()"
   ]
  },
  {
   "cell_type": "code",
   "execution_count": 41,
   "metadata": {},
   "outputs": [],
   "source": [
    "from sklearn.metrics import mean_squared_error\n",
    "from sklearn import preprocessing"
   ]
  },
  {
   "cell_type": "code",
   "execution_count": 42,
   "metadata": {},
   "outputs": [
    {
     "name": "stdout",
     "output_type": "stream",
     "text": [
      "train Score: 485.76 RMSE\n",
      "Test Score: 11930.65 RMSE\n"
     ]
    }
   ],
   "source": [
    "# print(trainPredict[:2])\n",
    "# print(\"mean\",Xtrain[0].mean(axis=0))\n",
    "# print(\"mean\",np.array(trainPredict).mean(axis=0))\n",
    "# real_train = np.c_[y_train, np.zeros(len(y_train))]\n",
    "# real_train = scaler.inverse_transform(real_train)\n",
    "# real_train=real_train.T.tolist()[0]\n",
    "real_train=y_train_backup\n",
    "# print(real_train[n:,0].shape,len(trainPredict))\n",
    "# print(real_train[n:,0][:5])\n",
    "trainScore = mean_squared_error(real_train[n:], trainPredict, squared=False)\n",
    "print(\"train Score: %.2f RMSE\" % (trainScore))\n",
    "\n",
    "testScore = mean_squared_error(real_test[n:], testPredict, squared=False)\n",
    "print(\"Test Score: %.2f RMSE\" % (testScore))\n",
    "\n",
    "# trainScore = mean_squared_error([x[0][0] for x in Xtrain], trainPredict, squared=False)\n",
    "# print(\"train Score: %.2f RMSE\" % (trainScore))\n",
    "\n",
    "# testScore = mean_squared_error([x[0][0] for x in Xtest], testPredict, squared=False)\n",
    "# print(\"Test Score: %.2f RMSE\" % (testScore))"
   ]
  },
  {
   "cell_type": "code",
   "execution_count": 43,
   "metadata": {},
   "outputs": [
    {
     "name": "stdout",
     "output_type": "stream",
     "text": [
      "BTC Train Score: 485.76 RMSE\n",
      "BTC Test Score: 11930.65 RMSE\n",
      "ETH Test Score: 234.90 RMSE\n"
     ]
    }
   ],
   "source": [
    "df2=pd.read_csv(\"data/eth.csv\")\n",
    "df2.set_index(\"date\", drop=True, inplace=True)\n",
    "df2 = df2[[\"close\"]]\n",
    "df2[\"returns\"] = df2.close.pct_change()\n",
    "df2[\"log_returns\"] = np.log(1 + df2[\"returns\"])\n",
    "df2.dropna(inplace=True) #drop NANs\n",
    "\n",
    "X2 = df2[[\"close\", \"log_returns\"]].values\n",
    "X_backup2=X2\n",
    "# print(X2.shape)\n",
    "scaler2 = MinMaxScaler(feature_range=(0, 1)).fit(X2)\n",
    "# scaler2 = StandardScaler().fit(X2)\n",
    "X2 = scaler2.transform(X2)\n",
    "y2 = [x[0] for x in X2]\n",
    "y_backup2 = [x[0] for x in X_backup2]\n",
    "\n",
    "#DATA SEPARATION\n",
    "Xtest2 = []\n",
    "ytest2 = []\n",
    "for i in range(n, len(X2)):\n",
    "    Xtest2.append(X2[i - n : i, : X2.shape[1]])\n",
    "    ytest2.append(y2[i])  # predict next record\n",
    "\n",
    "Xtest2, ytest2 = (np.array(Xtest2), np.array(ytest2))\n",
    "Xtest2 = np.reshape(Xtest2, (Xtest2.shape[0], Xtest2.shape[1], Xtest2.shape[2]))\n",
    "# print(Xtest2.shape)\n",
    "Predict2 = model.predict(Xtest2)\n",
    "Predict2 = np.c_[Predict2, np.zeros(Predict2.shape)]\n",
    "\n",
    "Predict2 = scaler2.inverse_transform(Predict2)\n",
    "Predict2 = [x[0] for x in Predict2]\n",
    "\n",
    "# real_test2 = np.c_[ytest2, np.zeros(len(ytest2))]\n",
    "# real_test2 = scaler2.inverse_transform(real_test2)\n",
    "# real_test2 = real_test2.T.tolist()[0]\n",
    "real_test2=y_backup2\n",
    "# print(type(real_test2),len(real_test2),type(Predict2),len(Predict2))\n",
    "# print(\"targetY\",len(scaler2.inverse_transform(real_test2)),real_test2[:10])\n",
    "d2 = {\"real\":real_test2[n:],\"pred\":Predict2}\n",
    "out2=pd.DataFrame(data=d2)\n",
    "out2.to_csv(\"vamoa2.csv\")\n",
    "\n",
    "print(\"BTC Train Score: %.2f RMSE\" % (trainScore))\n",
    "print(\"BTC Test Score: %.2f RMSE\" % (testScore))\n",
    "\n",
    "testScoreEth = mean_squared_error(real_test2[n:], Predict2, squared=False)\n",
    "print(\"ETH Test Score: %.2f RMSE\" % (testScoreEth))"
   ]
  },
  {
   "cell_type": "code",
   "execution_count": 44,
   "metadata": {},
   "outputs": [
    {
     "data": {
      "text/plain": [
       "<matplotlib.legend.Legend at 0x80c57c6ac0>"
      ]
     },
     "execution_count": 44,
     "metadata": {},
     "output_type": "execute_result"
    },
    {
     "data": {
      "image/png": "[encoded data removed]",
      "text/plain": [
       "<Figure size 1080x720 with 1 Axes>"
      ]
     },
     "metadata": {
      "needs_background": "light"
     },
     "output_type": "display_data"
    }
   ],
   "source": [
    "fig, ax = plt.subplots(figsize=(15,10))\n",
    "plt.plot(real_test2,color='red', label=\"real\")\n",
    "plt.plot((list(np.zeros(n))+Predict2),color='green', label=\"Predicted ETH\")\n",
    "plt.legend()"
   ]
  },
  {
   "cell_type": "code",
   "execution_count": null,
   "metadata": {},
   "outputs": [],
   "source": []
  }
 ],
 "metadata": {
  "kernelspec": {
   "display_name": "Python 3",
   "language": "python",
   "name": "python3"
  },
  "language_info": {
   "codemirror_mode": {
    "name": "ipython",
    "version": 3
   },
   "file_extension": ".py",
   "mimetype": "text/x-python",
   "name": "python",
   "nbconvert_exporter": "python",
   "pygments_lexer": "ipython3",
   "version": "3.8.5"
  }
 },
 "nbformat": 4,
 "nbformat_minor": 4
}
